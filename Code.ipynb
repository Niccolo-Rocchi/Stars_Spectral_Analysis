{
  "nbformat": 4,
  "nbformat_minor": 0,
  "metadata": {
    "colab": {
      "provenance": [],
      "authorship_tag": "ABX9TyNd+wAxSGKFeYJWqsgG0/V0",
      "include_colab_link": true
    },
    "kernelspec": {
      "name": "python3",
      "display_name": "Python 3"
    },
    "language_info": {
      "name": "python"
    }
  },
  "cells": [
    {
      "cell_type": "markdown",
      "metadata": {
        "id": "view-in-github",
        "colab_type": "text"
      },
      "source": [
        "<a href=\"https://colab.research.google.com/github/Niccolo-Rocchi/Stars_Spectral_Analysis/blob/main/Code.ipynb\" target=\"_parent\"><img src=\"https://colab.research.google.com/assets/colab-badge.svg\" alt=\"Open In Colab\"/></a>"
      ]
    },
    {
      "cell_type": "code",
      "source": [
        "%%capture\n",
        "!pip install streamlit\n",
        "!pip install pandas numpy plotly matplotlib scipy\n",
        "!wget https://raw.githubusercontent.com/riccardomarin/EG22_Tutorial_Spectral_Geometry/main/utils/utils_spectral.py"
      ],
      "metadata": {
        "id": "eJIf4YNAke-R"
      },
      "execution_count": 1,
      "outputs": []
    },
    {
      "cell_type": "code",
      "execution_count": 2,
      "metadata": {
        "id": "bfp9jDm_7XGC"
      },
      "outputs": [],
      "source": [
        "import pandas as pd\n",
        "import numpy as np\n",
        "import plotly.graph_objects as go\n",
        "import matplotlib.pyplot as plt\n",
        "import matplotlib.cm as cm\n",
        "import streamlit as st\n",
        "import re\n",
        "import math\n",
        "import scipy\n",
        "from scipy.spatial.distance import pdist, squareform\n",
        "from scipy import sparse\n",
        "from sklearn.metrics.pairwise import pairwise_distances\n",
        "from sklearn.cluster import KMeans\n",
        "from sklearn.model_selection import train_test_split\n",
        "from utils_spectral import LB_FEM_sparse, EigendecompositionSparse, LB_cotan, Eigendecomposition\n",
        "import random"
      ]
    },
    {
      "cell_type": "markdown",
      "source": [
        "## Abstract"
      ],
      "metadata": {
        "id": "vqW3BOlQqxGr"
      }
    },
    {
      "cell_type": "markdown",
      "source": [
        "`TODO`"
      ],
      "metadata": {
        "id": "n_Hl79edq2wc"
      }
    },
    {
      "cell_type": "markdown",
      "source": [
        "## Introduction"
      ],
      "metadata": {
        "id": "e1sf7pvzqzY-"
      }
    },
    {
      "cell_type": "markdown",
      "source": [
        "`TODO`"
      ],
      "metadata": {
        "id": "O2wu0mb5q1Sy"
      }
    },
    {
      "cell_type": "markdown",
      "source": [
        "## Preprocessing"
      ],
      "metadata": {
        "id": "y1Nb0aDNqDeb"
      }
    },
    {
      "cell_type": "markdown",
      "source": [
        "Data can be found [here](http://www.astronexus.com/hyg)."
      ],
      "metadata": {
        "id": "gzLImOwCbE29"
      }
    },
    {
      "cell_type": "code",
      "source": [
        "# Read data with pandas\n",
        "stars = pd.read_csv(\"https://raw.githubusercontent.com/astronexus/HYG-Database/main/hyg/v3/hyg_v37.csv\")"
      ],
      "metadata": {
        "id": "AtKV_fl3EXe3"
      },
      "execution_count": 3,
      "outputs": []
    },
    {
      "cell_type": "code",
      "source": [
        "# Select subset of columns\n",
        "columns = [\"id\", \"proper\", \"dist\", \"absmag\", \"spect\", \"ci\", \"x\", \"y\", \"z\"]\n",
        "stars = stars[columns]\n",
        "\n",
        "# Select subset of rows (distance is in parsecs)\n",
        "stars = stars[stars[\"dist\"] < 1e3]\n",
        "stars = stars.dropna(0, subset = [\"ci\", \"absmag\"])\n",
        "\n",
        "# Convert spectrum to string\n",
        "stars[\"spect\"] = stars[\"spect\"].apply(lambda x: str(x))"
      ],
      "metadata": {
        "colab": {
          "base_uri": "https://localhost:8080/"
        },
        "id": "cLrOCdWOHeaH",
        "outputId": "af6f3b5f-1e0a-4402-9038-d7a8e44498f2"
      },
      "execution_count": 4,
      "outputs": [
        {
          "output_type": "stream",
          "name": "stderr",
          "text": [
            "<ipython-input-4-e33ef56ccc5b>:7: FutureWarning: In a future version of pandas all arguments of DataFrame.dropna will be keyword-only.\n",
            "  stars = stars.dropna(0, subset = [\"ci\", \"absmag\"])\n"
          ]
        }
      ]
    },
    {
      "cell_type": "markdown",
      "source": [
        "Spectrum. See this [link](https://it.wikipedia.org/wiki/Classificazione_stellare)."
      ],
      "metadata": {
        "id": "izcAsfwva2Vv"
      }
    },
    {
      "cell_type": "code",
      "source": [
        "# Example of spectra\n",
        "np.unique(stars[\"spect\"])[1:20]"
      ],
      "metadata": {
        "colab": {
          "base_uri": "https://localhost:8080/"
        },
        "id": "zPIshVa3YYQL",
        "outputId": "cfee2439-fa6c-439d-8663-f33d023aecc8"
      },
      "execution_count": 5,
      "outputs": [
        {
          "output_type": "execute_result",
          "data": {
            "text/plain": [
              "array(['A', 'A comp SB', 'A+...', 'A-F', 'A...', 'A0', 'A0+...', 'A0...',\n",
              "       'A0/1V + K1/2', 'A0/2V + A9:', 'A0/A1', 'A0/A1III', 'A0/A1IV',\n",
              "       'A0/A1IV/V', 'A0/A1IVp...', 'A0/A1Ia', 'A0/A1V', 'A0/A1V:',\n",
              "       'A0/A1Vn'], dtype=object)"
            ]
          },
          "metadata": {},
          "execution_count": 5
        }
      ]
    },
    {
      "cell_type": "markdown",
      "source": [
        "[Link](https://regex101.com/) for regex."
      ],
      "metadata": {
        "id": "-Mq0bsIahK2z"
      }
    },
    {
      "cell_type": "code",
      "source": [
        "# Infer star subtype\n",
        "def find_subtype(x):\n",
        "  r = re.findall(\"^[a-z]\\d\", str.lower(x))\n",
        "  result = r[0][-1] if r else \"nan\"\n",
        "  return str(result)\n",
        "\n",
        "stars[\"subtype\"] = stars[\"spect\"].apply(lambda x: find_subtype(x))\n",
        "# Drop missing\n",
        "stars = stars[stars[\"subtype\"] != \"nan\"]\n",
        "assert(len(np.unique(stars[\"subtype\"]) == 10))"
      ],
      "metadata": {
        "id": "7kHIlJ6SmTaH"
      },
      "execution_count": 6,
      "outputs": []
    },
    {
      "cell_type": "code",
      "source": [
        "stars.head()"
      ],
      "metadata": {
        "colab": {
          "base_uri": "https://localhost:8080/",
          "height": 206
        },
        "id": "ZDEAQc6EqEq7",
        "outputId": "4e62e05c-9c24-42f1-8f8d-db38d7a6b829"
      },
      "execution_count": 7,
      "outputs": [
        {
          "output_type": "execute_result",
          "data": {
            "text/plain": [
              "   id proper      dist  absmag spect     ci           x         y           z  \\\n",
              "0   0    Sol    0.0000   4.850   G2V  0.656    0.000005  0.000000    0.000000   \n",
              "1   1    NaN  219.7802   2.390    F5  0.482  219.740502  0.003449    4.177065   \n",
              "2   2    NaN   47.9616   5.866   K3V  0.999   45.210918  0.003365  -16.008996   \n",
              "3   3    NaN  442.4779  -1.619    B9 -0.019  344.552785  0.030213  277.614965   \n",
              "4   4    NaN  134.2282   2.421   F0V  0.370   82.835513  0.012476 -105.619540   \n",
              "\n",
              "  subtype  \n",
              "0       2  \n",
              "1       5  \n",
              "2       3  \n",
              "3       9  \n",
              "4       0  "
            ],
            "text/html": [
              "\n",
              "  <div id=\"df-33b07e04-b2b4-41f5-87eb-9d25d96601bd\" class=\"colab-df-container\">\n",
              "    <div>\n",
              "<style scoped>\n",
              "    .dataframe tbody tr th:only-of-type {\n",
              "        vertical-align: middle;\n",
              "    }\n",
              "\n",
              "    .dataframe tbody tr th {\n",
              "        vertical-align: top;\n",
              "    }\n",
              "\n",
              "    .dataframe thead th {\n",
              "        text-align: right;\n",
              "    }\n",
              "</style>\n",
              "<table border=\"1\" class=\"dataframe\">\n",
              "  <thead>\n",
              "    <tr style=\"text-align: right;\">\n",
              "      <th></th>\n",
              "      <th>id</th>\n",
              "      <th>proper</th>\n",
              "      <th>dist</th>\n",
              "      <th>absmag</th>\n",
              "      <th>spect</th>\n",
              "      <th>ci</th>\n",
              "      <th>x</th>\n",
              "      <th>y</th>\n",
              "      <th>z</th>\n",
              "      <th>subtype</th>\n",
              "    </tr>\n",
              "  </thead>\n",
              "  <tbody>\n",
              "    <tr>\n",
              "      <th>0</th>\n",
              "      <td>0</td>\n",
              "      <td>Sol</td>\n",
              "      <td>0.0000</td>\n",
              "      <td>4.850</td>\n",
              "      <td>G2V</td>\n",
              "      <td>0.656</td>\n",
              "      <td>0.000005</td>\n",
              "      <td>0.000000</td>\n",
              "      <td>0.000000</td>\n",
              "      <td>2</td>\n",
              "    </tr>\n",
              "    <tr>\n",
              "      <th>1</th>\n",
              "      <td>1</td>\n",
              "      <td>NaN</td>\n",
              "      <td>219.7802</td>\n",
              "      <td>2.390</td>\n",
              "      <td>F5</td>\n",
              "      <td>0.482</td>\n",
              "      <td>219.740502</td>\n",
              "      <td>0.003449</td>\n",
              "      <td>4.177065</td>\n",
              "      <td>5</td>\n",
              "    </tr>\n",
              "    <tr>\n",
              "      <th>2</th>\n",
              "      <td>2</td>\n",
              "      <td>NaN</td>\n",
              "      <td>47.9616</td>\n",
              "      <td>5.866</td>\n",
              "      <td>K3V</td>\n",
              "      <td>0.999</td>\n",
              "      <td>45.210918</td>\n",
              "      <td>0.003365</td>\n",
              "      <td>-16.008996</td>\n",
              "      <td>3</td>\n",
              "    </tr>\n",
              "    <tr>\n",
              "      <th>3</th>\n",
              "      <td>3</td>\n",
              "      <td>NaN</td>\n",
              "      <td>442.4779</td>\n",
              "      <td>-1.619</td>\n",
              "      <td>B9</td>\n",
              "      <td>-0.019</td>\n",
              "      <td>344.552785</td>\n",
              "      <td>0.030213</td>\n",
              "      <td>277.614965</td>\n",
              "      <td>9</td>\n",
              "    </tr>\n",
              "    <tr>\n",
              "      <th>4</th>\n",
              "      <td>4</td>\n",
              "      <td>NaN</td>\n",
              "      <td>134.2282</td>\n",
              "      <td>2.421</td>\n",
              "      <td>F0V</td>\n",
              "      <td>0.370</td>\n",
              "      <td>82.835513</td>\n",
              "      <td>0.012476</td>\n",
              "      <td>-105.619540</td>\n",
              "      <td>0</td>\n",
              "    </tr>\n",
              "  </tbody>\n",
              "</table>\n",
              "</div>\n",
              "    <div class=\"colab-df-buttons\">\n",
              "\n",
              "  <div class=\"colab-df-container\">\n",
              "    <button class=\"colab-df-convert\" onclick=\"convertToInteractive('df-33b07e04-b2b4-41f5-87eb-9d25d96601bd')\"\n",
              "            title=\"Convert this dataframe to an interactive table.\"\n",
              "            style=\"display:none;\">\n",
              "\n",
              "  <svg xmlns=\"http://www.w3.org/2000/svg\" height=\"24px\" viewBox=\"0 -960 960 960\">\n",
              "    <path d=\"M120-120v-720h720v720H120Zm60-500h600v-160H180v160Zm220 220h160v-160H400v160Zm0 220h160v-160H400v160ZM180-400h160v-160H180v160Zm440 0h160v-160H620v160ZM180-180h160v-160H180v160Zm440 0h160v-160H620v160Z\"/>\n",
              "  </svg>\n",
              "    </button>\n",
              "\n",
              "  <style>\n",
              "    .colab-df-container {\n",
              "      display:flex;\n",
              "      gap: 12px;\n",
              "    }\n",
              "\n",
              "    .colab-df-convert {\n",
              "      background-color: #E8F0FE;\n",
              "      border: none;\n",
              "      border-radius: 50%;\n",
              "      cursor: pointer;\n",
              "      display: none;\n",
              "      fill: #1967D2;\n",
              "      height: 32px;\n",
              "      padding: 0 0 0 0;\n",
              "      width: 32px;\n",
              "    }\n",
              "\n",
              "    .colab-df-convert:hover {\n",
              "      background-color: #E2EBFA;\n",
              "      box-shadow: 0px 1px 2px rgba(60, 64, 67, 0.3), 0px 1px 3px 1px rgba(60, 64, 67, 0.15);\n",
              "      fill: #174EA6;\n",
              "    }\n",
              "\n",
              "    .colab-df-buttons div {\n",
              "      margin-bottom: 4px;\n",
              "    }\n",
              "\n",
              "    [theme=dark] .colab-df-convert {\n",
              "      background-color: #3B4455;\n",
              "      fill: #D2E3FC;\n",
              "    }\n",
              "\n",
              "    [theme=dark] .colab-df-convert:hover {\n",
              "      background-color: #434B5C;\n",
              "      box-shadow: 0px 1px 3px 1px rgba(0, 0, 0, 0.15);\n",
              "      filter: drop-shadow(0px 1px 2px rgba(0, 0, 0, 0.3));\n",
              "      fill: #FFFFFF;\n",
              "    }\n",
              "  </style>\n",
              "\n",
              "    <script>\n",
              "      const buttonEl =\n",
              "        document.querySelector('#df-33b07e04-b2b4-41f5-87eb-9d25d96601bd button.colab-df-convert');\n",
              "      buttonEl.style.display =\n",
              "        google.colab.kernel.accessAllowed ? 'block' : 'none';\n",
              "\n",
              "      async function convertToInteractive(key) {\n",
              "        const element = document.querySelector('#df-33b07e04-b2b4-41f5-87eb-9d25d96601bd');\n",
              "        const dataTable =\n",
              "          await google.colab.kernel.invokeFunction('convertToInteractive',\n",
              "                                                    [key], {});\n",
              "        if (!dataTable) return;\n",
              "\n",
              "        const docLinkHtml = 'Like what you see? Visit the ' +\n",
              "          '<a target=\"_blank\" href=https://colab.research.google.com/notebooks/data_table.ipynb>data table notebook</a>'\n",
              "          + ' to learn more about interactive tables.';\n",
              "        element.innerHTML = '';\n",
              "        dataTable['output_type'] = 'display_data';\n",
              "        await google.colab.output.renderOutput(dataTable, element);\n",
              "        const docLink = document.createElement('div');\n",
              "        docLink.innerHTML = docLinkHtml;\n",
              "        element.appendChild(docLink);\n",
              "      }\n",
              "    </script>\n",
              "  </div>\n",
              "\n",
              "\n",
              "<div id=\"df-60ceda0f-4ca9-4dda-801b-94bf84f0f6c9\">\n",
              "  <button class=\"colab-df-quickchart\" onclick=\"quickchart('df-60ceda0f-4ca9-4dda-801b-94bf84f0f6c9')\"\n",
              "            title=\"Suggest charts\"\n",
              "            style=\"display:none;\">\n",
              "\n",
              "<svg xmlns=\"http://www.w3.org/2000/svg\" height=\"24px\"viewBox=\"0 0 24 24\"\n",
              "     width=\"24px\">\n",
              "    <g>\n",
              "        <path d=\"M19 3H5c-1.1 0-2 .9-2 2v14c0 1.1.9 2 2 2h14c1.1 0 2-.9 2-2V5c0-1.1-.9-2-2-2zM9 17H7v-7h2v7zm4 0h-2V7h2v10zm4 0h-2v-4h2v4z\"/>\n",
              "    </g>\n",
              "</svg>\n",
              "  </button>\n",
              "\n",
              "<style>\n",
              "  .colab-df-quickchart {\n",
              "      --bg-color: #E8F0FE;\n",
              "      --fill-color: #1967D2;\n",
              "      --hover-bg-color: #E2EBFA;\n",
              "      --hover-fill-color: #174EA6;\n",
              "      --disabled-fill-color: #AAA;\n",
              "      --disabled-bg-color: #DDD;\n",
              "  }\n",
              "\n",
              "  [theme=dark] .colab-df-quickchart {\n",
              "      --bg-color: #3B4455;\n",
              "      --fill-color: #D2E3FC;\n",
              "      --hover-bg-color: #434B5C;\n",
              "      --hover-fill-color: #FFFFFF;\n",
              "      --disabled-bg-color: #3B4455;\n",
              "      --disabled-fill-color: #666;\n",
              "  }\n",
              "\n",
              "  .colab-df-quickchart {\n",
              "    background-color: var(--bg-color);\n",
              "    border: none;\n",
              "    border-radius: 50%;\n",
              "    cursor: pointer;\n",
              "    display: none;\n",
              "    fill: var(--fill-color);\n",
              "    height: 32px;\n",
              "    padding: 0;\n",
              "    width: 32px;\n",
              "  }\n",
              "\n",
              "  .colab-df-quickchart:hover {\n",
              "    background-color: var(--hover-bg-color);\n",
              "    box-shadow: 0 1px 2px rgba(60, 64, 67, 0.3), 0 1px 3px 1px rgba(60, 64, 67, 0.15);\n",
              "    fill: var(--button-hover-fill-color);\n",
              "  }\n",
              "\n",
              "  .colab-df-quickchart-complete:disabled,\n",
              "  .colab-df-quickchart-complete:disabled:hover {\n",
              "    background-color: var(--disabled-bg-color);\n",
              "    fill: var(--disabled-fill-color);\n",
              "    box-shadow: none;\n",
              "  }\n",
              "\n",
              "  .colab-df-spinner {\n",
              "    border: 2px solid var(--fill-color);\n",
              "    border-color: transparent;\n",
              "    border-bottom-color: var(--fill-color);\n",
              "    animation:\n",
              "      spin 1s steps(1) infinite;\n",
              "  }\n",
              "\n",
              "  @keyframes spin {\n",
              "    0% {\n",
              "      border-color: transparent;\n",
              "      border-bottom-color: var(--fill-color);\n",
              "      border-left-color: var(--fill-color);\n",
              "    }\n",
              "    20% {\n",
              "      border-color: transparent;\n",
              "      border-left-color: var(--fill-color);\n",
              "      border-top-color: var(--fill-color);\n",
              "    }\n",
              "    30% {\n",
              "      border-color: transparent;\n",
              "      border-left-color: var(--fill-color);\n",
              "      border-top-color: var(--fill-color);\n",
              "      border-right-color: var(--fill-color);\n",
              "    }\n",
              "    40% {\n",
              "      border-color: transparent;\n",
              "      border-right-color: var(--fill-color);\n",
              "      border-top-color: var(--fill-color);\n",
              "    }\n",
              "    60% {\n",
              "      border-color: transparent;\n",
              "      border-right-color: var(--fill-color);\n",
              "    }\n",
              "    80% {\n",
              "      border-color: transparent;\n",
              "      border-right-color: var(--fill-color);\n",
              "      border-bottom-color: var(--fill-color);\n",
              "    }\n",
              "    90% {\n",
              "      border-color: transparent;\n",
              "      border-bottom-color: var(--fill-color);\n",
              "    }\n",
              "  }\n",
              "</style>\n",
              "\n",
              "  <script>\n",
              "    async function quickchart(key) {\n",
              "      const quickchartButtonEl =\n",
              "        document.querySelector('#' + key + ' button');\n",
              "      quickchartButtonEl.disabled = true;  // To prevent multiple clicks.\n",
              "      quickchartButtonEl.classList.add('colab-df-spinner');\n",
              "      try {\n",
              "        const charts = await google.colab.kernel.invokeFunction(\n",
              "            'suggestCharts', [key], {});\n",
              "      } catch (error) {\n",
              "        console.error('Error during call to suggestCharts:', error);\n",
              "      }\n",
              "      quickchartButtonEl.classList.remove('colab-df-spinner');\n",
              "      quickchartButtonEl.classList.add('colab-df-quickchart-complete');\n",
              "    }\n",
              "    (() => {\n",
              "      let quickchartButtonEl =\n",
              "        document.querySelector('#df-60ceda0f-4ca9-4dda-801b-94bf84f0f6c9 button');\n",
              "      quickchartButtonEl.style.display =\n",
              "        google.colab.kernel.accessAllowed ? 'block' : 'none';\n",
              "    })();\n",
              "  </script>\n",
              "</div>\n",
              "    </div>\n",
              "  </div>\n"
            ]
          },
          "metadata": {},
          "execution_count": 7
        }
      ]
    },
    {
      "cell_type": "code",
      "source": [
        "# Describe dataset\n",
        "stars.describe()"
      ],
      "metadata": {
        "colab": {
          "base_uri": "https://localhost:8080/",
          "height": 300
        },
        "id": "27PWGzbPpWKI",
        "outputId": "1380d019-5f5a-42c7-b3ad-61944f2ac2a4"
      },
      "execution_count": 8,
      "outputs": [
        {
          "output_type": "execute_result",
          "data": {
            "text/plain": [
              "                  id           dist         absmag             ci  \\\n",
              "count  102955.000000  102955.000000  102955.000000  102955.000000   \n",
              "mean    59134.077548     249.272941       1.896419       0.693372   \n",
              "std     34290.046141     188.794196       2.083714       0.470762   \n",
              "min         0.000000       0.000000      -7.223000      -0.400000   \n",
              "25%     29168.500000     112.739600       0.501500       0.356000   \n",
              "50%     59238.000000     198.019800       1.654000       0.600000   \n",
              "75%     88853.500000     330.033000       3.164000       1.057000   \n",
              "max    119618.000000     990.099000      17.986000       5.460000   \n",
              "\n",
              "                   x              y              z  \n",
              "count  102955.000000  102955.000000  102955.000000  \n",
              "mean       -0.092112       1.792605      -7.472068  \n",
              "std       165.275924     180.544818     194.445965  \n",
              "min      -975.513096    -962.045493    -978.837073  \n",
              "25%       -79.023717     -81.427810     -96.538482  \n",
              "50%        -0.134967      -1.399438      -3.919803  \n",
              "75%        79.345041      82.432533      84.881229  \n",
              "max       977.365049     966.239750     970.242767  "
            ],
            "text/html": [
              "\n",
              "  <div id=\"df-4e049679-142f-47ae-8dda-9304edc7f7bd\" class=\"colab-df-container\">\n",
              "    <div>\n",
              "<style scoped>\n",
              "    .dataframe tbody tr th:only-of-type {\n",
              "        vertical-align: middle;\n",
              "    }\n",
              "\n",
              "    .dataframe tbody tr th {\n",
              "        vertical-align: top;\n",
              "    }\n",
              "\n",
              "    .dataframe thead th {\n",
              "        text-align: right;\n",
              "    }\n",
              "</style>\n",
              "<table border=\"1\" class=\"dataframe\">\n",
              "  <thead>\n",
              "    <tr style=\"text-align: right;\">\n",
              "      <th></th>\n",
              "      <th>id</th>\n",
              "      <th>dist</th>\n",
              "      <th>absmag</th>\n",
              "      <th>ci</th>\n",
              "      <th>x</th>\n",
              "      <th>y</th>\n",
              "      <th>z</th>\n",
              "    </tr>\n",
              "  </thead>\n",
              "  <tbody>\n",
              "    <tr>\n",
              "      <th>count</th>\n",
              "      <td>102955.000000</td>\n",
              "      <td>102955.000000</td>\n",
              "      <td>102955.000000</td>\n",
              "      <td>102955.000000</td>\n",
              "      <td>102955.000000</td>\n",
              "      <td>102955.000000</td>\n",
              "      <td>102955.000000</td>\n",
              "    </tr>\n",
              "    <tr>\n",
              "      <th>mean</th>\n",
              "      <td>59134.077548</td>\n",
              "      <td>249.272941</td>\n",
              "      <td>1.896419</td>\n",
              "      <td>0.693372</td>\n",
              "      <td>-0.092112</td>\n",
              "      <td>1.792605</td>\n",
              "      <td>-7.472068</td>\n",
              "    </tr>\n",
              "    <tr>\n",
              "      <th>std</th>\n",
              "      <td>34290.046141</td>\n",
              "      <td>188.794196</td>\n",
              "      <td>2.083714</td>\n",
              "      <td>0.470762</td>\n",
              "      <td>165.275924</td>\n",
              "      <td>180.544818</td>\n",
              "      <td>194.445965</td>\n",
              "    </tr>\n",
              "    <tr>\n",
              "      <th>min</th>\n",
              "      <td>0.000000</td>\n",
              "      <td>0.000000</td>\n",
              "      <td>-7.223000</td>\n",
              "      <td>-0.400000</td>\n",
              "      <td>-975.513096</td>\n",
              "      <td>-962.045493</td>\n",
              "      <td>-978.837073</td>\n",
              "    </tr>\n",
              "    <tr>\n",
              "      <th>25%</th>\n",
              "      <td>29168.500000</td>\n",
              "      <td>112.739600</td>\n",
              "      <td>0.501500</td>\n",
              "      <td>0.356000</td>\n",
              "      <td>-79.023717</td>\n",
              "      <td>-81.427810</td>\n",
              "      <td>-96.538482</td>\n",
              "    </tr>\n",
              "    <tr>\n",
              "      <th>50%</th>\n",
              "      <td>59238.000000</td>\n",
              "      <td>198.019800</td>\n",
              "      <td>1.654000</td>\n",
              "      <td>0.600000</td>\n",
              "      <td>-0.134967</td>\n",
              "      <td>-1.399438</td>\n",
              "      <td>-3.919803</td>\n",
              "    </tr>\n",
              "    <tr>\n",
              "      <th>75%</th>\n",
              "      <td>88853.500000</td>\n",
              "      <td>330.033000</td>\n",
              "      <td>3.164000</td>\n",
              "      <td>1.057000</td>\n",
              "      <td>79.345041</td>\n",
              "      <td>82.432533</td>\n",
              "      <td>84.881229</td>\n",
              "    </tr>\n",
              "    <tr>\n",
              "      <th>max</th>\n",
              "      <td>119618.000000</td>\n",
              "      <td>990.099000</td>\n",
              "      <td>17.986000</td>\n",
              "      <td>5.460000</td>\n",
              "      <td>977.365049</td>\n",
              "      <td>966.239750</td>\n",
              "      <td>970.242767</td>\n",
              "    </tr>\n",
              "  </tbody>\n",
              "</table>\n",
              "</div>\n",
              "    <div class=\"colab-df-buttons\">\n",
              "\n",
              "  <div class=\"colab-df-container\">\n",
              "    <button class=\"colab-df-convert\" onclick=\"convertToInteractive('df-4e049679-142f-47ae-8dda-9304edc7f7bd')\"\n",
              "            title=\"Convert this dataframe to an interactive table.\"\n",
              "            style=\"display:none;\">\n",
              "\n",
              "  <svg xmlns=\"http://www.w3.org/2000/svg\" height=\"24px\" viewBox=\"0 -960 960 960\">\n",
              "    <path d=\"M120-120v-720h720v720H120Zm60-500h600v-160H180v160Zm220 220h160v-160H400v160Zm0 220h160v-160H400v160ZM180-400h160v-160H180v160Zm440 0h160v-160H620v160ZM180-180h160v-160H180v160Zm440 0h160v-160H620v160Z\"/>\n",
              "  </svg>\n",
              "    </button>\n",
              "\n",
              "  <style>\n",
              "    .colab-df-container {\n",
              "      display:flex;\n",
              "      gap: 12px;\n",
              "    }\n",
              "\n",
              "    .colab-df-convert {\n",
              "      background-color: #E8F0FE;\n",
              "      border: none;\n",
              "      border-radius: 50%;\n",
              "      cursor: pointer;\n",
              "      display: none;\n",
              "      fill: #1967D2;\n",
              "      height: 32px;\n",
              "      padding: 0 0 0 0;\n",
              "      width: 32px;\n",
              "    }\n",
              "\n",
              "    .colab-df-convert:hover {\n",
              "      background-color: #E2EBFA;\n",
              "      box-shadow: 0px 1px 2px rgba(60, 64, 67, 0.3), 0px 1px 3px 1px rgba(60, 64, 67, 0.15);\n",
              "      fill: #174EA6;\n",
              "    }\n",
              "\n",
              "    .colab-df-buttons div {\n",
              "      margin-bottom: 4px;\n",
              "    }\n",
              "\n",
              "    [theme=dark] .colab-df-convert {\n",
              "      background-color: #3B4455;\n",
              "      fill: #D2E3FC;\n",
              "    }\n",
              "\n",
              "    [theme=dark] .colab-df-convert:hover {\n",
              "      background-color: #434B5C;\n",
              "      box-shadow: 0px 1px 3px 1px rgba(0, 0, 0, 0.15);\n",
              "      filter: drop-shadow(0px 1px 2px rgba(0, 0, 0, 0.3));\n",
              "      fill: #FFFFFF;\n",
              "    }\n",
              "  </style>\n",
              "\n",
              "    <script>\n",
              "      const buttonEl =\n",
              "        document.querySelector('#df-4e049679-142f-47ae-8dda-9304edc7f7bd button.colab-df-convert');\n",
              "      buttonEl.style.display =\n",
              "        google.colab.kernel.accessAllowed ? 'block' : 'none';\n",
              "\n",
              "      async function convertToInteractive(key) {\n",
              "        const element = document.querySelector('#df-4e049679-142f-47ae-8dda-9304edc7f7bd');\n",
              "        const dataTable =\n",
              "          await google.colab.kernel.invokeFunction('convertToInteractive',\n",
              "                                                    [key], {});\n",
              "        if (!dataTable) return;\n",
              "\n",
              "        const docLinkHtml = 'Like what you see? Visit the ' +\n",
              "          '<a target=\"_blank\" href=https://colab.research.google.com/notebooks/data_table.ipynb>data table notebook</a>'\n",
              "          + ' to learn more about interactive tables.';\n",
              "        element.innerHTML = '';\n",
              "        dataTable['output_type'] = 'display_data';\n",
              "        await google.colab.output.renderOutput(dataTable, element);\n",
              "        const docLink = document.createElement('div');\n",
              "        docLink.innerHTML = docLinkHtml;\n",
              "        element.appendChild(docLink);\n",
              "      }\n",
              "    </script>\n",
              "  </div>\n",
              "\n",
              "\n",
              "<div id=\"df-f6a79df7-0f54-4c67-ba90-7ec9a4ca7678\">\n",
              "  <button class=\"colab-df-quickchart\" onclick=\"quickchart('df-f6a79df7-0f54-4c67-ba90-7ec9a4ca7678')\"\n",
              "            title=\"Suggest charts\"\n",
              "            style=\"display:none;\">\n",
              "\n",
              "<svg xmlns=\"http://www.w3.org/2000/svg\" height=\"24px\"viewBox=\"0 0 24 24\"\n",
              "     width=\"24px\">\n",
              "    <g>\n",
              "        <path d=\"M19 3H5c-1.1 0-2 .9-2 2v14c0 1.1.9 2 2 2h14c1.1 0 2-.9 2-2V5c0-1.1-.9-2-2-2zM9 17H7v-7h2v7zm4 0h-2V7h2v10zm4 0h-2v-4h2v4z\"/>\n",
              "    </g>\n",
              "</svg>\n",
              "  </button>\n",
              "\n",
              "<style>\n",
              "  .colab-df-quickchart {\n",
              "      --bg-color: #E8F0FE;\n",
              "      --fill-color: #1967D2;\n",
              "      --hover-bg-color: #E2EBFA;\n",
              "      --hover-fill-color: #174EA6;\n",
              "      --disabled-fill-color: #AAA;\n",
              "      --disabled-bg-color: #DDD;\n",
              "  }\n",
              "\n",
              "  [theme=dark] .colab-df-quickchart {\n",
              "      --bg-color: #3B4455;\n",
              "      --fill-color: #D2E3FC;\n",
              "      --hover-bg-color: #434B5C;\n",
              "      --hover-fill-color: #FFFFFF;\n",
              "      --disabled-bg-color: #3B4455;\n",
              "      --disabled-fill-color: #666;\n",
              "  }\n",
              "\n",
              "  .colab-df-quickchart {\n",
              "    background-color: var(--bg-color);\n",
              "    border: none;\n",
              "    border-radius: 50%;\n",
              "    cursor: pointer;\n",
              "    display: none;\n",
              "    fill: var(--fill-color);\n",
              "    height: 32px;\n",
              "    padding: 0;\n",
              "    width: 32px;\n",
              "  }\n",
              "\n",
              "  .colab-df-quickchart:hover {\n",
              "    background-color: var(--hover-bg-color);\n",
              "    box-shadow: 0 1px 2px rgba(60, 64, 67, 0.3), 0 1px 3px 1px rgba(60, 64, 67, 0.15);\n",
              "    fill: var(--button-hover-fill-color);\n",
              "  }\n",
              "\n",
              "  .colab-df-quickchart-complete:disabled,\n",
              "  .colab-df-quickchart-complete:disabled:hover {\n",
              "    background-color: var(--disabled-bg-color);\n",
              "    fill: var(--disabled-fill-color);\n",
              "    box-shadow: none;\n",
              "  }\n",
              "\n",
              "  .colab-df-spinner {\n",
              "    border: 2px solid var(--fill-color);\n",
              "    border-color: transparent;\n",
              "    border-bottom-color: var(--fill-color);\n",
              "    animation:\n",
              "      spin 1s steps(1) infinite;\n",
              "  }\n",
              "\n",
              "  @keyframes spin {\n",
              "    0% {\n",
              "      border-color: transparent;\n",
              "      border-bottom-color: var(--fill-color);\n",
              "      border-left-color: var(--fill-color);\n",
              "    }\n",
              "    20% {\n",
              "      border-color: transparent;\n",
              "      border-left-color: var(--fill-color);\n",
              "      border-top-color: var(--fill-color);\n",
              "    }\n",
              "    30% {\n",
              "      border-color: transparent;\n",
              "      border-left-color: var(--fill-color);\n",
              "      border-top-color: var(--fill-color);\n",
              "      border-right-color: var(--fill-color);\n",
              "    }\n",
              "    40% {\n",
              "      border-color: transparent;\n",
              "      border-right-color: var(--fill-color);\n",
              "      border-top-color: var(--fill-color);\n",
              "    }\n",
              "    60% {\n",
              "      border-color: transparent;\n",
              "      border-right-color: var(--fill-color);\n",
              "    }\n",
              "    80% {\n",
              "      border-color: transparent;\n",
              "      border-right-color: var(--fill-color);\n",
              "      border-bottom-color: var(--fill-color);\n",
              "    }\n",
              "    90% {\n",
              "      border-color: transparent;\n",
              "      border-bottom-color: var(--fill-color);\n",
              "    }\n",
              "  }\n",
              "</style>\n",
              "\n",
              "  <script>\n",
              "    async function quickchart(key) {\n",
              "      const quickchartButtonEl =\n",
              "        document.querySelector('#' + key + ' button');\n",
              "      quickchartButtonEl.disabled = true;  // To prevent multiple clicks.\n",
              "      quickchartButtonEl.classList.add('colab-df-spinner');\n",
              "      try {\n",
              "        const charts = await google.colab.kernel.invokeFunction(\n",
              "            'suggestCharts', [key], {});\n",
              "      } catch (error) {\n",
              "        console.error('Error during call to suggestCharts:', error);\n",
              "      }\n",
              "      quickchartButtonEl.classList.remove('colab-df-spinner');\n",
              "      quickchartButtonEl.classList.add('colab-df-quickchart-complete');\n",
              "    }\n",
              "    (() => {\n",
              "      let quickchartButtonEl =\n",
              "        document.querySelector('#df-f6a79df7-0f54-4c67-ba90-7ec9a4ca7678 button');\n",
              "      quickchartButtonEl.style.display =\n",
              "        google.colab.kernel.accessAllowed ? 'block' : 'none';\n",
              "    })();\n",
              "  </script>\n",
              "</div>\n",
              "    </div>\n",
              "  </div>\n"
            ]
          },
          "metadata": {},
          "execution_count": 8
        }
      ]
    },
    {
      "cell_type": "code",
      "source": [
        "# Define a plot style for colorring star points\n",
        "def plot_stars(colors, size):\n",
        "  points = np.asarray(stars[[\"x\", \"y\", \"z\"]])\n",
        "  fig = go.Figure(\n",
        "    data=[\n",
        "      go.Scatter3d(\n",
        "        x=points[:,0], y=points[:,1], z=points[:,2],\n",
        "        mode='markers',\n",
        "        marker=dict(size=size, color=colors)\n",
        "  )\n",
        "  ],\n",
        "  layout = go.Layout(\n",
        "      autosize=False,\n",
        "      width=1000,\n",
        "      height=1000,\n",
        "      xaxis=go.layout.XAxis(linecolor=\"black\", linewidth=1, mirror=True),\n",
        "      yaxis=go.layout.YAxis(linecolor=\"black\", linewidth=1, mirror=True),\n",
        "      margin=go.layout.Margin(l=50, r=50, b=100, t=100, pad=4),\n",
        "  )\n",
        "  )\n",
        "\n",
        "  fig.show()"
      ],
      "metadata": {
        "id": "NrnXfPur0xev"
      },
      "execution_count": 9,
      "outputs": []
    },
    {
      "cell_type": "code",
      "source": [
        "points = np.asarray(stars[[\"x\", \"y\", \"z\"]])\n",
        "colors = (points - np.min(points, axis=0))/(np.max(points, axis=0) - np.min(points, axis=0))\n",
        "# plot_stars(colors, 1)"
      ],
      "metadata": {
        "id": "gObqgRwZpYYE"
      },
      "execution_count": 10,
      "outputs": []
    },
    {
      "cell_type": "markdown",
      "source": [
        "## Graph Generation"
      ],
      "metadata": {
        "id": "_x44OQfQrJuL"
      }
    },
    {
      "cell_type": "code",
      "source": [
        "# Sample dataset\n",
        "n = 1000\n",
        "stars = stars.sample(n, random_state = 42)\n",
        "stars.reset_index(inplace = True)\n",
        "stars_val = stars.sample(int(n/10), random_state = 42)"
      ],
      "metadata": {
        "id": "8kiPrMki3Iwt"
      },
      "execution_count": 11,
      "outputs": []
    },
    {
      "cell_type": "code",
      "source": [
        "def similarity_func(u, v):\n",
        "  return 1/(1 + abs(u-v))"
      ],
      "metadata": {
        "id": "O2rQq4b60fLu"
      },
      "execution_count": 12,
      "outputs": []
    },
    {
      "cell_type": "code",
      "source": [
        "# Compute similarity matrix based on color index\n",
        "points_ci = stars[[\"ci\"]]\n",
        "points_ci.index = [idx for idx in range(len(points_ci))]\n",
        "sim_ci = pairwise_distances(X = points_ci, metric = similarity_func, n_jobs = -1)\n",
        "sim_ci.flat[::sim_ci.shape[0] + 1] = 0.0\n",
        "\n",
        "# Compute similarity matrix based on absolute magnitude\n",
        "points_am = stars[[\"absmag\"]]\n",
        "points_am.index = [idx for idx in range(len(points_am))]\n",
        "sim_am = pairwise_distances(X = points_am, metric = similarity_func, n_jobs = -1)\n",
        "sim_am.flat[::sim_am.shape[0] + 1] = 0.0"
      ],
      "metadata": {
        "id": "-hcsBVusrYGk"
      },
      "execution_count": 13,
      "outputs": []
    },
    {
      "cell_type": "code",
      "source": [
        "plt.matshow(sim_ci[:50,:50], cmap=plt.cm.Blues)\n",
        "plt.colorbar()"
      ],
      "metadata": {
        "colab": {
          "base_uri": "https://localhost:8080/",
          "height": 439
        },
        "id": "dClopYMHF7Ef",
        "outputId": "552449f5-cc09-4469-ee46-96672b4af66a"
      },
      "execution_count": 14,
      "outputs": [
        {
          "output_type": "execute_result",
          "data": {
            "text/plain": [
              "<matplotlib.colorbar.Colorbar at 0x7c315a082b00>"
            ]
          },
          "metadata": {},
          "execution_count": 14
        },
        {
          "output_type": "display_data",
          "data": {
            "text/plain": [
              "<Figure size 480x480 with 2 Axes>"
            ],
            "image/png": "[encoded data removed]"
          },
          "metadata": {}
        }
      ]
    },
    {
      "cell_type": "code",
      "source": [
        "plt.matshow(sim_am[:50,:50], cmap=plt.cm.Blues)\n",
        "plt.colorbar()"
      ],
      "metadata": {
        "colab": {
          "base_uri": "https://localhost:8080/",
          "height": 434
        },
        "id": "kZFN32AEGCK_",
        "outputId": "f261d52f-6951-4bdb-acda-e7592f94b4b8"
      },
      "execution_count": 15,
      "outputs": [
        {
          "output_type": "execute_result",
          "data": {
            "text/plain": [
              "<matplotlib.colorbar.Colorbar at 0x7c315a8859f0>"
            ]
          },
          "metadata": {},
          "execution_count": 15
        },
        {
          "output_type": "display_data",
          "data": {
            "text/plain": [
              "<Figure size 480x480 with 2 Axes>"
            ],
            "image/png": "[encoded data removed]"
          },
          "metadata": {}
        }
      ]
    },
    {
      "cell_type": "code",
      "source": [
        "# Combine the two similarity matrices into an adjacency matrix\n",
        "threshold = 0.5\n",
        "sim_ci_cut = (sim_ci > threshold)\n",
        "sim_am_cut = (sim_am > threshold)\n",
        "sim = (sim_ci_cut & sim_am_cut).astype(int)\n",
        "#sim_matrix = squareform(sim)\n",
        "sim_matrix = sim\n",
        "plt.matshow(sim_matrix[:50,:50], cmap=plt.cm.Blues)\n",
        "plt.colorbar()"
      ],
      "metadata": {
        "colab": {
          "base_uri": "https://localhost:8080/",
          "height": 439
        },
        "id": "GTTAb-RQ5JNq",
        "outputId": "2e99f7f5-141c-4b3f-a5b9-504af0256c2a"
      },
      "execution_count": 16,
      "outputs": [
        {
          "output_type": "execute_result",
          "data": {
            "text/plain": [
              "<matplotlib.colorbar.Colorbar at 0x7c315a761c60>"
            ]
          },
          "metadata": {},
          "execution_count": 16
        },
        {
          "output_type": "display_data",
          "data": {
            "text/plain": [
              "<Figure size 480x480 with 2 Axes>"
            ],
            "image/png": "[encoded data removed]"
          },
          "metadata": {}
        }
      ]
    },
    {
      "cell_type": "code",
      "source": [
        "# Convert to sparse matrix\n",
        "W = sparse.csr_matrix(sim_matrix)\n",
        "assert(np.all(W.toarray().T == W.toarray()))\n",
        "\n",
        "# Compute the Laplacian\n",
        "d = np.array(np.sum(W, axis = 1))[:,0]\n",
        "D = sparse.diags(d, format = \"csr\")\n",
        "L = D - W\n",
        "\n",
        "# Compute the symmetric normalized Laplacian\n",
        "D_inv = scipy.linalg.pinv(D.toarray())\n",
        "D_inv = sparse.csr_matrix(D_inv)\n",
        "L_norm = sparse.csr_matrix.sqrt(D_inv) @ L @ sparse.csr_matrix.sqrt(D_inv)\n",
        "\n",
        "# Plot the Laplacian\n",
        "plt.matshow(L_norm.toarray()[:10,:10], cmap=plt.cm.RdBu)\n",
        "plt.colorbar()"
      ],
      "metadata": {
        "colab": {
          "base_uri": "https://localhost:8080/",
          "height": 431
        },
        "id": "vvAX0_Y16Z8z",
        "outputId": "ba9f6469-0280-4851-c246-cccd1c5290e5"
      },
      "execution_count": 17,
      "outputs": [
        {
          "output_type": "execute_result",
          "data": {
            "text/plain": [
              "<matplotlib.colorbar.Colorbar at 0x7c315a0fc760>"
            ]
          },
          "metadata": {},
          "execution_count": 17
        },
        {
          "output_type": "display_data",
          "data": {
            "text/plain": [
              "<Figure size 480x480 with 2 Axes>"
            ],
            "image/png": "[encoded data removed]"
          },
          "metadata": {}
        }
      ]
    },
    {
      "cell_type": "code",
      "source": [
        "len(np.unique(L_norm.toarray()))"
      ],
      "metadata": {
        "colab": {
          "base_uri": "https://localhost:8080/"
        },
        "id": "lC_nT83XuV2Q",
        "outputId": "86da0735-9328-4efa-c396-51fc831ce54d"
      },
      "execution_count": 18,
      "outputs": [
        {
          "output_type": "execute_result",
          "data": {
            "text/plain": [
              "23518"
            ]
          },
          "metadata": {},
          "execution_count": 18
        }
      ]
    },
    {
      "cell_type": "markdown",
      "source": [
        "## Spectral Clustering"
      ],
      "metadata": {
        "id": "ou5yN1NmqZjs"
      }
    },
    {
      "cell_type": "code",
      "source": [
        "evals, evecs = sparse.linalg.eigs(L_norm, k = 100, which = \"SM\")\n",
        "eig = list(zip(evals.real, evecs.real.T))\n",
        "evals, evecs = list(zip(*sorted(eig, key = lambda x: x[0])))\n",
        "evecs = np.array(evecs).T"
      ],
      "metadata": {
        "id": "0MT0Ea_vqdku"
      },
      "execution_count": 19,
      "outputs": []
    },
    {
      "cell_type": "code",
      "source": [
        "plt.plot(evals)"
      ],
      "metadata": {
        "colab": {
          "base_uri": "https://localhost:8080/",
          "height": 447
        },
        "id": "6RIDHD2BI1um",
        "outputId": "780b0199-5a4f-4093-c13b-6ce15584d4bd"
      },
      "execution_count": 20,
      "outputs": [
        {
          "output_type": "execute_result",
          "data": {
            "text/plain": [
              "[<matplotlib.lines.Line2D at 0x7c315a504d60>]"
            ]
          },
          "metadata": {},
          "execution_count": 20
        },
        {
          "output_type": "display_data",
          "data": {
            "text/plain": [
              "<Figure size 640x480 with 1 Axes>"
            ],
            "image/png": "[encoded data removed]"
          },
          "metadata": {}
        }
      ]
    },
    {
      "cell_type": "code",
      "source": [
        "# KMeans (ok with (10, 30) with threshold=0.5 and n=1000)\n",
        "n_c = 10\n",
        "n_e = 30\n",
        "kmeans = KMeans(n_clusters = n_c, random_state=42).fit(evecs[:, :n_e])"
      ],
      "metadata": {
        "colab": {
          "base_uri": "https://localhost:8080/"
        },
        "id": "8EjOO1H0H6ch",
        "outputId": "6c33c3bf-13e0-4708-d1ba-a8125ec157ea"
      },
      "execution_count": 21,
      "outputs": [
        {
          "output_type": "stream",
          "name": "stderr",
          "text": [
            "/usr/local/lib/python3.10/dist-packages/sklearn/cluster/_kmeans.py:870: FutureWarning: The default value of `n_init` will change from 10 to 'auto' in 1.4. Set the value of `n_init` explicitly to suppress the warning\n",
            "  warnings.warn(\n"
          ]
        }
      ]
    },
    {
      "cell_type": "code",
      "source": [
        "# Plot clusters\n",
        "def color_fn():\n",
        "  color = \"#%06x\" % random.randint(0, 0xFFFFFF)\n",
        "  yield color\n",
        "color_dict = {str(c):color_fn().__next__() for c in np.unique(kmeans.labels_)}\n",
        "colors = [color_dict[str(c)] for c in kmeans.labels_]\n",
        "plot_stars(colors, 2)"
      ],
      "metadata": {
        "colab": {
          "base_uri": "https://localhost:8080/",
          "height": 1000
        },
        "id": "zSbP56qiKCxj",
        "outputId": "ea7385f1-daa8-4178-fbab-84e2443608f1"
      },
      "execution_count": 22,
      "outputs": [
        {
          "output_type": "display_data",
          "data": {
            "text/html": [
              "<html>\n",
              "<head><meta charset=\"utf-8\" /></head>\n",
              "<body>\n",
              "    <div>            <script src=\"https://cdnjs.cloudflare.com/ajax/libs/mathjax/2.7.5/MathJax.js?config=TeX-AMS-MML_SVG\"></script><script type=\"text/javascript\">if (window.MathJax && window.MathJax.Hub && window.MathJax.Hub.Config) {window.MathJax.Hub.Config({SVG: {font: \"STIX-Web\"}});}</script>                <script type=\"text/javascript\">window.PlotlyConfig = {MathJaxConfig: 'local'};</script>\n",
              "        <script charset=\"utf-8\" src=\"https://cdn.plot.ly/plotly-2.24.1.min.js\"></script>                <div id=\"d40619e1-e5cd-43ab-ae83-c4e6bddd1d33\" class=\"plotly-graph-div\" style=\"height:1000px; width:1000px;\"></div>            <script type=\"text/javascript\">                                    window.PLOTLYENV=window.PLOTLYENV || {};                                    if (document.getElementById(\"d40619e1-e5cd-43ab-ae83-c4e6bddd1d33\")) {                    Plotly.newPlot(                        \"d40619e1-e5cd-43ab-ae83-c4e6bddd1d33\",                        [{\"marker\":{\"color\":[\"#4137d4\",\"#391e81\",\"#53969b\",\"#391e81\",\"#53969b\",\"#7e1d20\",\"#4137d4\",\"#53969b\",\"#4137d4\",\"#7e1d20\",\"#4137d4\",\"#0cc214\",\"#53969b\",\"#4137d4\",\"#53969b\",\"#7e1d20\",\"#53969b\",\"#391e81\",\"#4137d4\",\"#53969b\",\"#53969b\",\"#53969b\",\"#0cc214\",\"#0cc214\",\"#4137d4\",\"#0cc214\",\"#391e81\",\"#53969b\",\"#0cc214\",\"#391e81\",\"#7e1d20\",\"#0cc214\",\"#0cc214\",\"#391e81\",\"#391e81\",\"#53969b\",\"#391e81\",\"#0cc214\",\"#53969b\",\"#0cc214\",\"#4137d4\",\"#391e81\",\"#53969b\",\"#7e1d20\",\"#7e1d20\",\"#53969b\",\"#53969b\",\"#0cc214\",\"#391e81\",\"#53969b\",\"#53969b\",\"#53969b\",\"#391e81\",\"#4137d4\",\"#7e1d20\",\"#53969b\",\"#7e1d20\",\"#4137d4\",\"#53969b\",\"#53969b\",\"#4137d4\",\"#7e1d20\",\"#4137d4\",\"#4137d4\",\"#391e81\",\"#7e1d20\",\"#391e81\",\"#4137d4\",\"#7e1d20\",\"#53969b\",\"#4137d4\",\"#7e1d20\",\"#53969b\",\"#391e81\",\"#391e81\",\"#53969b\",\"#53969b\",\"#0cc214\",\"#391e81\",\"#4137d4\",\"#391e81\",\"#391e81\",\"#391e81\",\"#7e1d20\",\"#391e81\",\"#391e81\",\"#53969b\",\"#53969b\",\"#0cc214\",\"#0cc214\",\"#391e81\",\"#391e81\",\"#4137d4\",\"#53969b\",\"#7e1d20\",\"#53969b\",\"#391e81\",\"#4137d4\",\"#4137d4\",\"#53969b\",\"#391e81\",\"#7e1d20\",\"#7e1d20\",\"#0cc214\",\"#53969b\",\"#0cc214\",\"#4137d4\",\"#4137d4\",\"#53969b\",\"#391e81\",\"#53969b\",\"#391e81\",\"#53969b\",\"#391e81\",\"#391e81\",\"#7e1d20\",\"#4137d4\",\"#0cc214\",\"#0cc214\",\"#53969b\",\"#0cc214\",\"#0cc214\",\"#391e81\",\"#391e81\",\"#4137d4\",\"#7e1d20\",\"#4137d4\",\"#53969b\",\"#0cc214\",\"#4137d4\",\"#391e81\",\"#53969b\",\"#7e1d20\",\"#4137d4\",\"#53969b\",\"#7e1d20\",\"#0cc214\",\"#53969b\",\"#7e1d20\",\"#53969b\",\"#4137d4\",\"#53969b\",\"#391e81\",\"#7e1d20\",\"#391e81\",\"#4137d4\",\"#4137d4\",\"#391e81\",\"#4137d4\",\"#391e81\",\"#391e81\",\"#4137d4\",\"#391e81\",\"#391e81\",\"#53969b\",\"#4137d4\",\"#391e81\",\"#53969b\",\"#7e1d20\",\"#4137d4\",\"#7e1d20\",\"#4137d4\",\"#391e81\",\"#4137d4\",\"#53969b\",\"#391e81\",\"#53969b\",\"#391e81\",\"#53969b\",\"#0cc214\",\"#53969b\",\"#53969b\",\"#7e1d20\",\"#4137d4\",\"#4137d4\",\"#53969b\",\"#0cc214\",\"#391e81\",\"#391e81\",\"#391e81\",\"#4137d4\",\"#53969b\",\"#0cc214\",\"#53969b\",\"#53969b\",\"#7e1d20\",\"#7e1d20\",\"#4137d4\",\"#7e1d20\",\"#0cc214\",\"#7e1d20\",\"#391e81\",\"#53969b\",\"#0cc214\",\"#53969b\",\"#53969b\",\"#391e81\",\"#0cc214\",\"#391e81\",\"#391e81\",\"#391e81\",\"#391e81\",\"#0cc214\",\"#7e1d20\",\"#53969b\",\"#53969b\",\"#4137d4\",\"#391e81\",\"#4137d4\",\"#7e1d20\",\"#4137d4\",\"#4137d4\",\"#391e81\",\"#0cc214\",\"#4137d4\",\"#53969b\",\"#53969b\",\"#53969b\",\"#669f07\",\"#7e1d20\",\"#4137d4\",\"#7e1d20\",\"#7e1d20\",\"#7e1d20\",\"#53969b\",\"#391e81\",\"#391e81\",\"#0cc214\",\"#53969b\",\"#53969b\",\"#53969b\",\"#391e81\",\"#0cc214\",\"#7e1d20\",\"#b5966c\",\"#53969b\",\"#0cc214\",\"#7e1d20\",\"#391e81\",\"#53969b\",\"#391e81\",\"#0cc214\",\"#7e1d20\",\"#4137d4\",\"#391e81\",\"#7e1d20\",\"#391e81\",\"#7e1d20\",\"#4137d4\",\"#391e81\",\"#391e81\",\"#7e1d20\",\"#53969b\",\"#7e1d20\",\"#4137d4\",\"#0cc214\",\"#391e81\",\"#4137d4\",\"#7e1d20\",\"#53969b\",\"#7e1d20\",\"#6a4de5\",\"#53969b\",\"#53969b\",\"#7e1d20\",\"#4137d4\",\"#391e81\",\"#7e1d20\",\"#0cc214\",\"#7e1d20\",\"#0cc214\",\"#53969b\",\"#53969b\",\"#53969b\",\"#7e1d20\",\"#7e1d20\",\"#53969b\",\"#391e81\",\"#53969b\",\"#0cc214\",\"#391e81\",\"#7e1d20\",\"#53969b\",\"#391e81\",\"#0cc214\",\"#7e1d20\",\"#d63632\",\"#4137d4\",\"#53969b\",\"#4137d4\",\"#53969b\",\"#53969b\",\"#0cc214\",\"#391e81\",\"#53969b\",\"#53969b\",\"#391e81\",\"#391e81\",\"#4137d4\",\"#0cc214\",\"#53969b\",\"#391e81\",\"#53969b\",\"#53969b\",\"#7e1d20\",\"#53969b\",\"#391e81\",\"#391e81\",\"#391e81\",\"#53969b\",\"#391e81\",\"#7e1d20\",\"#4137d4\",\"#4137d4\",\"#53969b\",\"#53969b\",\"#0cc214\",\"#7e1d20\",\"#4137d4\",\"#391e81\",\"#53969b\",\"#391e81\",\"#53969b\",\"#0cc214\",\"#391e81\",\"#391e81\",\"#391e81\",\"#0cc214\",\"#4137d4\",\"#7e1d20\",\"#53969b\",\"#391e81\",\"#391e81\",\"#391e81\",\"#7e1d20\",\"#4137d4\",\"#7e1d20\",\"#391e81\",\"#4137d4\",\"#391e81\",\"#0cc214\",\"#7e1d20\",\"#7e1d20\",\"#4137d4\",\"#7e1d20\",\"#0cc214\",\"#7e1d20\",\"#391e81\",\"#391e81\",\"#53969b\",\"#0cc214\",\"#6a4de5\",\"#0cc214\",\"#391e81\",\"#53969b\",\"#0cc214\",\"#53969b\",\"#7e1d20\",\"#53969b\",\"#391e81\",\"#391e81\",\"#53969b\",\"#53969b\",\"#53969b\",\"#4137d4\",\"#4137d4\",\"#7e1d20\",\"#7e1d20\",\"#0cc214\",\"#391e81\",\"#0cc214\",\"#391e81\",\"#53969b\",\"#7e1d20\",\"#4137d4\",\"#391e81\",\"#391e81\",\"#4137d4\",\"#53969b\",\"#0cc214\",\"#0cc214\",\"#4137d4\",\"#4137d4\",\"#4137d4\",\"#0cc214\",\"#391e81\",\"#53969b\",\"#53969b\",\"#7e1d20\",\"#391e81\",\"#391e81\",\"#0cc214\",\"#7e1d20\",\"#7e1d20\",\"#391e81\",\"#53969b\",\"#53969b\",\"#0cc214\",\"#391e81\",\"#7e1d20\",\"#391e81\",\"#391e81\",\"#0cc214\",\"#391e81\",\"#4137d4\",\"#391e81\",\"#7e1d20\",\"#7e1d20\",\"#0cc214\",\"#391e81\",\"#7e1d20\",\"#7e1d20\",\"#0cc214\",\"#53969b\",\"#4137d4\",\"#7e1d20\",\"#4137d4\",\"#391e81\",\"#53969b\",\"#7e1d20\",\"#53969b\",\"#391e81\",\"#4137d4\",\"#53969b\",\"#4137d4\",\"#7e1d20\",\"#6ec2d4\",\"#53969b\",\"#53969b\",\"#391e81\",\"#391e81\",\"#4137d4\",\"#53969b\",\"#53969b\",\"#7e1d20\",\"#7e1d20\",\"#391e81\",\"#53969b\",\"#391e81\",\"#0cc214\",\"#391e81\",\"#53969b\",\"#391e81\",\"#0cc214\",\"#0cc214\",\"#0cc214\",\"#53969b\",\"#4137d4\",\"#53969b\",\"#4137d4\",\"#53969b\",\"#0cc214\",\"#53969b\",\"#4137d4\",\"#7e1d20\",\"#53969b\",\"#53969b\",\"#53969b\",\"#4137d4\",\"#4137d4\",\"#391e81\",\"#53969b\",\"#391e81\",\"#4137d4\",\"#53969b\",\"#4137d4\",\"#4137d4\",\"#7e1d20\",\"#391e81\",\"#53969b\",\"#391e81\",\"#53969b\",\"#4137d4\",\"#4137d4\",\"#391e81\",\"#6a4de5\",\"#391e81\",\"#53969b\",\"#0cc214\",\"#4137d4\",\"#0cc214\",\"#53969b\",\"#53969b\",\"#7e1d20\",\"#53969b\",\"#391e81\",\"#53969b\",\"#7e1d20\",\"#53969b\",\"#53969b\",\"#0cc214\",\"#0cc214\",\"#0cc214\",\"#4137d4\",\"#7e1d20\",\"#391e81\",\"#53969b\",\"#391e81\",\"#7e1d20\",\"#7e1d20\",\"#391e81\",\"#391e81\",\"#4137d4\",\"#0cc214\",\"#0cc214\",\"#53969b\",\"#4137d4\",\"#391e81\",\"#53969b\",\"#7e1d20\",\"#53969b\",\"#4137d4\",\"#0cc214\",\"#0cc214\",\"#7e1d20\",\"#4137d4\",\"#391e81\",\"#4137d4\",\"#0cc214\",\"#53969b\",\"#391e81\",\"#391e81\",\"#0cc214\",\"#0cc214\",\"#0cc214\",\"#0cc214\",\"#53969b\",\"#4137d4\",\"#53969b\",\"#0cc214\",\"#4137d4\",\"#53969b\",\"#0cc214\",\"#0cc214\",\"#7e1d20\",\"#4137d4\",\"#391e81\",\"#53969b\",\"#4137d4\",\"#391e81\",\"#53969b\",\"#4137d4\",\"#53969b\",\"#391e81\",\"#7e1d20\",\"#53969b\",\"#4137d4\",\"#7e1d20\",\"#7e1d20\",\"#391e81\",\"#53969b\",\"#4137d4\",\"#53969b\",\"#53969b\",\"#391e81\",\"#7e1d20\",\"#0cc214\",\"#0cc214\",\"#4137d4\",\"#53969b\",\"#53969b\",\"#391e81\",\"#0cc214\",\"#391e81\",\"#7e1d20\",\"#53969b\",\"#391e81\",\"#391e81\",\"#4137d4\",\"#391e81\",\"#4137d4\",\"#53969b\",\"#391e81\",\"#7e1d20\",\"#0cc214\",\"#53969b\",\"#391e81\",\"#7e1d20\",\"#7e1d20\",\"#53969b\",\"#391e81\",\"#391e81\",\"#391e81\",\"#53969b\",\"#53969b\",\"#7e1d20\",\"#391e81\",\"#53969b\",\"#4137d4\",\"#7e1d20\",\"#391e81\",\"#391e81\",\"#391e81\",\"#391e81\",\"#7e1d20\",\"#391e81\",\"#53969b\",\"#53969b\",\"#53969b\",\"#4137d4\",\"#4137d4\",\"#4137d4\",\"#4137d4\",\"#391e81\",\"#53969b\",\"#53969b\",\"#7e1d20\",\"#391e81\",\"#53969b\",\"#7e1d20\",\"#4137d4\",\"#7e1d20\",\"#4137d4\",\"#391e81\",\"#7e1d20\",\"#53969b\",\"#0cc214\",\"#0cc214\",\"#391e81\",\"#4137d4\",\"#391e81\",\"#53969b\",\"#7e1d20\",\"#7e1d20\",\"#0cc214\",\"#391e81\",\"#0cc214\",\"#0cc214\",\"#7e1d20\",\"#391e81\",\"#53969b\",\"#53969b\",\"#53969b\",\"#391e81\",\"#7e1d20\",\"#4137d4\",\"#0cc214\",\"#53969b\",\"#391e81\",\"#7e1d20\",\"#391e81\",\"#7e1d20\",\"#391e81\",\"#4137d4\",\"#391e81\",\"#4137d4\",\"#391e81\",\"#7e1d20\",\"#7e1d20\",\"#7e1d20\",\"#7e1d20\",\"#7e1d20\",\"#53969b\",\"#7e1d20\",\"#53969b\",\"#0cc214\",\"#4137d4\",\"#0cc214\",\"#7e1d20\",\"#391e81\",\"#7e1d20\",\"#53969b\",\"#7e1d20\",\"#53969b\",\"#0cc214\",\"#53969b\",\"#53969b\",\"#391e81\",\"#53969b\",\"#391e81\",\"#53969b\",\"#4137d4\",\"#7e1d20\",\"#0cc214\",\"#7e1d20\",\"#0cc214\",\"#53969b\",\"#7e1d20\",\"#4137d4\",\"#53969b\",\"#391e81\",\"#0cc214\",\"#7e1d20\",\"#53969b\",\"#4137d4\",\"#4137d4\",\"#4137d4\",\"#53969b\",\"#7e1d20\",\"#4137d4\",\"#0cc214\",\"#0cc214\",\"#53969b\",\"#391e81\",\"#391e81\",\"#53969b\",\"#53969b\",\"#7e1d20\",\"#4137d4\",\"#7e1d20\",\"#0cc214\",\"#0cc214\",\"#53969b\",\"#4137d4\",\"#53969b\",\"#53969b\",\"#391e81\",\"#7e1d20\",\"#4137d4\",\"#7e1d20\",\"#7e1d20\",\"#7e1d20\",\"#53969b\",\"#53969b\",\"#4137d4\",\"#53969b\",\"#391e81\",\"#0cc214\",\"#391e81\",\"#391e81\",\"#7e1d20\",\"#391e81\",\"#7e1d20\",\"#4137d4\",\"#0cc214\",\"#7e1d20\",\"#391e81\",\"#7e1d20\",\"#391e81\",\"#4137d4\",\"#391e81\",\"#0cc214\",\"#53969b\",\"#4137d4\",\"#0cc214\",\"#7e1d20\",\"#0cc214\",\"#53969b\",\"#7e1d20\",\"#53969b\",\"#53969b\",\"#0cc214\",\"#391e81\",\"#7e1d20\",\"#0cc214\",\"#0cc214\",\"#53969b\",\"#7e1d20\",\"#53969b\",\"#0cc214\",\"#53969b\",\"#53969b\",\"#53969b\",\"#0cc214\",\"#391e81\",\"#53969b\",\"#53969b\",\"#53969b\",\"#391e81\",\"#53969b\",\"#7e1d20\",\"#7e1d20\",\"#53969b\",\"#0cc214\",\"#53969b\",\"#53969b\",\"#53969b\",\"#391e81\",\"#4137d4\",\"#4137d4\",\"#0cc214\",\"#7e1d20\",\"#0cc214\",\"#0cc214\",\"#4137d4\",\"#0cc214\",\"#0cc214\",\"#7e1d20\",\"#4137d4\",\"#7e1d20\",\"#0cc214\",\"#391e81\",\"#7e1d20\",\"#7e1d20\",\"#53969b\",\"#391e81\",\"#7e1d20\",\"#53969b\",\"#53969b\",\"#7e1d20\",\"#4137d4\",\"#0cc214\",\"#0cc214\",\"#0cc214\",\"#4137d4\",\"#391e81\",\"#391e81\",\"#53969b\",\"#7e1d20\",\"#391e81\",\"#53969b\",\"#7e1d20\",\"#7e1d20\",\"#391e81\",\"#0cc214\",\"#4137d4\",\"#391e81\",\"#7e1d20\",\"#53969b\",\"#391e81\",\"#53969b\",\"#4137d4\",\"#391e81\",\"#53969b\",\"#391e81\",\"#391e81\",\"#4137d4\",\"#53969b\",\"#53969b\",\"#7e1d20\",\"#0cc214\",\"#53969b\",\"#4137d4\",\"#0cc214\",\"#53969b\",\"#53969b\",\"#0cc214\",\"#7e1d20\",\"#4137d4\",\"#53969b\",\"#4137d4\",\"#7e1d20\",\"#4137d4\",\"#4137d4\",\"#0cc214\",\"#7e1d20\",\"#7e1d20\",\"#391e81\",\"#391e81\",\"#53969b\",\"#7e1d20\",\"#0cc214\",\"#4137d4\",\"#391e81\",\"#4137d4\",\"#0cc214\",\"#7e1d20\",\"#7e1d20\",\"#4137d4\",\"#53969b\",\"#391e81\",\"#7e1d20\",\"#7e1d20\",\"#0cc214\",\"#4137d4\",\"#0cc214\",\"#4137d4\",\"#391e81\",\"#391e81\",\"#53969b\",\"#0cc214\",\"#391e81\",\"#53969b\",\"#391e81\",\"#4137d4\",\"#0cc214\",\"#53969b\",\"#391e81\",\"#391e81\",\"#0cc214\",\"#391e81\",\"#0cc214\",\"#7e1d20\",\"#4137d4\",\"#4137d4\",\"#53969b\",\"#53969b\",\"#53969b\",\"#391e81\",\"#53969b\",\"#53969b\",\"#391e81\",\"#4137d4\",\"#391e81\",\"#391e81\",\"#4137d4\",\"#4137d4\",\"#7e1d20\",\"#53969b\",\"#4137d4\",\"#53969b\",\"#0cc214\",\"#53969b\",\"#7e1d20\",\"#7e1d20\",\"#53969b\",\"#7e1d20\",\"#7e1d20\",\"#4137d4\",\"#391e81\",\"#4137d4\",\"#0cc214\",\"#391e81\",\"#53969b\",\"#53969b\",\"#7e1d20\",\"#391e81\",\"#391e81\",\"#391e81\",\"#53969b\",\"#53969b\",\"#4137d4\",\"#4137d4\",\"#391e81\",\"#4137d4\",\"#53969b\",\"#391e81\",\"#4137d4\",\"#0cc214\",\"#53969b\",\"#391e81\",\"#391e81\",\"#0cc214\",\"#53969b\",\"#7e1d20\",\"#391e81\",\"#7e1d20\",\"#4137d4\",\"#7e1d20\",\"#4137d4\",\"#7e1d20\",\"#4137d4\",\"#53969b\",\"#53969b\",\"#53969b\",\"#391e81\",\"#0cc214\",\"#0cc214\",\"#53969b\",\"#7e1d20\",\"#53969b\",\"#4137d4\",\"#391e81\",\"#391e81\",\"#0cc214\",\"#0cc214\",\"#391e81\",\"#391e81\",\"#7e1d20\",\"#53969b\",\"#391e81\",\"#53969b\",\"#4137d4\",\"#53969b\",\"#391e81\",\"#0cc214\",\"#391e81\",\"#0cc214\",\"#0cc214\",\"#391e81\",\"#0cc214\",\"#0cc214\",\"#7e1d20\",\"#4137d4\",\"#391e81\",\"#4137d4\",\"#391e81\",\"#0cc214\",\"#53969b\",\"#53969b\",\"#391e81\",\"#53969b\",\"#53969b\",\"#391e81\",\"#53969b\",\"#4137d4\",\"#4137d4\",\"#391e81\",\"#7e1d20\",\"#53969b\",\"#53969b\",\"#7e1d20\",\"#53969b\",\"#53969b\",\"#53969b\",\"#0cc214\",\"#4137d4\",\"#53969b\",\"#391e81\",\"#4137d4\",\"#7e1d20\",\"#53969b\",\"#4137d4\",\"#391e81\",\"#53969b\",\"#4137d4\",\"#391e81\",\"#7e1d20\",\"#53969b\",\"#0cc214\"],\"size\":2},\"mode\":\"markers\",\"x\":[305.422956,-18.20572,4.188645,230.97326,19.919861,78.132122,9.329362,-25.026834,84.812094,-26.242386,-50.002486,-88.19709,-50.744572,-253.32519,17.134152,-53.288089,-6.970442,-39.884397,89.398388,86.735595,-87.858658,-99.152208,-161.474889,63.693781,-84.097256,341.49833,-164.911779,63.573335,576.773753,8.341438,5.191169,44.897795,26.579427,-115.77197,-193.907555,-77.69581,-263.173172,152.056811,-26.536218,-123.355594,219.575476,203.773486,62.554912,36.822101,22.374744,-48.531994,-67.444519,-96.580912,-164.80067,-43.767631,-61.197034,28.731839,-102.313983,-117.680248,-4.586622,-6.20554,11.063883,286.759484,2.79296,-29.862269,225.041798,-21.829656,-205.39526,63.936019,-116.709677,-63.756139,-56.184604,448.259708,-42.941059,-25.37135,-159.530179,64.910474,24.580179,52.267979,-54.063564,105.720794,317.179214,181.340459,102.533715,-49.643649,46.784349,-159.297386,31.215983,-48.377376,79.200636,-40.494294,39.671515,-40.36562,300.320994,123.98644,-181.580403,20.449104,-301.037509,16.361643,69.311991,102.981622,34.100534,75.72791,-20.32091,-51.038929,-18.342658,-2.578766,19.143409,138.6977,-105.95073,-96.858536,54.52268,33.370231,11.001755,237.771681,-139.941612,260.129797,-131.129948,-81.506224,-442.117248,120.258632,185.262665,-35.913497,-105.08064,-91.751031,195.881677,196.758136,-51.099362,151.37839,472.053115,-2.923719,-133.281464,36.78245,336.723207,223.979645,-92.622806,-203.436097,-12.207309,-65.581062,-137.21059,-8.177731,-94.261573,65.149673,-11.275202,43.000778,116.806761,239.696551,-96.274393,-171.195441,-212.285612,-337.775534,182.315011,-120.399017,-66.389575,-84.815561,166.291298,74.033008,76.535683,-95.251692,164.014089,195.55419,190.0543,164.740725,-69.023535,-103.91994,107.311777,-338.128639,330.182048,-320.220671,-35.603332,-147.236225,13.357052,-236.08305,-75.925237,50.002187,-124.086115,-72.991697,-37.6154,-102.751564,-182.8869,-18.115165,-461.030018,-182.671748,-89.564838,-124.090348,-63.883987,-18.334795,161.129264,77.177709,-68.093609,-21.335411,147.202261,-17.168544,3.207811,41.817915,19.74008,-202.291114,-110.258746,-81.14398,-71.560609,26.296929,72.111922,-82.200472,112.809748,-139.797264,-36.307336,-128.404056,101.283472,-58.589534,-100.067671,-152.002319,-43.370552,-207.101485,-321.147626,40.77665,-66.007831,30.459149,80.509438,116.548753,74.908892,-41.62866,-80.228599,201.51286,9.758009,59.323611,163.278585,0.851167,-41.132577,-93.589078,0.5933,-0.142646,133.434061,-421.697866,-103.859673,-181.677492,79.007222,11.46759,-88.352579,81.087725,430.589579,-48.621937,57.651072,-8.501958,-74.347748,22.475581,134.798032,109.973824,-66.772702,-335.989345,121.783429,73.742799,147.319866,-33.760066,413.15451,-105.202666,-372.778861,143.320356,-22.883234,4.383885,-93.919889,-63.981638,16.972751,-287.889426,74.715754,13.017103,5.941564,502.44035,-61.979892,-230.228717,-41.28097,117.563351,-34.018555,12.795926,-151.104114,-14.327754,428.343235,213.201242,-23.278189,-1.549724,-71.414527,-72.574511,-20.070841,276.484961,138.246506,-2.695192,-28.152193,-29.412713,61.418764,99.493647,152.221466,-50.707127,76.014147,159.305863,-188.329929,364.549489,-47.337466,50.295052,-204.488858,152.752273,45.156326,-6.520133,-80.558411,147.765295,111.30816,186.792501,150.821567,331.099572,82.434598,66.068427,-41.436932,-15.928667,-12.94483,-212.188543,148.336961,28.074109,-95.678055,-72.859026,65.323757,-54.221334,23.849137,3.072094,-277.327903,-25.63886,-14.90549,-99.897992,202.723103,111.139367,-92.032572,-119.12431,-120.283186,66.16338,34.679203,557.906411,245.864202,-29.413544,176.683871,-16.856667,7.206332,-317.512639,91.850132,8.960177,-90.860012,62.00713,-109.576552,-214.672029,171.818544,-5.976026,-37.701047,288.182408,-120.283102,184.406006,-82.562311,-291.033105,-73.554069,47.541401,30.710298,-229.35949,130.585919,-124.129312,-74.878317,-299.660538,108.348027,-79.361026,87.629132,63.903074,-89.096741,29.862033,-89.796831,-205.704199,121.149746,69.847221,48.21077,61.988789,-40.972808,-38.423434,306.274979,28.948511,215.04466,-69.490104,207.298788,58.867088,-4.597216,-317.638319,-94.122663,37.340828,-101.734257,-39.210964,-19.453963,419.059603,-195.306079,127.174243,-18.145875,-59.6465,-20.191804,-68.864196,-245.196085,76.096636,7.069401,-61.620136,78.620957,-13.873545,33.398366,289.89633,129.460109,7.557272,-241.335765,337.655754,158.948999,234.214982,-226.133539,181.200808,-135.77801,66.052136,62.965631,68.906532,69.545326,-21.287829,-74.584158,246.369631,-513.573796,-215.702696,45.122822,-169.591219,-71.554463,-13.831921,119.501836,-2.652202,-199.125469,-33.330747,290.92317,-106.614986,0.44278,-10.737042,147.502989,255.884481,139.312117,-86.29037,-28.21176,-24.243051,-31.180195,-30.947871,-6.071051,210.469359,-117.646297,-78.721824,-128.055088,-48.660122,-46.729181,-36.281606,146.755909,137.075239,-2.599813,105.957429,-26.043024,-354.946276,76.192343,-361.188604,193.584804,18.111485,8.309962,-58.056472,-94.394099,-20.184753,150.554125,-287.583561,32.7544,98.807925,-431.069528,158.620819,-78.310909,74.538655,-5.926511,62.110142,-31.842164,98.428753,67.507863,31.564464,-286.384162,1.334113,-254.906359,-80.536239,45.907556,-115.865618,-196.551211,-39.450653,224.033101,-62.913632,17.103973,-41.069394,-31.314888,23.271109,0.889958,-70.023271,53.628531,0.305734,-250.898959,-387.915633,-59.214348,-47.852769,23.976008,48.128158,78.266217,127.528766,26.438266,-33.6301,-108.555746,-135.667075,34.556239,-436.420205,-341.840337,-136.236426,164.864113,-120.958704,29.667151,28.406275,-85.699549,215.96147,70.295967,890.121536,-148.284215,13.71986,-235.325649,-84.377906,115.288699,89.477897,48.749093,81.521205,297.327696,83.912975,-155.475019,-369.59655,208.068431,32.562293,124.169878,301.571295,-101.614363,-154.242672,47.969122,-230.042383,17.551623,-155.046319,-82.507946,-174.125929,294.442506,138.056472,9.434507,74.880171,96.72766,7.111204,-73.129107,24.278337,286.231874,80.266662,-34.443594,-85.222079,-126.188541,-436.677096,-13.575014,61.740554,-95.489556,33.591,434.483015,148.442374,151.203387,20.975758,-80.438293,-28.361813,-160.633078,-161.854193,92.559838,134.394395,123.999071,-254.263788,-117.510069,143.922602,73.291889,-104.258538,-17.533597,-16.121447,93.789919,52.982402,-63.825059,-17.847422,-3.91994,39.079601,-59.747603,-32.850763,166.809213,-38.02354,-79.474885,-19.973266,57.471751,-9.975212,-143.727098,64.962538,142.639692,174.583303,406.968321,467.117199,-12.196663,55.2836,-13.679205,-50.747116,152.97665,176.760572,-102.872033,340.553608,124.808719,-118.020335,-42.356094,142.699679,67.54489,171.73203,-114.396152,37.077168,6.109684,-17.306819,-369.136359,-20.73371,4.766022,-40.848892,145.147916,95.509241,199.786813,751.485425,250.743374,-21.530101,-47.426713,-6.462181,-224.612002,123.738382,-36.171021,-134.719285,35.425943,-149.171853,127.259508,146.943801,-17.211271,-109.413462,-6.246572,404.996879,-28.105408,-58.889268,8.556313,156.314926,94.763239,-77.014069,162.254578,71.153696,29.286881,204.511133,-123.88136,16.093842,-41.905979,43.338894,46.370579,20.057411,235.922871,-78.321743,-104.029,-303.725122,197.286945,87.828974,67.593345,182.850939,37.764442,7.734824,-57.908978,-184.982589,-89.30386,-78.750916,-63.759571,-3.955718,71.10356,-114.638543,46.292237,270.127228,93.771955,-243.611058,9.602271,-177.389052,52.932451,-39.898583,-68.463228,1.899278,37.975794,-150.193512,-50.187815,64.583339,117.065039,314.017397,-15.135107,119.993286,-55.441094,-132.209743,-48.388116,13.777241,112.704017,-10.164732,151.268302,265.71758,-97.266139,-49.936101,-38.316683,-52.184527,-162.045104,5.214614,32.682617,-524.450782,108.101401,-8.871193,57.938383,8.357237,-340.531622,-15.853412,36.90233,42.280283,9.087082,-149.660084,180.957856,-34.813851,86.595386,139.679066,69.677862,-117.818571,-16.402726,-61.037806,61.018587,-30.682067,140.527689,34.341919,-40.802397,3.098012,-148.570692,-80.465056,-84.862402,343.542773,-57.557456,244.256069,30.750478,-24.361562,-48.49302,65.242913,-13.910812,99.323291,-70.101994,153.407713,-71.545499,-81.215172,376.67745,30.058568,2.430691,24.424567,77.461068,-123.521039,-40.08032,-97.681255,39.018635,-78.563818,-355.580303,-6.369554,-17.236724,-129.30478,219.962077,32.988151,46.33442,-26.409731,-47.349635,548.252587,77.373502,-103.418417,7.022688,168.746329,-92.735871,-478.40485,-263.711757,-62.289844,103.162552,28.755636,679.839161,244.735463,-75.713785,95.892639,-203.629862,81.442712,-13.05033,118.562319,45.333878,-13.519732,70.227654,94.991157,23.456485,-103.318486,-30.517937,-54.688744,-187.856782,278.499614,-171.743734,172.321542,-135.424472,-231.230169,-135.473819,-39.61261,27.437836,-52.439254,66.451983,-25.463048,-18.740174,79.39412,-370.128904,-81.188111,-27.610441,25.054142,-115.410348,-44.030129,144.109204,64.617886,-289.707393,51.367156,-84.370967,88.989033,-297.841331,62.62209,-117.067975,-33.836213,56.080664,235.56767,-96.414456,-207.26852,76.329135,-16.736869,75.59524,-40.028504,-88.433626,-177.627409,-82.221635,-26.159146,244.071041,-206.051401,238.378582,6.31155,11.107319,157.840597,238.263575,50.804361,49.973903,-441.563981,131.338151,158.676409,96.287073,-382.410914,32.572138,-32.132789,124.82236,-47.15898,97.497203,29.026605,-12.259105,201.447862,106.281625,-446.639944,102.738439,-39.840054,39.316501,-9.570604,-564.031951,-97.694191,-49.078662,-75.64726,129.028202,208.916915,43.324272,20.857018,-41.030404,-22.117131,20.422929,98.209465,23.869931,22.775585,43.704233,88.002416,27.830048,-2.394559,90.321551,-88.795343,-63.534811,-67.29492,-298.425211,-56.751441,-103.58501,-95.283014,-28.510476,58.507251,-12.272932,-2.857093,-24.702726,-171.349182,-151.671151,-166.440202,4.598197,-65.752818,-33.893154,69.289272,125.512408,-38.716153,-192.942407,-224.833689,125.468349,16.331564,-74.483863,26.813222,72.470923,309.040467,36.130938,42.250185,112.908868,48.952741,234.399605,-199.360984,-267.911088,-106.055042,-46.644243,-321.129237,-31.965586,77.216778,-63.277349,46.624157,-15.889169,-83.243938,-43.373447,-215.810699,-46.188345,246.217106,-100.088033,793.201853,10.367981,59.661753,-50.335487,-61.26219,-110.010587,-38.920225,78.372631,88.134405,-99.49446,40.023264,-20.208252,-106.427623,-9.801313,-46.853459,-248.712027,159.925774,153.181992,5.211581,59.805295,29.778501,43.080176,39.511705,23.343911,24.824541,40.283101,165.802195,-43.133195,-290.972602,-31.167275,114.335101,193.379936,60.230538,89.653795,-81.107303,24.158384,-112.571374,97.553541,-193.946531,40.194587,10.26536,-90.865585,-25.862763,101.797374,-184.79794,6.53143,-229.602997,332.626933,-89.622971,-67.247669,-14.404494,54.597694,-25.465092,-2.952464,-40.861001,32.694608,-449.49769,80.140786,81.513695,165.235246,-421.120309,-29.137502,-38.337866,-251.230882,-90.071339,-64.337502,446.490037,-63.993496,-7.279712,150.28789,-173.306253],\"y\":[54.38326,-44.940516,-90.416586,11.34295,-104.696704,11.342551,-421.107907,-1.875042,-200.358656,23.218578,111.735921,249.752627,179.00532,353.770761,125.199565,10.457005,-12.285995,116.200653,282.523086,37.800043,-102.201385,-47.186586,107.619596,34.455513,19.245746,-178.248324,4.34657,-60.923706,405.769786,-85.856812,-79.036589,427.949543,-532.982078,197.351549,160.01613,-46.69659,241.986288,188.945096,-67.294214,-25.148122,-131.757045,-156.553956,8.119165,63.239436,34.712346,-121.929664,-11.786732,-174.70532,213.333992,-19.947869,-50.026146,17.224045,19.094648,100.582515,4.433852,-118.58622,-45.848474,43.045622,23.6801,-10.12776,-615.806419,17.425556,388.994825,-477.494117,-2.170947,-2.570629,-116.897375,-418.179772,-106.141067,-14.451402,486.837108,44.27249,-91.698505,82.381091,-27.948758,-43.557358,-19.783509,-145.27503,-6.829436,143.912883,-102.422628,-299.203278,82.742929,13.935303,-40.036987,-35.488971,37.137071,-58.031157,244.94366,-9.567882,1.073507,66.922529,15.572022,-12.946371,49.433503,-2.260739,-117.853667,185.610925,-87.683011,-160.343521,52.921582,2.68337,47.07918,37.307493,45.288116,257.019589,73.309087,58.324809,-1.479341,-116.383544,15.827346,18.279047,-152.035821,-128.624965,184.856105,73.8509,-299.766661,125.123616,-15.606094,123.749688,-1.757226,12.120048,-123.139637,338.888312,-149.431269,71.411945,-346.380693,257.075793,-194.593016,-729.86602,-13.476541,-112.950874,-3.869152,214.681478,-18.018285,-40.860857,-91.993157,85.866269,0.096743,2.587769,446.721325,364.937419,-46.327124,13.182441,106.109503,527.37628,-378.686848,330.83984,202.009118,157.073019,-95.806035,75.951761,43.600528,116.911491,-54.749225,186.500769,-178.098153,132.437965,-13.001334,-58.957456,-9.269003,-46.695362,310.537882,570.354697,27.411196,43.103572,17.690953,-358.599401,-99.050066,-200.741842,114.79849,-67.719281,40.386575,-507.33623,363.60966,-27.134867,138.316837,56.284802,27.660679,157.539737,309.00542,81.52509,155.177255,-10.216864,-12.820404,-50.9521,33.653932,-346.444241,12.389756,219.762486,34.079087,-98.514144,196.863392,69.83877,158.080665,-69.71083,105.144684,408.236742,9.20556,77.379555,-134.967623,-111.746901,-44.729905,-17.302513,-304.965441,-75.475222,-730.723653,-164.418237,228.111794,-17.577561,-352.370692,190.890285,124.612056,-60.434255,-302.645004,77.722413,-56.723629,-35.154969,-4.096832,-42.930254,-241.546477,-48.231317,-0.931842,-28.161989,8.777321,-141.436428,-114.020031,-393.824803,82.275397,-211.402938,-44.584676,-144.601861,37.890013,27.547385,-541.795293,139.077068,260.263779,-50.169175,63.752514,-1.642294,-71.932093,-407.528212,25.391959,341.987381,-53.795946,65.798229,-438.253854,-37.172654,-76.363718,110.914069,121.784908,-36.711591,65.613964,62.655945,-75.913218,-66.905071,358.580551,129.501369,3.887335,69.438257,28.858758,-695.130557,-37.500319,-83.633483,106.362077,155.001471,-189.803535,-72.684938,-194.745402,15.126356,-329.846549,-163.837521,-127.797762,103.969245,-91.423327,-56.993779,-17.940597,57.475842,-84.324347,-272.699048,20.432639,-59.817222,-26.222987,-49.285581,-54.907749,6.698015,706.411475,-474.669688,-0.977547,212.470601,58.749087,-36.077569,124.581354,-87.376583,-68.342211,1.461313,-97.357229,-215.768177,-50.146392,145.400685,20.898848,32.280277,-1.294856,-230.19624,-97.669969,-52.342195,184.118364,146.803219,148.729472,133.04803,-202.206934,-11.447761,-329.645034,-71.812586,12.704391,-182.742946,350.595878,11.448156,154.082042,-62.030744,234.459048,40.929405,34.277458,232.453942,68.460303,-0.242157,-27.980221,-396.12989,-20.102389,-25.612751,67.296534,7.443818,-134.862499,-144.831634,-35.644606,-54.185166,-55.635605,217.688887,175.875059,171.964515,-4.736238,-12.749746,-12.856529,157.499965,-139.68261,110.349916,-60.330766,198.588658,38.313712,28.97603,142.586411,535.334847,-294.018419,-151.713866,39.774734,-471.615568,-227.854066,100.473956,-66.241571,-88.444941,-116.913094,-61.830709,-72.88435,7.467493,151.407045,-223.353259,6.412116,-14.618038,33.152027,115.470496,-825.766863,53.344507,18.328753,-11.122049,197.778855,87.839118,181.443039,-31.402632,46.545435,-283.722549,-31.328524,181.279292,159.730013,-103.669268,-114.398775,-164.390953,-14.836557,29.357897,81.546235,-66.427685,50.758157,218.949814,-63.077663,-48.882041,77.908727,-52.235382,34.527715,524.286133,8.640318,24.523682,-550.121922,-65.962861,-300.578841,-229.053766,-101.961387,-102.75019,21.847324,61.268856,94.124106,-114.675881,-0.592591,-40.541061,-35.941854,9.75074,-596.851097,-85.726453,-358.003501,-143.930388,99.445872,25.744248,9.075935,245.122631,378.749374,-51.244454,49.406249,-141.845549,5.674935,104.223767,132.205741,-20.133456,-82.943114,-194.73044,-105.697614,32.218612,-51.774554,-83.485117,41.828755,-144.195913,436.764283,-309.427399,181.056486,215.910421,10.710206,-32.388704,298.545482,159.491461,120.285229,294.074606,83.451803,451.366054,-18.970908,-250.178739,71.534785,-90.408906,-29.774108,3.615351,-46.169127,-151.950928,51.471371,28.604087,403.992746,-2.607858,136.807269,-250.067504,-76.240032,375.590961,280.061215,-15.843142,54.134895,42.963319,91.145833,-165.586976,44.27607,-199.773827,-77.723846,-175.075401,-197.225078,-21.182836,35.888829,171.57285,-83.712276,34.767251,82.333198,-45.049449,-5.635888,-186.825015,-40.677869,-44.796123,-138.471017,11.875322,-332.086056,-282.099222,-159.604167,-287.126641,0.189891,-91.802255,142.481058,-267.988803,-41.61437,-26.062578,-104.005498,-176.185394,96.683725,455.395612,69.550653,-67.798989,-63.75383,343.845027,-139.568806,73.744379,-21.95452,-193.410554,-257.142248,89.468066,-84.887133,-154.148228,227.313343,191.130807,14.119065,-10.933189,35.481719,94.458436,-213.231528,-424.129658,279.739706,328.379696,91.657069,144.532984,1.399296,141.218287,90.860086,-136.962203,-30.527491,-495.808545,-36.340793,157.928726,-12.037759,96.13267,-474.745433,-22.553737,-27.070751,-240.143233,-100.211905,-142.732072,74.440069,-78.150032,252.594237,-19.929557,-89.211122,-103.739353,57.828313,512.418314,19.222046,-4.35148,132.899193,35.838015,51.209144,-349.226273,28.581155,-17.479978,-85.222649,-252.704281,174.661031,-47.61573,-84.463039,-128.732159,-294.755191,97.348042,-179.80589,-137.158868,220.98184,101.442559,-88.338845,20.649878,305.610277,-0.185291,70.688759,3.694354,3.09341,56.036971,-238.658212,13.269072,-120.583002,-163.297874,38.240381,-34.390017,111.207117,4.62288,153.39578,17.383244,147.288521,199.273118,-431.228683,264.252903,-29.323811,-136.778268,-13.461122,60.029318,-203.274164,194.796722,8.503017,280.154473,320.78714,68.094599,94.676833,-21.696077,73.925406,99.656527,-3.525769,-2.022122,-17.964326,-7.48395,-99.779098,-38.696669,-45.630661,-78.998163,222.459675,266.318693,-24.586048,-202.180793,-32.606633,-122.225985,3.862805,-11.591298,-121.746749,-160.890586,617.694862,52.037163,20.83763,256.296855,71.955683,76.770112,-65.281042,31.880039,-39.309754,-61.869109,28.94586,186.408777,-80.789107,69.497239,142.329571,65.4259,-811.715287,-10.746299,-96.737555,-23.578828,50.300322,11.344068,-68.158578,-18.222745,-12.749743,65.326446,-131.495153,33.614699,-46.708488,-122.670306,-190.61304,-391.964145,-17.022163,-20.195043,12.185697,89.286044,73.964429,115.299584,-368.004234,51.828033,12.404176,59.183716,-174.006604,-186.140643,-27.2079,171.314742,-27.038123,223.92837,33.449285,-530.103259,71.016292,-11.996448,287.921009,263.773692,-241.349849,-295.711746,-75.031515,2.277363,-375.732326,-505.66029,-31.37142,49.844719,-47.691127,179.165596,222.034494,133.099227,-26.641997,160.391355,-49.434806,26.263341,-104.391528,-117.625488,94.050431,29.820635,56.962911,-118.286658,-98.242478,408.461193,52.912638,-14.350324,-72.3967,-0.29328,27.110706,-43.425767,3.990456,25.161305,9.713386,-257.883653,455.480373,-57.767805,-61.986403,121.742993,67.312536,-317.673258,27.714726,-123.920351,3.790336,-318.187709,95.223386,-53.338107,-137.86619,-57.430545,-127.924403,32.281442,-128.766242,-48.168467,35.97333,291.926429,318.832602,123.355666,-115.03192,177.751959,11.146668,174.94834,13.754945,-297.135043,-52.306301,14.598485,-221.644952,8.506875,122.745054,50.095478,4.202554,202.452602,-58.622802,3.435739,-144.089386,119.990374,-163.118678,-16.454912,-93.564573,-34.870223,-54.871604,166.796058,29.046932,-164.606644,8.481735,522.361084,-229.191882,20.266832,-3.210968,-177.515784,-82.113577,-645.452613,209.186391,2.052483,10.042089,-10.049896,201.21804,504.893159,61.706973,31.94874,-46.930593,-2.86439,-521.06418,105.877755,-57.700281,59.780608,98.819656,-214.379157,84.862344,-49.18203,-55.140162,-42.442769,269.801109,-70.872954,481.373117,608.659637,248.491588,202.103231,-197.787836,-21.066003,19.796491,125.583461,-93.452699,-83.734608,-2.209426,-130.580212,173.599146,319.084986,-170.79919,-79.823027,56.948634,-100.225021,-103.062488,-237.984471,-139.477242,84.780336,-34.776372,-81.914984,-241.617009,-36.275725,-175.035677,-6.432581,283.008987,-81.018646,-48.564812,204.824894,-45.194936,-81.61105,-285.123838,-17.641083,-168.128086,-59.72493,-230.176343,20.996351,-85.70328,409.538042,-469.682463,-1.792532,-51.640965,52.719529,-103.40582,143.622061,-79.181089,149.380734,515.161296,151.219047,-140.560798,557.074138,-62.804571,66.894089,-235.12794,-79.568745,-12.716273,8.177585,18.910565,146.296656,7.283929,-233.974978,-22.731637,378.571438,-116.095464,-47.160921,-60.783092,-0.042687,-75.942607,602.19061,61.915582,34.355297,-8.90992,-222.912101,232.338621,227.461402,-36.723852,68.601927,-124.156369,-166.383062,223.450974,-154.79945,-70.53078,31.423607,10.038797,245.753953,128.92634,188.618972,254.637308,145.722932,-146.190765,-131.014789,-39.071229,-32.731686,15.346271,-58.517516,58.747398,164.760632,123.601024,111.869482,-83.797451,1.281211,-20.519501,-14.193038,60.986585,110.861586,-50.169816,81.969013,6.314517,-44.597214,-43.61507,-18.902529,85.260397,-42.645322,188.466838,61.124084,-42.193477,-131.941424,36.4005,-211.084873,200.644494,-0.540362,95.874897,672.422695,7.379345,-60.72828,-221.888504,206.676173,-141.468764,51.543351,-24.458488,496.091206,95.577664,142.964257,-6.473031,64.282695,15.484689,-130.624471,219.986859,44.686589,-15.154303,69.407376,273.938902,-106.029161,-82.086988,26.184828,-4.38038,142.43387,-18.836537,-203.113753,-279.965143,-417.483441,-74.954299,-7.113209,-51.527995,-62.054549,-2.258946,21.759235,12.89977,137.629462,6.300177,-374.799386,-73.550252,280.071772,-168.290417,-417.696179,-206.807596,-472.385063,-5.255094,240.842267,346.397199,-101.845505,167.430342,72.903154,-131.812588,14.672689,51.086634,-20.306326,-241.212869,128.564593,-114.12265,-60.472971,-67.797719,2.828089,24.53442,-201.600629,99.387443,-218.292669,45.643254,-28.688939,-191.676154,-587.007828,-170.542211,20.775134,-16.382024,140.358358,-9.571136,7.166476,-2.581143,-87.168302,-61.352227,28.64373,-301.844259,47.637299,-58.118122,44.95891],\"z\":[136.633894,49.511471,29.914804,43.428148,31.858404,-43.897447,153.853848,-39.703404,149.268877,-18.256035,-169.651311,-133.780314,-31.335671,116.52588,13.302379,-60.860984,8.214407,-166.649077,119.422476,69.222395,-9.860445,24.977258,-261.621491,-75.786103,-188.681205,-95.272369,136.521313,19.431841,-495.828477,108.607973,-89.635618,152.794353,204.338649,57.219012,-112.628086,37.594498,129.444684,-289.098452,78.313265,-177.228516,518.218879,7.204283,-40.293025,31.044698,-35.146919,-144.139547,20.887616,788.119502,-128.203256,16.701025,55.077489,-28.579655,-77.1118,-420.861533,116.922098,76.106011,-78.789462,318.915056,-0.716424,227.179827,-728.908436,-37.407664,-411.574162,-811.115247,-182.276788,16.894316,67.934021,23.819299,79.636803,-44.359589,-22.904519,-28.592719,-89.610589,-255.211223,188.435238,61.935546,-182.159111,374.267619,98.359329,-736.306779,-100.693436,-809.054572,-79.273248,-4.893376,-7.328427,-87.789182,-93.864577,178.844214,495.342082,260.896152,-244.904062,334.04608,-89.567951,-127.165774,-22.689009,-37.584567,126.699979,86.524903,132.282842,-50.714455,301.591603,10.684878,12.580545,155.748589,14.58966,-140.780819,200.957415,-127.23007,9.810771,-103.08801,-168.099794,-65.276736,-235.670656,-292.803919,38.724443,23.462708,550.45769,95.670786,70.007106,-160.843619,371.710254,660.880954,13.943875,75.627826,258.720418,-74.739226,320.232233,-38.054156,-520.006963,165.771753,-198.853551,-26.490518,30.908058,-18.367847,-166.43102,67.693293,-119.167294,127.123164,-85.918373,91.816299,386.9022,7.530828,-177.843705,146.540106,476.034718,-374.933826,387.153913,-300.639014,83.128968,-102.333279,77.676764,-189.761484,213.48947,-164.570479,87.519832,496.154368,215.162241,4.197064,23.874312,-107.960807,38.592792,-48.93506,636.315646,-169.386813,-246.565857,207.92559,5.659223,-107.041836,83.483684,244.807984,52.438799,98.219556,44.541401,-399.04665,-233.998393,-59.587557,-79.204773,142.91018,-218.866057,-157.670059,24.056116,-130.592972,134.642876,-80.319117,37.402065,67.648323,-50.546172,133.707178,-53.840239,-250.126513,7.178773,-204.351956,165.983572,-27.835253,-103.449234,-28.068625,-147.454647,-111.2501,47.763916,32.881781,105.020801,-91.857052,222.756685,82.384975,168.099536,-28.688806,-595.11203,62.591987,-758.513573,33.181999,42.504811,344.762464,-91.909364,34.270406,-589.270013,-68.834765,35.239249,-329.223408,-2.525614,24.693416,253.118054,89.09641,8.865686,71.696306,-24.360276,111.627151,55.771495,-219.345553,5.799373,54.860973,-128.421912,-240.547268,-57.918293,58.347724,489.116345,99.773048,-228.153302,-21.52158,0.948517,-64.779174,29.018027,281.955122,13.914464,-370.763054,-168.887328,-106.002702,215.728163,-104.877456,3.628416,-56.943395,-107.005142,-136.964579,109.715123,120.688913,629.547502,-99.451605,22.908098,-201.551837,-31.477274,31.46874,-42.98109,-217.931118,-86.551335,107.20113,-16.922618,-280.422853,-9.259361,91.441141,-150.906511,14.709451,321.367824,-89.182463,34.518541,-41.56904,-83.016464,-15.867836,108.311777,-96.743586,-81.215987,146.555808,123.909853,85.41,-41.011359,126.922832,-607.756296,147.641411,-73.54604,591.807195,69.662095,337.851958,-190.975737,-26.753375,356.178507,-190.126257,-197.350803,55.183333,57.171127,-29.352885,289.800485,-476.340911,124.76447,115.388086,-243.490322,139.205791,-24.695089,15.325798,9.987852,392.224027,190.070262,27.326356,98.679931,-3.886093,165.351226,77.944174,77.385005,16.209972,-414.697801,-38.968406,-43.406109,106.245211,-39.856598,213.216335,2.132656,-290.452155,81.808812,-60.071348,178.341076,166.598202,10.630793,13.021263,-70.012481,145.89952,-106.220216,69.67303,-32.805759,105.621923,3.845394,-20.485176,-294.030287,-252.137525,720.522547,39.474946,51.496579,282.04115,17.728568,-35.81111,-48.376603,-135.135909,-17.77252,67.885162,-30.601371,-788.656891,476.230049,252.285374,-152.540072,-599.703819,20.869692,110.183513,-77.13883,225.627087,-150.713046,-10.053305,51.453664,-195.800048,-15.789909,-159.642418,6.125978,49.788676,-97.675216,194.409888,-86.32203,-165.594672,21.771712,-99.414905,221.77838,128.469404,-55.349834,-391.402325,81.883537,81.757246,-260.802563,-129.563892,61.090387,651.147675,37.060167,149.039225,-11.332246,13.983773,75.757076,309.156864,-263.692853,-250.507195,33.31537,11.505287,-150.62048,-67.352162,84.261362,559.416232,-39.065182,18.518118,-587.611845,-316.22327,153.677525,-72.699897,-206.217705,169.915722,39.415975,-83.518799,50.687766,-21.493294,-2.404388,-28.724558,-72.994168,-132.927276,3.46474,44.848666,-321.208828,-153.521649,-9.089791,12.139013,35.523681,-115.543607,159.37596,-159.3235,-55.704593,43.98358,1.260815,44.656903,11.493894,58.050466,-115.051626,38.532026,127.960544,39.848617,-16.374666,-73.529387,-145.02357,242.679109,125.742439,83.542448,89.741526,-41.728567,147.188123,-63.116532,-472.712822,-91.530613,-2.382042,234.267027,-111.191704,156.812695,-60.314109,-525.437485,68.313071,-66.639445,82.422151,-76.331395,142.811865,-21.590736,-247.364743,-2.91571,-48.107071,-57.890855,134.022128,197.358493,-100.013578,-252.577552,83.82709,53.578207,241.982416,-15.96963,170.161589,75.838879,6.302393,-156.546102,-341.151737,-92.301792,102.047455,-146.03663,-90.39532,185.517641,-347.614078,-38.831544,38.139927,22.613876,64.581571,12.438234,36.566277,-42.138524,-33.417497,-23.404792,-532.265174,-437.718737,-58.037811,-171.47254,54.63621,264.506457,13.62459,-22.25947,-49.938453,74.890474,-54.758619,95.814803,56.014347,409.237492,-224.68037,-186.832906,-254.176878,-18.383302,161.518024,1.993478,-15.219358,-111.354807,-20.694429,161.633474,114.645884,-175.042934,-164.701142,-220.761947,-75.449377,-36.057378,-216.479208,155.286225,173.31705,111.225629,183.676199,-125.989641,-58.397109,-170.310222,-11.271892,-204.205878,252.967605,-134.599046,-272.686585,115.561633,18.475266,-202.976419,-107.04207,20.944471,215.603105,6.886404,30.74135,381.086505,274.364511,81.416003,92.828154,66.031683,438.506512,-8.362081,105.033035,29.929858,-172.905493,-223.00998,5.898384,-156.559759,-2.478178,-93.100069,78.313203,-141.124466,158.956669,-21.93877,151.546002,130.264404,505.757491,39.653349,-109.892949,179.263939,-94.099398,91.907169,-46.524854,270.335514,34.038786,-23.013213,-92.867698,31.912531,34.582761,71.767395,-243.84069,1.428748,19.930414,-148.431054,-91.441307,159.785329,169.545141,128.782574,-78.069606,-72.058491,262.364494,-4.813494,-410.092775,-40.840653,233.252872,-299.684658,184.949123,418.021597,59.949761,-211.331996,-48.948282,-110.371376,147.590384,-121.761719,185.01775,69.535644,-452.049724,-158.748411,34.064835,40.54118,-16.08472,166.410949,-173.044601,12.225273,165.582915,2.847194,24.085659,-32.789385,-41.926126,-127.288575,-83.873199,-33.474162,-53.698416,-469.934939,28.475369,-129.282733,-23.89801,91.034066,-149.194954,-46.965904,-167.506821,147.753628,-89.754011,41.240251,57.201138,-73.024636,-101.024927,-286.831382,9.262086,-393.675373,84.982545,133.929407,74.35732,-73.57686,202.782753,38.41414,334.642415,187.034705,-110.428228,288.734163,6.643928,-15.963922,-6.281011,-54.592237,-59.658404,-73.557033,-107.492218,52.686589,55.317253,285.900254,318.254241,-96.971703,-69.216127,212.277852,-9.046865,16.210361,105.209976,-40.637656,82.638135,-112.021808,14.810827,-19.820491,-136.009617,39.90453,-5.099315,-55.647017,-40.619996,-137.755991,2.84302,646.558031,58.311902,-28.231282,21.597997,-189.298396,125.625265,-892.76315,-30.64399,88.284648,-345.306066,-3.023459,-215.062496,-71.625266,5.172501,164.784318,295.953509,-209.700811,-93.094153,-91.313685,272.373772,-31.098102,-105.78533,-110.909247,52.986104,76.727482,56.539819,-70.381838,72.26691,-121.030917,5.497996,11.705178,107.338632,38.032315,-537.586483,105.525433,-131.472935,2.887402,-41.733563,-296.03904,-191.833796,-33.992074,-244.479149,230.652028,215.643355,-172.556928,56.727473,-251.975744,43.476282,-337.858498,-159.750364,-73.247074,21.315526,-83.660108,27.819738,-85.552085,124.215412,52.659008,-184.366602,112.197732,-589.771387,101.017101,1.448966,65.635995,18.522577,-112.333861,-112.790865,-475.602075,-18.304857,-94.518922,352.993459,-264.116365,-97.838215,-39.41103,-143.506807,56.955051,1.076522,15.170758,65.786603,-111.749641,-295.376305,81.302047,-1.269926,33.004578,144.459263,75.098949,2.923643,74.207723,-1.389764,-473.024101,-174.903258,8.252884,-16.964523,-158.150013,-367.272073,162.425597,-74.85477,-15.686345,309.924482,-387.910933,-370.580647,-66.185992,259.216648,-21.35341,72.656718,-51.90371,-316.424348,97.008527,-111.325136,-19.742368,-90.117093,-30.105442,-75.333713,9.375079,-40.071297,57.907706,176.483418,-331.333487,477.289724,20.385579,511.759403,135.25699,-5.898217,-27.62233,-19.431284,122.067116,-9.640367,-30.747073,51.092967,-77.240455,-418.154844,-471.049716,-61.094073,1.803191,-19.78651,-317.212631,119.447695,-418.135031,-312.579038,-8.628862,-100.910572,177.258971,324.700902,20.804236,115.94118,-62.517972,243.229216,-228.206554,-79.161502,394.181101,-111.979606,107.799799,-103.179486,-71.010831,-27.438417,214.591745,-58.208094,-38.894921,87.952423,-264.137751,415.937668,1.950162,-64.543451,277.560575,-134.291178,38.906844,-93.185191,180.849791,57.677948,427.894404,-37.797433,261.782531,9.063101,-49.644748,234.269955,-82.692721,246.355872,64.191225,28.152668,-463.707202,-317.02801,-840.795656,125.358304,137.865163,95.722711,71.704747,191.670533,278.33823,-56.691554,296.953889,323.077827,150.460822,146.612744,-12.150557,51.76575,-186.516675,63.938789,207.741806,59.343734,379.435538,276.815061,-103.103917,-48.50276,10.233188,-74.277643,138.752792,64.958983,-149.647176,-389.02858,-41.561487,-90.666043,-192.884529,-12.769777,-89.228264,42.420409,28.099051,2.415146,-151.137991,-69.007197,44.1237,-88.686404,-18.799389,19.168511,-12.87739,170.421939,19.572923,-93.662045,-159.073997,-184.505946,-1.085871,120.406559,57.477908,110.808827,-46.783949,-90.841213,-66.326819,78.954798,223.188499,642.544153,286.872191,120.872846,6.732578,179.489615,-433.460198,-459.660281,-15.189501,-140.739136,-270.557543,33.287496,-49.362486,-50.502046,-412.418947,86.881,-241.179526,-127.313242,-422.280697,-51.27398,178.837141,113.318787,-20.038399,9.818874,240.333239,-390.119079,-402.576131,29.313492,-2.001539,122.334294,-111.897455,152.613078,37.895657,33.054186,128.313729,121.932643,-75.184853,32.951957,145.579145,259.597912,2.329762,-290.322685,26.004318,-57.845984,114.509607,-281.487212,226.340874,221.742348,99.941041,-23.290722,81.25467,-20.334493,-117.810613,-40.99616,-109.652616,99.577074,-89.585329,36.081403,36.512072,-38.817003,60.405876,181.321856,-27.198995,-163.14189,-479.158741,293.006324,24.759732,-88.588543,-233.258615,-66.056684,125.666838,-16.402801,56.445793,-243.392841,486.333636,-237.318712,-203.04494,-39.368176,-572.762615,-19.070117,-27.043845,2.471844,-121.433547,60.897504,-101.223441,174.765719,36.874211,-143.12057,-7.76892],\"type\":\"scatter3d\"}],                        {\"autosize\":false,\"height\":1000,\"margin\":{\"b\":100,\"l\":50,\"pad\":4,\"r\":50,\"t\":100},\"width\":1000,\"xaxis\":{\"linecolor\":\"black\",\"linewidth\":1,\"mirror\":true},\"yaxis\":{\"linecolor\":\"black\",\"linewidth\":1,\"mirror\":true},\"template\":{\"data\":{\"candlestick\":[{\"decreasing\":{\"line\":{\"color\":\"#000033\"}},\"increasing\":{\"line\":{\"color\":\"#000032\"}},\"type\":\"candlestick\"}],\"contourcarpet\":[{\"colorscale\":[[0.0,\"#000011\"],[0.1111111111111111,\"#000012\"],[0.2222222222222222,\"#000013\"],[0.3333333333333333,\"#000014\"],[0.4444444444444444,\"#000015\"],[0.5555555555555556,\"#000016\"],[0.6666666666666666,\"#000017\"],[0.7777777777777778,\"#000018\"],[0.8888888888888888,\"#000019\"],[1.0,\"#000020\"]],\"type\":\"contourcarpet\"}],\"contour\":[{\"colorscale\":[[0.0,\"#000011\"],[0.1111111111111111,\"#000012\"],[0.2222222222222222,\"#000013\"],[0.3333333333333333,\"#000014\"],[0.4444444444444444,\"#000015\"],[0.5555555555555556,\"#000016\"],[0.6666666666666666,\"#000017\"],[0.7777777777777778,\"#000018\"],[0.8888888888888888,\"#000019\"],[1.0,\"#000020\"]],\"type\":\"contour\"}],\"heatmap\":[{\"colorscale\":[[0.0,\"#000011\"],[0.1111111111111111,\"#000012\"],[0.2222222222222222,\"#000013\"],[0.3333333333333333,\"#000014\"],[0.4444444444444444,\"#000015\"],[0.5555555555555556,\"#000016\"],[0.6666666666666666,\"#000017\"],[0.7777777777777778,\"#000018\"],[0.8888888888888888,\"#000019\"],[1.0,\"#000020\"]],\"type\":\"heatmap\"}],\"histogram2d\":[{\"colorscale\":[[0.0,\"#000011\"],[0.1111111111111111,\"#000012\"],[0.2222222222222222,\"#000013\"],[0.3333333333333333,\"#000014\"],[0.4444444444444444,\"#000015\"],[0.5555555555555556,\"#000016\"],[0.6666666666666666,\"#000017\"],[0.7777777777777778,\"#000018\"],[0.8888888888888888,\"#000019\"],[1.0,\"#000020\"]],\"type\":\"histogram2d\"}],\"icicle\":[{\"textfont\":{\"color\":\"white\"},\"type\":\"icicle\"}],\"sankey\":[{\"textfont\":{\"color\":\"#000036\"},\"type\":\"sankey\"}],\"scatter\":[{\"marker\":{\"line\":{\"width\":0}},\"type\":\"scatter\"}],\"table\":[{\"cells\":{\"fill\":{\"color\":\"#000038\"},\"font\":{\"color\":\"#000037\"},\"line\":{\"color\":\"#000039\"}},\"header\":{\"fill\":{\"color\":\"#000040\"},\"font\":{\"color\":\"#000036\"},\"line\":{\"color\":\"#000039\"}},\"type\":\"table\"}],\"waterfall\":[{\"connector\":{\"line\":{\"color\":\"#000036\",\"width\":2}},\"decreasing\":{\"marker\":{\"color\":\"#000033\"}},\"increasing\":{\"marker\":{\"color\":\"#000032\"}},\"totals\":{\"marker\":{\"color\":\"#000034\"}},\"type\":\"waterfall\"}]},\"layout\":{\"coloraxis\":{\"colorscale\":[[0.0,\"#000011\"],[0.1111111111111111,\"#000012\"],[0.2222222222222222,\"#000013\"],[0.3333333333333333,\"#000014\"],[0.4444444444444444,\"#000015\"],[0.5555555555555556,\"#000016\"],[0.6666666666666666,\"#000017\"],[0.7777777777777778,\"#000018\"],[0.8888888888888888,\"#000019\"],[1.0,\"#000020\"]]},\"colorscale\":{\"diverging\":[[0.0,\"#000021\"],[0.1,\"#000022\"],[0.2,\"#000023\"],[0.3,\"#000024\"],[0.4,\"#000025\"],[0.5,\"#000026\"],[0.6,\"#000027\"],[0.7,\"#000028\"],[0.8,\"#000029\"],[0.9,\"#000030\"],[1.0,\"#000031\"]],\"sequential\":[[0.0,\"#000011\"],[0.1111111111111111,\"#000012\"],[0.2222222222222222,\"#000013\"],[0.3333333333333333,\"#000014\"],[0.4444444444444444,\"#000015\"],[0.5555555555555556,\"#000016\"],[0.6666666666666666,\"#000017\"],[0.7777777777777778,\"#000018\"],[0.8888888888888888,\"#000019\"],[1.0,\"#000020\"]],\"sequentialminus\":[[0.0,\"#000011\"],[0.1111111111111111,\"#000012\"],[0.2222222222222222,\"#000013\"],[0.3333333333333333,\"#000014\"],[0.4444444444444444,\"#000015\"],[0.5555555555555556,\"#000016\"],[0.6666666666666666,\"#000017\"],[0.7777777777777778,\"#000018\"],[0.8888888888888888,\"#000019\"],[1.0,\"#000020\"]]},\"colorway\":[\"#000001\",\"#000002\",\"#000003\",\"#000004\",\"#000005\",\"#000006\",\"#000007\",\"#000008\",\"#000009\",\"#000010\"]}}},                        {\"responsive\": true}                    ).then(function(){\n",
              "                            \n",
              "var gd = document.getElementById('d40619e1-e5cd-43ab-ae83-c4e6bddd1d33');\n",
              "var x = new MutationObserver(function (mutations, observer) {{\n",
              "        var display = window.getComputedStyle(gd).display;\n",
              "        if (!display || display === 'none') {{\n",
              "            console.log([gd, 'removed!']);\n",
              "            Plotly.purge(gd);\n",
              "            observer.disconnect();\n",
              "        }}\n",
              "}});\n",
              "\n",
              "// Listen for the removal of the full notebook cells\n",
              "var notebookContainer = gd.closest('#notebook-container');\n",
              "if (notebookContainer) {{\n",
              "    x.observe(notebookContainer, {childList: true});\n",
              "}}\n",
              "\n",
              "// Listen for the clearing of the current output cell\n",
              "var outputEl = gd.closest('.output');\n",
              "if (outputEl) {{\n",
              "    x.observe(outputEl, {childList: true});\n",
              "}}\n",
              "\n",
              "                        })                };                            </script>        </div>\n",
              "</body>\n",
              "</html>"
            ]
          },
          "metadata": {}
        }
      ]
    },
    {
      "cell_type": "code",
      "source": [
        "# Visualize one eigenvector\n",
        "points = np.asarray(stars[[\"x\", \"y\", \"z\"]])\n",
        "vec = evecs[:, 10]\n",
        "inf = vec.min()\n",
        "sup = vec.max()\n",
        "colors = [cm.hot(x)[0:3] for x in (vec - inf)/(sup-inf)]\n",
        "plot_stars(colors, 2)"
      ],
      "metadata": {
        "colab": {
          "base_uri": "https://localhost:8080/",
          "height": 1000
        },
        "id": "ii9206wbWYun",
        "outputId": "4c1c5ef5-47aa-4437-9003-e28f00ee4b55"
      },
      "execution_count": 23,
      "outputs": [
        {
          "output_type": "display_data",
          "data": {
            "text/html": [
              "<html>\n",
              "<head><meta charset=\"utf-8\" /></head>\n",
              "<body>\n",
              "    <div>            <script src=\"https://cdnjs.cloudflare.com/ajax/libs/mathjax/2.7.5/MathJax.js?config=TeX-AMS-MML_SVG\"></script><script type=\"text/javascript\">if (window.MathJax && window.MathJax.Hub && window.MathJax.Hub.Config) {window.MathJax.Hub.Config({SVG: {font: \"STIX-Web\"}});}</script>                <script type=\"text/javascript\">window.PlotlyConfig = {MathJaxConfig: 'local'};</script>\n",
              "        <script charset=\"utf-8\" src=\"https://cdn.plot.ly/plotly-2.24.1.min.js\"></script>                <div id=\"335d7067-c4e9-40cb-8e29-675cc2ca97ab\" class=\"plotly-graph-div\" style=\"height:1000px; width:1000px;\"></div>            <script type=\"text/javascript\">                                    window.PLOTLYENV=window.PLOTLYENV || {};                                    if (document.getElementById(\"335d7067-c4e9-40cb-8e29-675cc2ca97ab\")) {                    Plotly.newPlot(                        \"335d7067-c4e9-40cb-8e29-675cc2ca97ab\",                        [{\"marker\":{\"color\":[[0.6284061111027862,0.0,0.0],[0.9475462767902666,0.0,0.0],[0.8960720565180923,0.0,0.0],[0.9269565886813969,0.0,0.0],[0.9269565886813969,0.0,0.0],[0.3504453216330454,0.0,0.0],[0.6078164229939166,0.0,0.0],[0.0416,0.0,0.0],[1.0,1.0,0.42867589926413463],[0.6181112670483514,0.0,0.0],[0.7313545516471347,0.0,0.0],[0.8960720565180923,0.0,0.0],[1.0,0.029902870525482433,0.0],[0.5872267348850468,0.0,0.0],[1.0,0.009314668687192773,0.0],[0.6489957992116561,0.0,0.0],[0.5460473586673074,0.0,0.0],[0.9578411208447014,0.0,0.0],[0.7107648635382651,0.0,0.0],[0.9887256530080059,0.0,0.0],[0.9578411208447014,0.0,0.0],[0.2166123489253924,0.0,0.0],[0.7210597075926998,0.0,0.0],[0.38132985379634987,0.0,0.0],[0.6695854873205256,0.0,0.0],[0.5357525146128728,0.0,0.0],[0.9372514327358317,0.0,0.0],[0.9372514327358317,0.0,0.0],[0.37103500974191517,0.0,0.0],[0.8754823684092226,0.0,0.0],[0.42250923001408924,0.0,0.0],[0.8548926803003528,0.0,0.0],[0.6592906432660908,0.0,0.0],[0.9578411208447014,0.0,0.0],[0.8651875243547877,0.0,0.0],[0.1651381286532182,0.0,0.0],[0.9887256530080059,0.0,0.0],[0.6901751754293953,0.0,0.0],[0.8960720565180923,0.0,0.0],[0.5254576705584378,0.0,0.0],[0.7004700194838303,0.0,0.0],[0.978430808953571,0.0,0.0],[0.8343029921914833,0.0,0.0],[0.5048679824495681,0.0,0.0],[0.7416493957015696,0.0,0.0],[1.0,0.029902870525482433,0.0],[0.175432972707653,0.0,0.0],[0.37103500974191517,0.0,0.0],[0.9372514327358317,0.0,0.0],[0.12395875243547878,0.0,0.0],[0.1651381286532182,0.0,0.0],[0.07248453216330454,0.0,0.0],[0.8445978362459181,0.0,0.0],[0.7107648635382651,0.0,0.0],[0.7931236159737438,0.0,0.0],[0.9990204970624408,0.0,0.0],[0.6387009551572211,0.0,0.0],[0.8137133040826136,0.0,0.0],[0.36074016568748024,0.0,0.0],[1.0,0.019608769606337603,0.0],[0.5872267348850468,0.0,0.0],[0.7210597075926998,0.0,0.0],[1.0,1.0,0.567646626470156],[0.43280407406852417,0.0,0.0],[0.8445978362459181,0.0,0.0],[0.7004700194838303,0.0,0.0],[1.0,0.009314668687192773,0.0],[0.6592906432660908,0.0,0.0],[0.6078164229939166,0.0,0.0],[0.0827793762177394,0.0,0.0],[0.7210597075926998,0.0,0.0],[0.7931236159737438,0.0,0.0],[1.0,0.019608769606337603,0.0],[0.9269565886813969,0.0,0.0],[1.0,0.009314668687192773,0.0],[1.0,0.029902870525482433,0.0],[1.0,0.029902870525482433,0.0],[0.5254576705584378,0.0,0.0],[0.8960720565180923,0.0,0.0],[0.3504453216330454,0.0,0.0],[0.9887256530080059,0.0,0.0],[1.0,0.10196157695949624,0.0],[0.8548926803003528,0.0,0.0],[0.3401504775786106,0.0,0.0],[0.978430808953571,0.0,0.0],[0.8240081481370484,0.0,0.0],[0.8857772124636573,0.0,0.0],[1.0,0.029902870525482433,0.0],[0.5357525146128728,0.0,0.0],[0.37103500974191517,0.0,0.0],[0.9063669005725272,0.0,0.0],[0.9887256530080059,0.0,0.0],[0.5872267348850468,0.0,0.0],[0.9990204970624408,0.0,0.0],[0.47398345028626365,0.0,0.0],[0.8651875243547877,0.0,0.0],[0.8548926803003528,0.0,0.0],[0.6181112670483514,0.0,0.0],[0.7519442397560044,0.0,0.0],[0.9887256530080059,0.0,0.0],[0.9166617446269619,0.0,0.0],[1.0,0.9975483569250966,0.0],[0.5048679824495681,0.0,0.0],[0.6798803313749605,0.0,0.0],[0.9990204970624408,0.0,0.0],[0.7210597075926998,0.0,0.0],[0.7416493957015696,0.0,0.0],[0.3504453216330454,0.0,0.0],[0.5563422027217423,0.0,0.0],[0.8754823684092226,0.0,0.0],[1.0,0.019608769606337603,0.0],[1.0,0.009314668687192773,0.0],[1.0,0.029902870525482433,0.0],[0.9063669005725272,0.0,0.0],[0.9063669005725272,0.0,0.0],[0.6387009551572211,0.0,0.0],[0.7416493957015696,0.0,0.0],[0.7210597075926998,0.0,0.0],[0.7210597075926998,0.0,0.0],[0.9681359648991361,0.0,0.0],[0.7107648635382651,0.0,0.0],[0.3504453216330454,0.0,0.0],[0.8960720565180923,0.0,0.0],[0.7725339278648742,0.0,0.0],[0.5975215789394817,0.0,0.0],[0.5975215789394817,0.0,0.0],[0.7622390838104393,0.0,0.0],[0.9990204970624408,0.0,0.0],[0.4945731383951333,0.0,0.0],[0.5254576705584378,0.0,0.0],[1.0,0.019608769606337603,0.0],[1.0,0.009314668687192773,0.0],[0.2372020370342621,0.0,0.0],[0.6695854873205256,0.0,0.0],[0.9990204970624408,0.0,0.0],[0.7931236159737438,0.0,0.0],[0.7210597075926998,0.0,0.0],[1.0,0.009314668687192773,0.0],[0.5872267348850468,0.0,0.0],[0.9063669005725272,0.0,0.0],[0.5151628265040029,0.0,0.0],[0.978430808953571,0.0,0.0],[1.0,0.009314668687192773,0.0],[0.7725339278648742,0.0,0.0],[0.8034184600281785,0.0,0.0],[0.7519442397560044,0.0,0.0],[0.7107648635382651,0.0,0.0],[0.9681359648991361,0.0,0.0],[0.6695854873205256,0.0,0.0],[0.9578411208447014,0.0,0.0],[1.0,0.009314668687192773,0.0],[0.6284061111027862,0.0,0.0],[0.8445978362459181,0.0,0.0],[0.7519442397560044,0.0,0.0],[1.0,0.029902870525482433,0.0],[0.6489957992116561,0.0,0.0],[0.9372514327358317,0.0,0.0],[0.9475462767902666,0.0,0.0],[0.3401504775786106,0.0,0.0],[1.0,1.0,0.258822788234553],[0.6695854873205256,0.0,0.0],[0.8754823684092226,0.0,0.0],[0.9372514327358317,0.0,0.0],[0.7004700194838303,0.0,0.0],[0.8137133040826136,0.0,0.0],[0.9063669005725272,0.0,0.0],[0.6798803313749605,0.0,0.0],[1.0,0.009314668687192773,0.0],[0.9990204970624408,0.0,0.0],[0.5357525146128728,0.0,0.0],[1.0,0.029902870525482433,0.0],[1.0,0.029902870525482433,0.0],[0.3504453216330454,0.0,0.0],[0.6387009551572211,0.0,0.0],[0.6181112670483514,0.0,0.0],[0.9269565886813969,0.0,0.0],[0.5254576705584378,0.0,0.0],[1.0,0.019608769606337603,0.0],[0.7622390838104393,0.0,0.0],[0.7725339278648742,0.0,0.0],[0.6284061111027862,0.0,0.0],[0.9166617446269619,0.0,0.0],[0.4945731383951333,0.0,0.0],[0.9887256530080059,0.0,0.0],[0.9166617446269619,0.0,0.0],[0.7725339278648742,0.0,0.0],[0.7622390838104393,0.0,0.0],[0.6078164229939166,0.0,0.0],[0.6592906432660908,0.0,0.0],[0.5254576705584378,0.0,0.0],[0.8034184600281785,0.0,0.0],[0.9990204970624408,0.0,0.0],[1.0,0.029902870525482433,0.0],[0.7004700194838303,0.0,0.0],[0.9269565886813969,0.0,0.0],[1.0,0.029902870525482433,0.0],[0.8651875243547877,0.0,0.0],[0.7313545516471347,0.0,0.0],[0.9887256530080059,0.0,0.0],[0.8651875243547877,0.0,0.0],[0.9681359648991361,0.0,0.0],[0.9269565886813969,0.0,0.0],[0.7416493957015696,0.0,0.0],[0.6489957992116561,0.0,0.0],[0.9269565886813969,0.0,0.0],[1.0,0.019608769606337603,0.0],[0.3504453216330454,0.0,0.0],[1.0,0.009314668687192773,0.0],[1.0,0.9151955495719379,0.0],[0.43280407406852417,0.0,0.0],[0.4636886062318286,0.0,0.0],[0.8343029921914833,0.0,0.0],[0.9372514327358317,0.0,0.0],[0.7210597075926998,0.0,0.0],[0.7210597075926998,0.0,0.0],[0.8548926803003528,0.0,0.0],[0.9990204970624408,0.0,0.0],[1.0,0.029902870525482433,0.0],[0.7931236159737438,0.0,0.0],[0.5254576705584378,0.0,0.0],[0.7210597075926998,0.0,0.0],[0.7519442397560044,0.0,0.0],[1.0,0.9357837514102275,0.0],[0.47398345028626365,0.0,0.0],[0.05189484405443485,0.0,0.0],[1.0,0.019608769606337603,0.0],[0.9578411208447014,0.0,0.0],[0.5048679824495681,0.0,0.0],[0.9681359648991361,0.0,0.0],[0.8960720565180923,0.0,0.0],[0.9166617446269619,0.0,0.0],[0.9681359648991361,0.0,0.0],[0.3504453216330454,0.0,0.0],[0.7107648635382651,0.0,0.0],[0.7931236159737438,0.0,0.0],[1.0,0.009314668687192773,0.0],[0.36074016568748024,0.0,0.0],[0.24749688108869694,0.0,0.0],[1.0,0.029902870525482433,0.0],[0.8651875243547877,0.0,0.0],[0.8548926803003528,0.0,0.0],[0.3916246978507848,0.0,0.0],[0.43280407406852417,0.0,0.0],[0.43280407406852417,0.0,0.0],[1.0,0.019608769606337603,0.0],[0.6078164229939166,0.0,0.0],[1.0,0.009314668687192773,0.0],[0.6798803313749605,0.0,0.0],[0.8240081481370484,0.0,0.0],[1.0,0.029902870525482433,0.0],[1.0,0.09166747604035141,0.0],[0.6387009551572211,0.0,0.0],[0.9681359648991361,0.0,0.0],[0.7725339278648742,0.0,0.0],[0.43280407406852417,0.0,0.0],[1.0,0.6578430265933172,0.0],[0.8960720565180923,0.0,0.0],[0.6181112670483514,0.0,0.0],[0.8034184600281785,0.0,0.0],[1.0,0.019608769606337603,0.0],[0.7519442397560044,0.0,0.0],[1.0,1.0,1.0],[1.0,0.019608769606337603,0.0],[1.0,0.029902870525482433,0.0],[0.7004700194838303,0.0,0.0],[0.42250923001408924,0.0,0.0],[0.7622390838104393,0.0,0.0],[0.782828771919309,0.0,0.0],[0.6489957992116561,0.0,0.0],[1.0,0.14313798063607558,0.0],[0.6695854873205256,0.0,0.0],[1.0,0.029902870525482433,0.0],[0.9887256530080059,0.0,0.0],[1.0,0.029902870525482433,0.0],[0.7004700194838303,0.0,0.0],[0.7931236159737438,0.0,0.0],[1.0,0.029902870525482433,0.0],[0.978430808953571,0.0,0.0],[0.9166617446269619,0.0,0.0],[0.7519442397560044,0.0,0.0],[0.8548926803003528,0.0,0.0],[0.576931890830612,0.0,0.0],[0.8548926803003528,0.0,0.0],[1.0,0.009314668687192773,0.0],[0.5563422027217423,0.0,0.0],[0.6695854873205256,0.0,0.0],[0.7931236159737438,0.0,0.0],[0.3504453216330454,0.0,0.0],[0.8857772124636573,0.0,0.0],[0.4533937621773939,0.0,0.0],[1.0,0.019608769606337603,0.0],[0.0416,0.0,0.0],[0.7004700194838303,0.0,0.0],[0.9166617446269619,0.0,0.0],[1.0,0.009314668687192773,0.0],[0.0621896881088697,0.0,0.0],[0.9681359648991361,0.0,0.0],[0.8343029921914833,0.0,0.0],[0.6489957992116561,0.0,0.0],[0.5460473586673074,0.0,0.0],[1.0,0.029902870525482433,0.0],[0.9887256530080059,0.0,0.0],[0.8343029921914833,0.0,0.0],[1.0,0.009314668687192773,0.0],[0.7725339278648742,0.0,0.0],[0.09307422027217424,0.0,0.0],[0.9990204970624408,0.0,0.0],[0.9166617446269619,0.0,0.0],[0.8240081481370484,0.0,0.0],[0.9166617446269619,0.0,0.0],[0.9990204970624408,0.0,0.0],[0.5357525146128728,0.0,0.0],[0.7107648635382651,0.0,0.0],[0.6901751754293953,0.0,0.0],[0.8960720565180923,0.0,0.0],[0.8960720565180923,0.0,0.0],[0.5048679824495681,0.0,0.0],[1.0,0.6784312284316067,0.0],[0.6592906432660908,0.0,0.0],[0.8754823684092226,0.0,0.0],[1.0,0.029902870525482433,0.0],[0.8034184600281785,0.0,0.0],[0.8548926803003528,0.0,0.0],[0.576931890830612,0.0,0.0],[1.0,0.009314668687192773,0.0],[1.0,0.029902870525482433,0.0],[0.782828771919309,0.0,0.0],[0.37103500974191517,0.0,0.0],[0.6592906432660908,0.0,0.0],[0.41221438595965454,0.0,0.0],[0.8137133040826136,0.0,0.0],[0.8137133040826136,0.0,0.0],[0.9578411208447014,0.0,0.0],[1.0,0.029902870525482433,0.0],[0.6695854873205256,0.0,0.0],[0.7622390838104393,0.0,0.0],[0.36074016568748024,0.0,0.0],[1.0,0.060785173282916924,0.0],[0.7210597075926998,0.0,0.0],[1.0,0.019608769606337603,0.0],[0.7931236159737438,0.0,0.0],[0.42250923001408924,0.0,0.0],[0.24749688108869694,0.0,0.0],[0.3401504775786106,0.0,0.0],[0.4533937621773939,0.0,0.0],[0.7004700194838303,0.0,0.0],[0.5563422027217423,0.0,0.0],[0.8960720565180923,0.0,0.0],[0.978430808953571,0.0,0.0],[1.0,0.029902870525482433,0.0],[0.48427829434069847,0.0,0.0],[1.0,1.0,1.0],[0.5048679824495681,0.0,0.0],[0.8240081481370484,0.0,0.0],[1.0,0.029902870525482433,0.0],[0.4019195419052196,0.0,0.0],[0.9887256530080059,0.0,0.0],[0.7416493957015696,0.0,0.0],[0.9990204970624408,0.0,0.0],[0.782828771919309,0.0,0.0],[0.9990204970624408,0.0,0.0],[0.8137133040826136,0.0,0.0],[1.0,0.029902870525482433,0.0],[1.0,0.029902870525482433,0.0],[0.6901751754293953,0.0,0.0],[0.8034184600281785,0.0,0.0],[1.0,0.14313798063607558,0.0],[0.6798803313749605,0.0,0.0],[0.7416493957015696,0.0,0.0],[1.0,0.019608769606337603,0.0],[0.37103500974191517,0.0,0.0],[0.8960720565180923,0.0,0.0],[1.0,0.029902870525482433,0.0],[0.6489957992116561,0.0,0.0],[0.6284061111027862,0.0,0.0],[0.9475462767902666,0.0,0.0],[0.9578411208447014,0.0,0.0],[0.6387009551572211,0.0,0.0],[0.9269565886813969,0.0,0.0],[0.5048679824495681,0.0,0.0],[0.36074016568748024,0.0,0.0],[0.7313545516471347,0.0,0.0],[0.6284061111027862,0.0,0.0],[0.36074016568748024,0.0,0.0],[0.5563422027217423,0.0,0.0],[0.9990204970624408,0.0,0.0],[0.14454844054434846,0.0,0.0],[0.14454844054434846,0.0,0.0],[0.5357525146128728,0.0,0.0],[0.8034184600281785,0.0,0.0],[0.9372514327358317,0.0,0.0],[0.47398345028626365,0.0,0.0],[0.7725339278648742,0.0,0.0],[0.6489957992116561,0.0,0.0],[0.9269565886813969,0.0,0.0],[0.09307422027217424,0.0,0.0],[1.0,0.029902870525482433,0.0],[0.7210597075926998,0.0,0.0],[1.0,0.029902870525482433,0.0],[0.4636886062318286,0.0,0.0],[0.7622390838104393,0.0,0.0],[0.7931236159737438,0.0,0.0],[0.7416493957015696,0.0,0.0],[0.9990204970624408,0.0,0.0],[0.8445978362459181,0.0,0.0],[0.9166617446269619,0.0,0.0],[0.6798803313749605,0.0,0.0],[0.7725339278648742,0.0,0.0],[1.0,0.5857843201593033,0.0],[1.0,0.019608769606337603,0.0],[0.31956078946974087,0.0,0.0],[0.6695854873205256,0.0,0.0],[0.7416493957015696,0.0,0.0],[1.0,0.029902870525482433,0.0],[0.6284061111027862,0.0,0.0],[0.7210597075926998,0.0,0.0],[0.4533937621773939,0.0,0.0],[0.9578411208447014,0.0,0.0],[0.8960720565180923,0.0,0.0],[1.0,0.9975483569250966,0.0],[0.8240081481370484,0.0,0.0],[1.0,0.019608769606337603,0.0],[0.7210597075926998,0.0,0.0],[0.9166617446269619,0.0,0.0],[0.6387009551572211,0.0,0.0],[0.576931890830612,0.0,0.0],[0.7931236159737438,0.0,0.0],[0.9681359648991361,0.0,0.0],[1.0,0.019608769606337603,0.0],[0.9063669005725272,0.0,0.0],[0.8548926803003528,0.0,0.0],[0.5872267348850468,0.0,0.0],[1.0,0.019608769606337603,0.0],[0.0621896881088697,0.0,0.0],[0.6592906432660908,0.0,0.0],[0.7107648635382651,0.0,0.0],[1.0,0.029902870525482433,0.0],[1.0,0.029902870525482433,0.0],[1.0,0.23578488890837906,0.0],[0.5666370467761772,0.0,0.0],[0.8857772124636573,0.0,0.0],[1.0,0.029902870525482433,0.0],[0.8651875243547877,0.0,0.0],[0.7313545516471347,0.0,0.0],[0.5666370467761772,0.0,0.0],[0.4945731383951333,0.0,0.0],[0.978430808953571,0.0,0.0],[0.6695854873205256,0.0,0.0],[1.0,0.019608769606337603,0.0],[0.3504453216330454,0.0,0.0],[0.0416,0.0,0.0],[0.5151628265040029,0.0,0.0],[1.0,0.029902870525482433,0.0],[0.8754823684092226,0.0,0.0],[0.6181112670483514,0.0,0.0],[0.8651875243547877,0.0,0.0],[0.9681359648991361,0.0,0.0],[0.9990204970624408,0.0,0.0],[0.8960720565180923,0.0,0.0],[0.6387009551572211,0.0,0.0],[0.8960720565180923,0.0,0.0],[1.0,0.009314668687192773,0.0],[0.8754823684092226,0.0,0.0],[0.43280407406852417,0.0,0.0],[1.0,0.019608769606337603,0.0],[0.6387009551572211,0.0,0.0],[0.782828771919309,0.0,0.0],[0.6798803313749605,0.0,0.0],[0.8137133040826136,0.0,0.0],[0.9372514327358317,0.0,0.0],[0.8857772124636573,0.0,0.0],[1.0,0.009314668687192773,0.0],[0.8651875243547877,0.0,0.0],[0.7210597075926998,0.0,0.0],[0.8651875243547877,0.0,0.0],[1.0,1.0,0.05808729338141112],[0.8960720565180923,0.0,0.0],[0.8343029921914833,0.0,0.0],[0.5357525146128728,0.0,0.0],[0.6284061111027862,0.0,0.0],[0.4945731383951333,0.0,0.0],[0.978430808953571,0.0,0.0],[0.8960720565180923,0.0,0.0],[0.28867625730643637,0.0,0.0],[0.8240081481370484,0.0,0.0],[0.9578411208447014,0.0,0.0],[0.978430808953571,0.0,0.0],[0.7725339278648742,0.0,0.0],[0.8857772124636573,0.0,0.0],[0.9990204970624408,0.0,0.0],[0.37103500974191517,0.0,0.0],[0.5563422027217423,0.0,0.0],[0.6901751754293953,0.0,0.0],[0.7107648635382651,0.0,0.0],[0.7725339278648742,0.0,0.0],[0.9063669005725272,0.0,0.0],[0.978430808953571,0.0,0.0],[0.7725339278648742,0.0,0.0],[0.6901751754293953,0.0,0.0],[0.7416493957015696,0.0,0.0],[0.9063669005725272,0.0,0.0],[1.0,0.019608769606337603,0.0],[0.7519442397560044,0.0,0.0],[0.5151628265040029,0.0,0.0],[0.7313545516471347,0.0,0.0],[0.8240081481370484,0.0,0.0],[0.5975215789394817,0.0,0.0],[0.9372514327358317,0.0,0.0],[0.9990204970624408,0.0,0.0],[0.6284061111027862,0.0,0.0],[1.0,0.029902870525482433,0.0],[0.6489957992116561,0.0,0.0],[0.4945731383951333,0.0,0.0],[0.5151628265040029,0.0,0.0],[0.7725339278648742,0.0,0.0],[0.8548926803003528,0.0,0.0],[0.9063669005725272,0.0,0.0],[0.7210597075926998,0.0,0.0],[0.36074016568748024,0.0,0.0],[0.8445978362459181,0.0,0.0],[0.7931236159737438,0.0,0.0],[0.8034184600281785,0.0,0.0],[0.5563422027217423,0.0,0.0],[0.7416493957015696,0.0,0.0],[0.3504453216330454,0.0,0.0],[0.5666370467761772,0.0,0.0],[0.978430808953571,0.0,0.0],[0.6695854873205256,0.0,0.0],[0.8960720565180923,0.0,0.0],[0.7210597075926998,0.0,0.0],[0.7416493957015696,0.0,0.0],[1.0,0.009314668687192773,0.0],[0.6798803313749605,0.0,0.0],[0.4430989181229591,0.0,0.0],[0.7210597075926998,0.0,0.0],[0.782828771919309,0.0,0.0],[0.8445978362459181,0.0,0.0],[0.9475462767902666,0.0,0.0],[0.5460473586673074,0.0,0.0],[0.9372514327358317,0.0,0.0],[0.9269565886813969,0.0,0.0],[0.6592906432660908,0.0,0.0],[1.0,0.029902870525482433,0.0],[0.9681359648991361,0.0,0.0],[0.6695854873205256,0.0,0.0],[0.8343029921914833,0.0,0.0],[0.42250923001408924,0.0,0.0],[0.6695854873205256,0.0,0.0],[0.7622390838104393,0.0,0.0],[0.7931236159737438,0.0,0.0],[1.0,0.019608769606337603,0.0],[0.7313545516471347,0.0,0.0],[1.0,0.8225486412996345,0.0],[0.8445978362459181,0.0,0.0],[0.7725339278648742,0.0,0.0],[0.7931236159737438,0.0,0.0],[0.5563422027217423,0.0,0.0],[0.576931890830612,0.0,0.0],[0.6181112670483514,0.0,0.0],[0.175432972707653,0.0,0.0],[1.0,0.029902870525482433,0.0],[0.9681359648991361,0.0,0.0],[0.6798803313749605,0.0,0.0],[0.8960720565180923,0.0,0.0],[0.7931236159737438,0.0,0.0],[0.7931236159737438,0.0,0.0],[0.8240081481370484,0.0,0.0],[0.8754823684092226,0.0,0.0],[0.8651875243547877,0.0,0.0],[0.7725339278648742,0.0,0.0],[0.8034184600281785,0.0,0.0],[0.9990204970624408,0.0,0.0],[1.0,0.029902870525482433,0.0],[0.4430989181229591,0.0,0.0],[0.7107648635382651,0.0,0.0],[1.0,0.019608769606337603,0.0],[0.8137133040826136,0.0,0.0],[1.0,0.30784359534239286,0.0],[1.0,0.5857843201593033,0.0],[1.0,0.009314668687192773,0.0],[0.9475462767902666,0.0,0.0],[1.0,0.009314668687192773,0.0],[0.9269565886813969,0.0,0.0],[1.0,0.029902870525482433,0.0],[0.8857772124636573,0.0,0.0],[0.4430989181229591,0.0,0.0],[0.978430808953571,0.0,0.0],[0.7519442397560044,0.0,0.0],[0.6901751754293953,0.0,0.0],[0.31956078946974087,0.0,0.0],[1.0,0.019608769606337603,0.0],[0.8651875243547877,0.0,0.0],[0.7931236159737438,0.0,0.0],[0.7725339278648742,0.0,0.0],[0.42250923001408924,0.0,0.0],[1.0,0.019608769606337603,0.0],[0.22690719297982725,0.0,0.0],[0.8651875243547877,0.0,0.0],[1.0,0.019608769606337603,0.0],[0.7519442397560044,0.0,0.0],[0.6387009551572211,0.0,0.0],[0.7519442397560044,0.0,0.0],[0.43280407406852417,0.0,0.0],[0.978430808953571,0.0,0.0],[0.9990204970624408,0.0,0.0],[1.0,0.029902870525482433,0.0],[0.42250923001408924,0.0,0.0],[0.8651875243547877,0.0,0.0],[1.0,0.029902870525482433,0.0],[1.0,0.7607840357847654,0.0],[0.7313545516471347,0.0,0.0],[0.4533937621773939,0.0,0.0],[0.4430989181229591,0.0,0.0],[1.0,0.029902870525482433,0.0],[0.6489957992116561,0.0,0.0],[0.8754823684092226,0.0,0.0],[0.7519442397560044,0.0,0.0],[0.4945731383951333,0.0,0.0],[0.9166617446269619,0.0,0.0],[0.41221438595965454,0.0,0.0],[0.9475462767902666,0.0,0.0],[1.0,0.029902870525482433,0.0],[0.6387009551572211,0.0,0.0],[0.36074016568748024,0.0,0.0],[0.6695854873205256,0.0,0.0],[0.9166617446269619,0.0,0.0],[0.5048679824495681,0.0,0.0],[0.7004700194838303,0.0,0.0],[0.576931890830612,0.0,0.0],[0.7622390838104393,0.0,0.0],[1.0,0.029902870525482433,0.0],[1.0,0.029902870525482433,0.0],[0.8754823684092226,0.0,0.0],[0.8034184600281785,0.0,0.0],[0.24749688108869694,0.0,0.0],[0.4636886062318286,0.0,0.0],[0.7313545516471347,0.0,0.0],[0.8240081481370484,0.0,0.0],[0.9475462767902666,0.0,0.0],[0.48427829434069847,0.0,0.0],[0.8343029921914833,0.0,0.0],[0.7725339278648742,0.0,0.0],[0.9372514327358317,0.0,0.0],[0.6078164229939166,0.0,0.0],[0.978430808953571,0.0,0.0],[0.7313545516471347,0.0,0.0],[0.782828771919309,0.0,0.0],[0.5151628265040029,0.0,0.0],[0.4945731383951333,0.0,0.0],[0.2577917251431318,0.0,0.0],[0.7931236159737438,0.0,0.0],[0.42250923001408924,0.0,0.0],[0.9990204970624408,0.0,0.0],[0.24749688108869694,0.0,0.0],[0.9887256530080059,0.0,0.0],[0.7519442397560044,0.0,0.0],[0.6489957992116561,0.0,0.0],[0.37103500974191517,0.0,0.0],[0.782828771919309,0.0,0.0],[1.0,0.009314668687192773,0.0],[0.41221438595965454,0.0,0.0],[0.8754823684092226,0.0,0.0],[0.576931890830612,0.0,0.0],[0.9887256530080059,0.0,0.0],[0.7004700194838303,0.0,0.0],[0.9372514327358317,0.0,0.0],[0.9990204970624408,0.0,0.0],[1.0,0.019608769606337603,0.0],[1.0,0.029902870525482433,0.0],[0.9990204970624408,0.0,0.0],[0.9887256530080059,0.0,0.0],[0.7725339278648742,0.0,0.0],[0.6798803313749605,0.0,0.0],[0.5357525146128728,0.0,0.0],[0.4533937621773939,0.0,0.0],[0.42250923001408924,0.0,0.0],[1.0,0.009314668687192773,0.0],[0.6592906432660908,0.0,0.0],[0.6798803313749605,0.0,0.0],[1.0,0.029902870525482433,0.0],[0.782828771919309,0.0,0.0],[1.0,0.544607916482724,0.0],[0.3401504775786106,0.0,0.0],[0.9269565886813969,0.0,0.0],[0.42250923001408924,0.0,0.0],[0.6901751754293953,0.0,0.0],[0.6592906432660908,0.0,0.0],[1.0,0.029902870525482433,0.0],[0.3916246978507848,0.0,0.0],[0.7725339278648742,0.0,0.0],[0.7107648635382651,0.0,0.0],[0.6798803313749605,0.0,0.0],[0.9475462767902666,0.0,0.0],[0.8034184600281785,0.0,0.0],[0.8240081481370484,0.0,0.0],[0.9887256530080059,0.0,0.0],[1.0,0.019608769606337603,0.0],[0.7725339278648742,0.0,0.0],[0.8034184600281785,0.0,0.0],[0.7931236159737438,0.0,0.0],[0.7519442397560044,0.0,0.0],[0.5151628265040029,0.0,0.0],[1.0,0.019608769606337603,0.0],[0.3504453216330454,0.0,0.0],[0.8960720565180923,0.0,0.0],[0.7519442397560044,0.0,0.0],[0.9578411208447014,0.0,0.0],[0.7210597075926998,0.0,0.0],[0.4430989181229591,0.0,0.0],[0.3401504775786106,0.0,0.0],[0.6387009551572211,0.0,0.0],[0.782828771919309,0.0,0.0],[0.1651381286532182,0.0,0.0],[1.0,0.029902870525482433,0.0],[0.6489957992116561,0.0,0.0],[0.9269565886813969,0.0,0.0],[0.978430808953571,0.0,0.0],[0.8445978362459181,0.0,0.0],[0.8240081481370484,0.0,0.0],[0.7622390838104393,0.0,0.0],[0.6284061111027862,0.0,0.0],[0.9063669005725272,0.0,0.0],[0.6901751754293953,0.0,0.0],[0.6798803313749605,0.0,0.0],[0.7416493957015696,0.0,0.0],[0.6592906432660908,0.0,0.0],[1.0,0.019608769606337603,0.0],[0.7416493957015696,0.0,0.0],[0.8034184600281785,0.0,0.0],[0.6695854873205256,0.0,0.0],[0.9887256530080059,0.0,0.0],[0.5666370467761772,0.0,0.0],[1.0,0.029902870525482433,0.0],[0.8754823684092226,0.0,0.0],[0.37103500974191517,0.0,0.0],[0.7519442397560044,0.0,0.0],[0.5151628265040029,0.0,0.0],[0.9063669005725272,0.0,0.0],[0.9372514327358317,0.0,0.0],[0.9990204970624408,0.0,0.0],[1.0,0.029902870525482433,0.0],[0.5048679824495681,0.0,0.0],[0.9887256530080059,0.0,0.0],[0.7725339278648742,0.0,0.0],[0.9269565886813969,0.0,0.0],[0.7622390838104393,0.0,0.0],[0.8137133040826136,0.0,0.0],[0.6489957992116561,0.0,0.0],[0.9269565886813969,0.0,0.0],[0.5151628265040029,0.0,0.0],[0.07248453216330454,0.0,0.0],[0.9269565886813969,0.0,0.0],[1.0,0.019608769606337603,0.0],[0.7004700194838303,0.0,0.0],[0.8137133040826136,0.0,0.0],[1.0,0.029902870525482433,0.0],[0.9063669005725272,0.0,0.0],[1.0,0.029902870525482433,0.0],[1.0,0.009314668687192773,0.0],[0.9990204970624408,0.0,0.0],[0.2577917251431318,0.0,0.0],[0.3504453216330454,0.0,0.0],[0.8548926803003528,0.0,0.0],[0.5048679824495681,0.0,0.0],[1.0,0.029902870525482433,0.0],[0.8548926803003528,0.0,0.0],[0.5563422027217423,0.0,0.0],[0.9990204970624408,0.0,0.0],[0.6901751754293953,0.0,0.0],[0.3401504775786106,0.0,0.0],[0.7622390838104393,0.0,0.0],[0.7210597075926998,0.0,0.0],[0.5460473586673074,0.0,0.0],[0.5254576705584378,0.0,0.0],[0.6592906432660908,0.0,0.0],[0.4533937621773939,0.0,0.0],[0.5666370467761772,0.0,0.0],[0.7416493957015696,0.0,0.0],[0.7004700194838303,0.0,0.0],[0.42250923001408924,0.0,0.0],[0.6695854873205256,0.0,0.0],[0.9372514327358317,0.0,0.0],[0.6078164229939166,0.0,0.0],[0.576931890830612,0.0,0.0],[0.9887256530080059,0.0,0.0],[0.9063669005725272,0.0,0.0],[0.6489957992116561,0.0,0.0],[0.8960720565180923,0.0,0.0],[0.175432972707653,0.0,0.0],[0.6387009551572211,0.0,0.0],[0.7931236159737438,0.0,0.0],[0.7416493957015696,0.0,0.0],[0.6695854873205256,0.0,0.0],[0.6592906432660908,0.0,0.0],[0.7107648635382651,0.0,0.0],[1.0,0.009314668687192773,0.0],[0.8343029921914833,0.0,0.0],[1.0,0.009314668687192773,0.0],[0.6078164229939166,0.0,0.0],[0.7725339278648742,0.0,0.0],[0.9990204970624408,0.0,0.0],[0.7931236159737438,0.0,0.0],[0.28867625730643637,0.0,0.0],[0.8651875243547877,0.0,0.0],[0.8343029921914833,0.0,0.0],[0.3401504775786106,0.0,0.0],[0.9887256530080059,0.0,0.0],[0.4945731383951333,0.0,0.0],[0.8651875243547877,0.0,0.0],[1.0,0.019608769606337603,0.0],[0.8857772124636573,0.0,0.0],[0.6078164229939166,0.0,0.0],[1.0,0.019608769606337603,0.0],[0.9681359648991361,0.0,0.0],[0.9166617446269619,0.0,0.0],[0.9475462767902666,0.0,0.0],[0.43280407406852417,0.0,0.0],[0.0827793762177394,0.0,0.0],[0.8857772124636573,0.0,0.0],[0.7622390838104393,0.0,0.0],[0.6901751754293953,0.0,0.0],[0.9372514327358317,0.0,0.0],[0.7416493957015696,0.0,0.0],[0.4945731383951333,0.0,0.0],[0.8548926803003528,0.0,0.0],[0.9990204970624408,0.0,0.0],[0.3504453216330454,0.0,0.0],[0.6798803313749605,0.0,0.0],[0.8343029921914833,0.0,0.0],[0.978430808953571,0.0,0.0],[0.9578411208447014,0.0,0.0],[0.5151628265040029,0.0,0.0],[0.7931236159737438,0.0,0.0],[0.7725339278648742,0.0,0.0],[0.8445978362459181,0.0,0.0],[1.0,0.019608769606337603,0.0],[0.576931890830612,0.0,0.0],[0.9887256530080059,0.0,0.0],[0.9166617446269619,0.0,0.0],[0.9578411208447014,0.0,0.0],[0.6489957992116561,0.0,0.0],[0.5460473586673074,0.0,0.0],[0.6489957992116561,0.0,0.0],[0.7622390838104393,0.0,0.0],[0.5563422027217423,0.0,0.0],[0.38132985379634987,0.0,0.0],[0.37103500974191517,0.0,0.0],[0.4945731383951333,0.0,0.0],[0.7416493957015696,0.0,0.0],[0.8240081481370484,0.0,0.0],[0.9063669005725272,0.0,0.0],[0.5975215789394817,0.0,0.0],[1.0,0.9563719532485172,0.0],[0.48427829434069847,0.0,0.0],[0.8548926803003528,0.0,0.0],[0.37103500974191517,0.0,0.0],[0.8651875243547877,0.0,0.0],[0.8240081481370484,0.0,0.0],[0.9887256530080059,0.0,0.0],[0.8857772124636573,0.0,0.0],[0.38132985379634987,0.0,0.0],[0.8857772124636573,0.0,0.0],[0.9063669005725272,0.0,0.0],[0.9269565886813969,0.0,0.0],[0.8651875243547877,0.0,0.0],[0.5563422027217423,0.0,0.0],[0.9578411208447014,0.0,0.0],[0.7931236159737438,0.0,0.0],[0.8548926803003528,0.0,0.0],[0.6798803313749605,0.0,0.0],[0.9990204970624408,0.0,0.0],[0.6695854873205256,0.0,0.0],[0.7004700194838303,0.0,0.0],[0.7725339278648742,0.0,0.0],[0.6592906432660908,0.0,0.0],[1.0,0.029902870525482433,0.0],[0.175432972707653,0.0,0.0],[1.0,0.7710781367039102,0.0],[0.9578411208447014,0.0,0.0],[1.0,0.009314668687192773,0.0],[1.0,0.009314668687192773,0.0],[0.8754823684092226,0.0,0.0],[0.6695854873205256,0.0,0.0],[0.8034184600281785,0.0,0.0],[1.0,0.029902870525482433,0.0],[0.9166617446269619,0.0,0.0],[0.6387009551572211,0.0,0.0],[0.2680865691975667,0.0,0.0],[1.0,0.029902870525482433,0.0],[0.8034184600281785,0.0,0.0],[0.8343029921914833,0.0,0.0],[0.6592906432660908,0.0,0.0],[0.9887256530080059,0.0,0.0],[0.5048679824495681,0.0,0.0],[0.6695854873205256,0.0,0.0],[0.175432972707653,0.0,0.0],[0.6798803313749605,0.0,0.0],[0.7107648635382651,0.0,0.0],[1.0,1.0,0.567646626470156],[1.0,0.019608769606337603,0.0],[0.782828771919309,0.0,0.0],[0.5357525146128728,0.0,0.0],[0.9681359648991361,0.0,0.0],[0.8548926803003528,0.0,0.0],[0.8445978362459181,0.0,0.0],[0.20631750487095757,0.0,0.0],[0.8445978362459181,0.0,0.0],[0.9475462767902666,0.0,0.0],[0.8857772124636573,0.0,0.0],[0.9887256530080059,0.0,0.0],[1.0,0.029902870525482433,0.0],[0.43280407406852417,0.0,0.0],[0.6695854873205256,0.0,0.0],[0.9166617446269619,0.0,0.0],[0.5872267348850468,0.0,0.0],[0.9887256530080059,0.0,0.0],[0.8548926803003528,0.0,0.0],[1.0,1.0,0.567646626470156],[0.7004700194838303,0.0,0.0],[0.9990204970624408,0.0,0.0],[1.0,0.009314668687192773,0.0],[0.9372514327358317,0.0,0.0],[0.7313545516471347,0.0,0.0],[1.0,0.009314668687192773,0.0],[0.6078164229939166,0.0,0.0],[1.0,0.009314668687192773,0.0],[0.7416493957015696,0.0,0.0],[0.6592906432660908,0.0,0.0],[0.5563422027217423,0.0,0.0],[0.3504453216330454,0.0,0.0],[0.6798803313749605,0.0,0.0],[0.6387009551572211,0.0,0.0],[1.0,0.029902870525482433,0.0],[0.07248453216330454,0.0,0.0],[1.0,0.009314668687192773,0.0],[0.7931236159737438,0.0,0.0],[0.7519442397560044,0.0,0.0],[0.3401504775786106,0.0,0.0],[0.9887256530080059,0.0,0.0],[0.5357525146128728,0.0,0.0],[1.0,0.029902870525482433,0.0],[0.5975215789394817,0.0,0.0],[1.0,0.029902870525482433,0.0],[1.0,0.009314668687192773,0.0],[0.5151628265040029,0.0,0.0],[0.7210597075926998,0.0,0.0],[0.9990204970624408,0.0,0.0],[0.9990204970624408,0.0,0.0],[0.6489957992116561,0.0,0.0],[0.9681359648991361,0.0,0.0],[0.9063669005725272,0.0,0.0],[0.10336906432660908,0.0,0.0],[0.4636886062318286,0.0,0.0],[1.0,0.029902870525482433,0.0],[1.0,0.009314668687192773,0.0],[0.37103500974191517,0.0,0.0],[0.8034184600281785,0.0,0.0],[0.38132985379634987,0.0,0.0],[0.7107648635382651,0.0,0.0],[0.978430808953571,0.0,0.0],[0.7519442397560044,0.0,0.0],[0.6798803313749605,0.0,0.0],[0.7107648635382651,0.0,0.0],[0.7622390838104393,0.0,0.0],[0.9578411208447014,0.0,0.0],[0.6284061111027862,0.0,0.0],[0.8034184600281785,0.0,0.0],[0.7004700194838303,0.0,0.0],[0.9063669005725272,0.0,0.0],[0.1651381286532182,0.0,0.0],[0.978430808953571,0.0,0.0],[0.175432972707653,0.0,0.0],[0.8857772124636573,0.0,0.0],[0.8240081481370484,0.0,0.0],[0.9063669005725272,0.0,0.0],[0.7004700194838303,0.0,0.0],[0.42250923001408924,0.0,0.0],[1.0,0.029902870525482433,0.0],[0.6387009551572211,0.0,0.0],[0.9887256530080059,0.0,0.0],[1.0,0.029902870525482433,0.0],[0.7519442397560044,0.0,0.0],[0.12395875243547878,0.0,0.0],[0.9063669005725272,0.0,0.0],[0.8548926803003528,0.0,0.0],[0.38132985379634987,0.0,0.0],[0.6387009551572211,0.0,0.0],[0.8137133040826136,0.0,0.0],[0.9681359648991361,0.0,0.0],[0.7107648635382651,0.0,0.0],[0.6387009551572211,0.0,0.0],[0.8960720565180923,0.0,0.0],[0.7519442397560044,0.0,0.0],[0.9887256530080059,0.0,0.0],[0.9475462767902666,0.0,0.0],[0.4533937621773939,0.0,0.0],[0.7725339278648742,0.0,0.0],[0.3401504775786106,0.0,0.0],[1.0,0.029902870525482433,0.0],[0.36074016568748024,0.0,0.0]],\"size\":2},\"mode\":\"markers\",\"x\":[305.422956,-18.20572,4.188645,230.97326,19.919861,78.132122,9.329362,-25.026834,84.812094,-26.242386,-50.002486,-88.19709,-50.744572,-253.32519,17.134152,-53.288089,-6.970442,-39.884397,89.398388,86.735595,-87.858658,-99.152208,-161.474889,63.693781,-84.097256,341.49833,-164.911779,63.573335,576.773753,8.341438,5.191169,44.897795,26.579427,-115.77197,-193.907555,-77.69581,-263.173172,152.056811,-26.536218,-123.355594,219.575476,203.773486,62.554912,36.822101,22.374744,-48.531994,-67.444519,-96.580912,-164.80067,-43.767631,-61.197034,28.731839,-102.313983,-117.680248,-4.586622,-6.20554,11.063883,286.759484,2.79296,-29.862269,225.041798,-21.829656,-205.39526,63.936019,-116.709677,-63.756139,-56.184604,448.259708,-42.941059,-25.37135,-159.530179,64.910474,24.580179,52.267979,-54.063564,105.720794,317.179214,181.340459,102.533715,-49.643649,46.784349,-159.297386,31.215983,-48.377376,79.200636,-40.494294,39.671515,-40.36562,300.320994,123.98644,-181.580403,20.449104,-301.037509,16.361643,69.311991,102.981622,34.100534,75.72791,-20.32091,-51.038929,-18.342658,-2.578766,19.143409,138.6977,-105.95073,-96.858536,54.52268,33.370231,11.001755,237.771681,-139.941612,260.129797,-131.129948,-81.506224,-442.117248,120.258632,185.262665,-35.913497,-105.08064,-91.751031,195.881677,196.758136,-51.099362,151.37839,472.053115,-2.923719,-133.281464,36.78245,336.723207,223.979645,-92.622806,-203.436097,-12.207309,-65.581062,-137.21059,-8.177731,-94.261573,65.149673,-11.275202,43.000778,116.806761,239.696551,-96.274393,-171.195441,-212.285612,-337.775534,182.315011,-120.399017,-66.389575,-84.815561,166.291298,74.033008,76.535683,-95.251692,164.014089,195.55419,190.0543,164.740725,-69.023535,-103.91994,107.311777,-338.128639,330.182048,-320.220671,-35.603332,-147.236225,13.357052,-236.08305,-75.925237,50.002187,-124.086115,-72.991697,-37.6154,-102.751564,-182.8869,-18.115165,-461.030018,-182.671748,-89.564838,-124.090348,-63.883987,-18.334795,161.129264,77.177709,-68.093609,-21.335411,147.202261,-17.168544,3.207811,41.817915,19.74008,-202.291114,-110.258746,-81.14398,-71.560609,26.296929,72.111922,-82.200472,112.809748,-139.797264,-36.307336,-128.404056,101.283472,-58.589534,-100.067671,-152.002319,-43.370552,-207.101485,-321.147626,40.77665,-66.007831,30.459149,80.509438,116.548753,74.908892,-41.62866,-80.228599,201.51286,9.758009,59.323611,163.278585,0.851167,-41.132577,-93.589078,0.5933,-0.142646,133.434061,-421.697866,-103.859673,-181.677492,79.007222,11.46759,-88.352579,81.087725,430.589579,-48.621937,57.651072,-8.501958,-74.347748,22.475581,134.798032,109.973824,-66.772702,-335.989345,121.783429,73.742799,147.319866,-33.760066,413.15451,-105.202666,-372.778861,143.320356,-22.883234,4.383885,-93.919889,-63.981638,16.972751,-287.889426,74.715754,13.017103,5.941564,502.44035,-61.979892,-230.228717,-41.28097,117.563351,-34.018555,12.795926,-151.104114,-14.327754,428.343235,213.201242,-23.278189,-1.549724,-71.414527,-72.574511,-20.070841,276.484961,138.246506,-2.695192,-28.152193,-29.412713,61.418764,99.493647,152.221466,-50.707127,76.014147,159.305863,-188.329929,364.549489,-47.337466,50.295052,-204.488858,152.752273,45.156326,-6.520133,-80.558411,147.765295,111.30816,186.792501,150.821567,331.099572,82.434598,66.068427,-41.436932,-15.928667,-12.94483,-212.188543,148.336961,28.074109,-95.678055,-72.859026,65.323757,-54.221334,23.849137,3.072094,-277.327903,-25.63886,-14.90549,-99.897992,202.723103,111.139367,-92.032572,-119.12431,-120.283186,66.16338,34.679203,557.906411,245.864202,-29.413544,176.683871,-16.856667,7.206332,-317.512639,91.850132,8.960177,-90.860012,62.00713,-109.576552,-214.672029,171.818544,-5.976026,-37.701047,288.182408,-120.283102,184.406006,-82.562311,-291.033105,-73.554069,47.541401,30.710298,-229.35949,130.585919,-124.129312,-74.878317,-299.660538,108.348027,-79.361026,87.629132,63.903074,-89.096741,29.862033,-89.796831,-205.704199,121.149746,69.847221,48.21077,61.988789,-40.972808,-38.423434,306.274979,28.948511,215.04466,-69.490104,207.298788,58.867088,-4.597216,-317.638319,-94.122663,37.340828,-101.734257,-39.210964,-19.453963,419.059603,-195.306079,127.174243,-18.145875,-59.6465,-20.191804,-68.864196,-245.196085,76.096636,7.069401,-61.620136,78.620957,-13.873545,33.398366,289.89633,129.460109,7.557272,-241.335765,337.655754,158.948999,234.214982,-226.133539,181.200808,-135.77801,66.052136,62.965631,68.906532,69.545326,-21.287829,-74.584158,246.369631,-513.573796,-215.702696,45.122822,-169.591219,-71.554463,-13.831921,119.501836,-2.652202,-199.125469,-33.330747,290.92317,-106.614986,0.44278,-10.737042,147.502989,255.884481,139.312117,-86.29037,-28.21176,-24.243051,-31.180195,-30.947871,-6.071051,210.469359,-117.646297,-78.721824,-128.055088,-48.660122,-46.729181,-36.281606,146.755909,137.075239,-2.599813,105.957429,-26.043024,-354.946276,76.192343,-361.188604,193.584804,18.111485,8.309962,-58.056472,-94.394099,-20.184753,150.554125,-287.583561,32.7544,98.807925,-431.069528,158.620819,-78.310909,74.538655,-5.926511,62.110142,-31.842164,98.428753,67.507863,31.564464,-286.384162,1.334113,-254.906359,-80.536239,45.907556,-115.865618,-196.551211,-39.450653,224.033101,-62.913632,17.103973,-41.069394,-31.314888,23.271109,0.889958,-70.023271,53.628531,0.305734,-250.898959,-387.915633,-59.214348,-47.852769,23.976008,48.128158,78.266217,127.528766,26.438266,-33.6301,-108.555746,-135.667075,34.556239,-436.420205,-341.840337,-136.236426,164.864113,-120.958704,29.667151,28.406275,-85.699549,215.96147,70.295967,890.121536,-148.284215,13.71986,-235.325649,-84.377906,115.288699,89.477897,48.749093,81.521205,297.327696,83.912975,-155.475019,-369.59655,208.068431,32.562293,124.169878,301.571295,-101.614363,-154.242672,47.969122,-230.042383,17.551623,-155.046319,-82.507946,-174.125929,294.442506,138.056472,9.434507,74.880171,96.72766,7.111204,-73.129107,24.278337,286.231874,80.266662,-34.443594,-85.222079,-126.188541,-436.677096,-13.575014,61.740554,-95.489556,33.591,434.483015,148.442374,151.203387,20.975758,-80.438293,-28.361813,-160.633078,-161.854193,92.559838,134.394395,123.999071,-254.263788,-117.510069,143.922602,73.291889,-104.258538,-17.533597,-16.121447,93.789919,52.982402,-63.825059,-17.847422,-3.91994,39.079601,-59.747603,-32.850763,166.809213,-38.02354,-79.474885,-19.973266,57.471751,-9.975212,-143.727098,64.962538,142.639692,174.583303,406.968321,467.117199,-12.196663,55.2836,-13.679205,-50.747116,152.97665,176.760572,-102.872033,340.553608,124.808719,-118.020335,-42.356094,142.699679,67.54489,171.73203,-114.396152,37.077168,6.109684,-17.306819,-369.136359,-20.73371,4.766022,-40.848892,145.147916,95.509241,199.786813,751.485425,250.743374,-21.530101,-47.426713,-6.462181,-224.612002,123.738382,-36.171021,-134.719285,35.425943,-149.171853,127.259508,146.943801,-17.211271,-109.413462,-6.246572,404.996879,-28.105408,-58.889268,8.556313,156.314926,94.763239,-77.014069,162.254578,71.153696,29.286881,204.511133,-123.88136,16.093842,-41.905979,43.338894,46.370579,20.057411,235.922871,-78.321743,-104.029,-303.725122,197.286945,87.828974,67.593345,182.850939,37.764442,7.734824,-57.908978,-184.982589,-89.30386,-78.750916,-63.759571,-3.955718,71.10356,-114.638543,46.292237,270.127228,93.771955,-243.611058,9.602271,-177.389052,52.932451,-39.898583,-68.463228,1.899278,37.975794,-150.193512,-50.187815,64.583339,117.065039,314.017397,-15.135107,119.993286,-55.441094,-132.209743,-48.388116,13.777241,112.704017,-10.164732,151.268302,265.71758,-97.266139,-49.936101,-38.316683,-52.184527,-162.045104,5.214614,32.682617,-524.450782,108.101401,-8.871193,57.938383,8.357237,-340.531622,-15.853412,36.90233,42.280283,9.087082,-149.660084,180.957856,-34.813851,86.595386,139.679066,69.677862,-117.818571,-16.402726,-61.037806,61.018587,-30.682067,140.527689,34.341919,-40.802397,3.098012,-148.570692,-80.465056,-84.862402,343.542773,-57.557456,244.256069,30.750478,-24.361562,-48.49302,65.242913,-13.910812,99.323291,-70.101994,153.407713,-71.545499,-81.215172,376.67745,30.058568,2.430691,24.424567,77.461068,-123.521039,-40.08032,-97.681255,39.018635,-78.563818,-355.580303,-6.369554,-17.236724,-129.30478,219.962077,32.988151,46.33442,-26.409731,-47.349635,548.252587,77.373502,-103.418417,7.022688,168.746329,-92.735871,-478.40485,-263.711757,-62.289844,103.162552,28.755636,679.839161,244.735463,-75.713785,95.892639,-203.629862,81.442712,-13.05033,118.562319,45.333878,-13.519732,70.227654,94.991157,23.456485,-103.318486,-30.517937,-54.688744,-187.856782,278.499614,-171.743734,172.321542,-135.424472,-231.230169,-135.473819,-39.61261,27.437836,-52.439254,66.451983,-25.463048,-18.740174,79.39412,-370.128904,-81.188111,-27.610441,25.054142,-115.410348,-44.030129,144.109204,64.617886,-289.707393,51.367156,-84.370967,88.989033,-297.841331,62.62209,-117.067975,-33.836213,56.080664,235.56767,-96.414456,-207.26852,76.329135,-16.736869,75.59524,-40.028504,-88.433626,-177.627409,-82.221635,-26.159146,244.071041,-206.051401,238.378582,6.31155,11.107319,157.840597,238.263575,50.804361,49.973903,-441.563981,131.338151,158.676409,96.287073,-382.410914,32.572138,-32.132789,124.82236,-47.15898,97.497203,29.026605,-12.259105,201.447862,106.281625,-446.639944,102.738439,-39.840054,39.316501,-9.570604,-564.031951,-97.694191,-49.078662,-75.64726,129.028202,208.916915,43.324272,20.857018,-41.030404,-22.117131,20.422929,98.209465,23.869931,22.775585,43.704233,88.002416,27.830048,-2.394559,90.321551,-88.795343,-63.534811,-67.29492,-298.425211,-56.751441,-103.58501,-95.283014,-28.510476,58.507251,-12.272932,-2.857093,-24.702726,-171.349182,-151.671151,-166.440202,4.598197,-65.752818,-33.893154,69.289272,125.512408,-38.716153,-192.942407,-224.833689,125.468349,16.331564,-74.483863,26.813222,72.470923,309.040467,36.130938,42.250185,112.908868,48.952741,234.399605,-199.360984,-267.911088,-106.055042,-46.644243,-321.129237,-31.965586,77.216778,-63.277349,46.624157,-15.889169,-83.243938,-43.373447,-215.810699,-46.188345,246.217106,-100.088033,793.201853,10.367981,59.661753,-50.335487,-61.26219,-110.010587,-38.920225,78.372631,88.134405,-99.49446,40.023264,-20.208252,-106.427623,-9.801313,-46.853459,-248.712027,159.925774,153.181992,5.211581,59.805295,29.778501,43.080176,39.511705,23.343911,24.824541,40.283101,165.802195,-43.133195,-290.972602,-31.167275,114.335101,193.379936,60.230538,89.653795,-81.107303,24.158384,-112.571374,97.553541,-193.946531,40.194587,10.26536,-90.865585,-25.862763,101.797374,-184.79794,6.53143,-229.602997,332.626933,-89.622971,-67.247669,-14.404494,54.597694,-25.465092,-2.952464,-40.861001,32.694608,-449.49769,80.140786,81.513695,165.235246,-421.120309,-29.137502,-38.337866,-251.230882,-90.071339,-64.337502,446.490037,-63.993496,-7.279712,150.28789,-173.306253],\"y\":[54.38326,-44.940516,-90.416586,11.34295,-104.696704,11.342551,-421.107907,-1.875042,-200.358656,23.218578,111.735921,249.752627,179.00532,353.770761,125.199565,10.457005,-12.285995,116.200653,282.523086,37.800043,-102.201385,-47.186586,107.619596,34.455513,19.245746,-178.248324,4.34657,-60.923706,405.769786,-85.856812,-79.036589,427.949543,-532.982078,197.351549,160.01613,-46.69659,241.986288,188.945096,-67.294214,-25.148122,-131.757045,-156.553956,8.119165,63.239436,34.712346,-121.929664,-11.786732,-174.70532,213.333992,-19.947869,-50.026146,17.224045,19.094648,100.582515,4.433852,-118.58622,-45.848474,43.045622,23.6801,-10.12776,-615.806419,17.425556,388.994825,-477.494117,-2.170947,-2.570629,-116.897375,-418.179772,-106.141067,-14.451402,486.837108,44.27249,-91.698505,82.381091,-27.948758,-43.557358,-19.783509,-145.27503,-6.829436,143.912883,-102.422628,-299.203278,82.742929,13.935303,-40.036987,-35.488971,37.137071,-58.031157,244.94366,-9.567882,1.073507,66.922529,15.572022,-12.946371,49.433503,-2.260739,-117.853667,185.610925,-87.683011,-160.343521,52.921582,2.68337,47.07918,37.307493,45.288116,257.019589,73.309087,58.324809,-1.479341,-116.383544,15.827346,18.279047,-152.035821,-128.624965,184.856105,73.8509,-299.766661,125.123616,-15.606094,123.749688,-1.757226,12.120048,-123.139637,338.888312,-149.431269,71.411945,-346.380693,257.075793,-194.593016,-729.86602,-13.476541,-112.950874,-3.869152,214.681478,-18.018285,-40.860857,-91.993157,85.866269,0.096743,2.587769,446.721325,364.937419,-46.327124,13.182441,106.109503,527.37628,-378.686848,330.83984,202.009118,157.073019,-95.806035,75.951761,43.600528,116.911491,-54.749225,186.500769,-178.098153,132.437965,-13.001334,-58.957456,-9.269003,-46.695362,310.537882,570.354697,27.411196,43.103572,17.690953,-358.599401,-99.050066,-200.741842,114.79849,-67.719281,40.386575,-507.33623,363.60966,-27.134867,138.316837,56.284802,27.660679,157.539737,309.00542,81.52509,155.177255,-10.216864,-12.820404,-50.9521,33.653932,-346.444241,12.389756,219.762486,34.079087,-98.514144,196.863392,69.83877,158.080665,-69.71083,105.144684,408.236742,9.20556,77.379555,-134.967623,-111.746901,-44.729905,-17.302513,-304.965441,-75.475222,-730.723653,-164.418237,228.111794,-17.577561,-352.370692,190.890285,124.612056,-60.434255,-302.645004,77.722413,-56.723629,-35.154969,-4.096832,-42.930254,-241.546477,-48.231317,-0.931842,-28.161989,8.777321,-141.436428,-114.020031,-393.824803,82.275397,-211.402938,-44.584676,-144.601861,37.890013,27.547385,-541.795293,139.077068,260.263779,-50.169175,63.752514,-1.642294,-71.932093,-407.528212,25.391959,341.987381,-53.795946,65.798229,-438.253854,-37.172654,-76.363718,110.914069,121.784908,-36.711591,65.613964,62.655945,-75.913218,-66.905071,358.580551,129.501369,3.887335,69.438257,28.858758,-695.130557,-37.500319,-83.633483,106.362077,155.001471,-189.803535,-72.684938,-194.745402,15.126356,-329.846549,-163.837521,-127.797762,103.969245,-91.423327,-56.993779,-17.940597,57.475842,-84.324347,-272.699048,20.432639,-59.817222,-26.222987,-49.285581,-54.907749,6.698015,706.411475,-474.669688,-0.977547,212.470601,58.749087,-36.077569,124.581354,-87.376583,-68.342211,1.461313,-97.357229,-215.768177,-50.146392,145.400685,20.898848,32.280277,-1.294856,-230.19624,-97.669969,-52.342195,184.118364,146.803219,148.729472,133.04803,-202.206934,-11.447761,-329.645034,-71.812586,12.704391,-182.742946,350.595878,11.448156,154.082042,-62.030744,234.459048,40.929405,34.277458,232.453942,68.460303,-0.242157,-27.980221,-396.12989,-20.102389,-25.612751,67.296534,7.443818,-134.862499,-144.831634,-35.644606,-54.185166,-55.635605,217.688887,175.875059,171.964515,-4.736238,-12.749746,-12.856529,157.499965,-139.68261,110.349916,-60.330766,198.588658,38.313712,28.97603,142.586411,535.334847,-294.018419,-151.713866,39.774734,-471.615568,-227.854066,100.473956,-66.241571,-88.444941,-116.913094,-61.830709,-72.88435,7.467493,151.407045,-223.353259,6.412116,-14.618038,33.152027,115.470496,-825.766863,53.344507,18.328753,-11.122049,197.778855,87.839118,181.443039,-31.402632,46.545435,-283.722549,-31.328524,181.279292,159.730013,-103.669268,-114.398775,-164.390953,-14.836557,29.357897,81.546235,-66.427685,50.758157,218.949814,-63.077663,-48.882041,77.908727,-52.235382,34.527715,524.286133,8.640318,24.523682,-550.121922,-65.962861,-300.578841,-229.053766,-101.961387,-102.75019,21.847324,61.268856,94.124106,-114.675881,-0.592591,-40.541061,-35.941854,9.75074,-596.851097,-85.726453,-358.003501,-143.930388,99.445872,25.744248,9.075935,245.122631,378.749374,-51.244454,49.406249,-141.845549,5.674935,104.223767,132.205741,-20.133456,-82.943114,-194.73044,-105.697614,32.218612,-51.774554,-83.485117,41.828755,-144.195913,436.764283,-309.427399,181.056486,215.910421,10.710206,-32.388704,298.545482,159.491461,120.285229,294.074606,83.451803,451.366054,-18.970908,-250.178739,71.534785,-90.408906,-29.774108,3.615351,-46.169127,-151.950928,51.471371,28.604087,403.992746,-2.607858,136.807269,-250.067504,-76.240032,375.590961,280.061215,-15.843142,54.134895,42.963319,91.145833,-165.586976,44.27607,-199.773827,-77.723846,-175.075401,-197.225078,-21.182836,35.888829,171.57285,-83.712276,34.767251,82.333198,-45.049449,-5.635888,-186.825015,-40.677869,-44.796123,-138.471017,11.875322,-332.086056,-282.099222,-159.604167,-287.126641,0.189891,-91.802255,142.481058,-267.988803,-41.61437,-26.062578,-104.005498,-176.185394,96.683725,455.395612,69.550653,-67.798989,-63.75383,343.845027,-139.568806,73.744379,-21.95452,-193.410554,-257.142248,89.468066,-84.887133,-154.148228,227.313343,191.130807,14.119065,-10.933189,35.481719,94.458436,-213.231528,-424.129658,279.739706,328.379696,91.657069,144.532984,1.399296,141.218287,90.860086,-136.962203,-30.527491,-495.808545,-36.340793,157.928726,-12.037759,96.13267,-474.745433,-22.553737,-27.070751,-240.143233,-100.211905,-142.732072,74.440069,-78.150032,252.594237,-19.929557,-89.211122,-103.739353,57.828313,512.418314,19.222046,-4.35148,132.899193,35.838015,51.209144,-349.226273,28.581155,-17.479978,-85.222649,-252.704281,174.661031,-47.61573,-84.463039,-128.732159,-294.755191,97.348042,-179.80589,-137.158868,220.98184,101.442559,-88.338845,20.649878,305.610277,-0.185291,70.688759,3.694354,3.09341,56.036971,-238.658212,13.269072,-120.583002,-163.297874,38.240381,-34.390017,111.207117,4.62288,153.39578,17.383244,147.288521,199.273118,-431.228683,264.252903,-29.323811,-136.778268,-13.461122,60.029318,-203.274164,194.796722,8.503017,280.154473,320.78714,68.094599,94.676833,-21.696077,73.925406,99.656527,-3.525769,-2.022122,-17.964326,-7.48395,-99.779098,-38.696669,-45.630661,-78.998163,222.459675,266.318693,-24.586048,-202.180793,-32.606633,-122.225985,3.862805,-11.591298,-121.746749,-160.890586,617.694862,52.037163,20.83763,256.296855,71.955683,76.770112,-65.281042,31.880039,-39.309754,-61.869109,28.94586,186.408777,-80.789107,69.497239,142.329571,65.4259,-811.715287,-10.746299,-96.737555,-23.578828,50.300322,11.344068,-68.158578,-18.222745,-12.749743,65.326446,-131.495153,33.614699,-46.708488,-122.670306,-190.61304,-391.964145,-17.022163,-20.195043,12.185697,89.286044,73.964429,115.299584,-368.004234,51.828033,12.404176,59.183716,-174.006604,-186.140643,-27.2079,171.314742,-27.038123,223.92837,33.449285,-530.103259,71.016292,-11.996448,287.921009,263.773692,-241.349849,-295.711746,-75.031515,2.277363,-375.732326,-505.66029,-31.37142,49.844719,-47.691127,179.165596,222.034494,133.099227,-26.641997,160.391355,-49.434806,26.263341,-104.391528,-117.625488,94.050431,29.820635,56.962911,-118.286658,-98.242478,408.461193,52.912638,-14.350324,-72.3967,-0.29328,27.110706,-43.425767,3.990456,25.161305,9.713386,-257.883653,455.480373,-57.767805,-61.986403,121.742993,67.312536,-317.673258,27.714726,-123.920351,3.790336,-318.187709,95.223386,-53.338107,-137.86619,-57.430545,-127.924403,32.281442,-128.766242,-48.168467,35.97333,291.926429,318.832602,123.355666,-115.03192,177.751959,11.146668,174.94834,13.754945,-297.135043,-52.306301,14.598485,-221.644952,8.506875,122.745054,50.095478,4.202554,202.452602,-58.622802,3.435739,-144.089386,119.990374,-163.118678,-16.454912,-93.564573,-34.870223,-54.871604,166.796058,29.046932,-164.606644,8.481735,522.361084,-229.191882,20.266832,-3.210968,-177.515784,-82.113577,-645.452613,209.186391,2.052483,10.042089,-10.049896,201.21804,504.893159,61.706973,31.94874,-46.930593,-2.86439,-521.06418,105.877755,-57.700281,59.780608,98.819656,-214.379157,84.862344,-49.18203,-55.140162,-42.442769,269.801109,-70.872954,481.373117,608.659637,248.491588,202.103231,-197.787836,-21.066003,19.796491,125.583461,-93.452699,-83.734608,-2.209426,-130.580212,173.599146,319.084986,-170.79919,-79.823027,56.948634,-100.225021,-103.062488,-237.984471,-139.477242,84.780336,-34.776372,-81.914984,-241.617009,-36.275725,-175.035677,-6.432581,283.008987,-81.018646,-48.564812,204.824894,-45.194936,-81.61105,-285.123838,-17.641083,-168.128086,-59.72493,-230.176343,20.996351,-85.70328,409.538042,-469.682463,-1.792532,-51.640965,52.719529,-103.40582,143.622061,-79.181089,149.380734,515.161296,151.219047,-140.560798,557.074138,-62.804571,66.894089,-235.12794,-79.568745,-12.716273,8.177585,18.910565,146.296656,7.283929,-233.974978,-22.731637,378.571438,-116.095464,-47.160921,-60.783092,-0.042687,-75.942607,602.19061,61.915582,34.355297,-8.90992,-222.912101,232.338621,227.461402,-36.723852,68.601927,-124.156369,-166.383062,223.450974,-154.79945,-70.53078,31.423607,10.038797,245.753953,128.92634,188.618972,254.637308,145.722932,-146.190765,-131.014789,-39.071229,-32.731686,15.346271,-58.517516,58.747398,164.760632,123.601024,111.869482,-83.797451,1.281211,-20.519501,-14.193038,60.986585,110.861586,-50.169816,81.969013,6.314517,-44.597214,-43.61507,-18.902529,85.260397,-42.645322,188.466838,61.124084,-42.193477,-131.941424,36.4005,-211.084873,200.644494,-0.540362,95.874897,672.422695,7.379345,-60.72828,-221.888504,206.676173,-141.468764,51.543351,-24.458488,496.091206,95.577664,142.964257,-6.473031,64.282695,15.484689,-130.624471,219.986859,44.686589,-15.154303,69.407376,273.938902,-106.029161,-82.086988,26.184828,-4.38038,142.43387,-18.836537,-203.113753,-279.965143,-417.483441,-74.954299,-7.113209,-51.527995,-62.054549,-2.258946,21.759235,12.89977,137.629462,6.300177,-374.799386,-73.550252,280.071772,-168.290417,-417.696179,-206.807596,-472.385063,-5.255094,240.842267,346.397199,-101.845505,167.430342,72.903154,-131.812588,14.672689,51.086634,-20.306326,-241.212869,128.564593,-114.12265,-60.472971,-67.797719,2.828089,24.53442,-201.600629,99.387443,-218.292669,45.643254,-28.688939,-191.676154,-587.007828,-170.542211,20.775134,-16.382024,140.358358,-9.571136,7.166476,-2.581143,-87.168302,-61.352227,28.64373,-301.844259,47.637299,-58.118122,44.95891],\"z\":[136.633894,49.511471,29.914804,43.428148,31.858404,-43.897447,153.853848,-39.703404,149.268877,-18.256035,-169.651311,-133.780314,-31.335671,116.52588,13.302379,-60.860984,8.214407,-166.649077,119.422476,69.222395,-9.860445,24.977258,-261.621491,-75.786103,-188.681205,-95.272369,136.521313,19.431841,-495.828477,108.607973,-89.635618,152.794353,204.338649,57.219012,-112.628086,37.594498,129.444684,-289.098452,78.313265,-177.228516,518.218879,7.204283,-40.293025,31.044698,-35.146919,-144.139547,20.887616,788.119502,-128.203256,16.701025,55.077489,-28.579655,-77.1118,-420.861533,116.922098,76.106011,-78.789462,318.915056,-0.716424,227.179827,-728.908436,-37.407664,-411.574162,-811.115247,-182.276788,16.894316,67.934021,23.819299,79.636803,-44.359589,-22.904519,-28.592719,-89.610589,-255.211223,188.435238,61.935546,-182.159111,374.267619,98.359329,-736.306779,-100.693436,-809.054572,-79.273248,-4.893376,-7.328427,-87.789182,-93.864577,178.844214,495.342082,260.896152,-244.904062,334.04608,-89.567951,-127.165774,-22.689009,-37.584567,126.699979,86.524903,132.282842,-50.714455,301.591603,10.684878,12.580545,155.748589,14.58966,-140.780819,200.957415,-127.23007,9.810771,-103.08801,-168.099794,-65.276736,-235.670656,-292.803919,38.724443,23.462708,550.45769,95.670786,70.007106,-160.843619,371.710254,660.880954,13.943875,75.627826,258.720418,-74.739226,320.232233,-38.054156,-520.006963,165.771753,-198.853551,-26.490518,30.908058,-18.367847,-166.43102,67.693293,-119.167294,127.123164,-85.918373,91.816299,386.9022,7.530828,-177.843705,146.540106,476.034718,-374.933826,387.153913,-300.639014,83.128968,-102.333279,77.676764,-189.761484,213.48947,-164.570479,87.519832,496.154368,215.162241,4.197064,23.874312,-107.960807,38.592792,-48.93506,636.315646,-169.386813,-246.565857,207.92559,5.659223,-107.041836,83.483684,244.807984,52.438799,98.219556,44.541401,-399.04665,-233.998393,-59.587557,-79.204773,142.91018,-218.866057,-157.670059,24.056116,-130.592972,134.642876,-80.319117,37.402065,67.648323,-50.546172,133.707178,-53.840239,-250.126513,7.178773,-204.351956,165.983572,-27.835253,-103.449234,-28.068625,-147.454647,-111.2501,47.763916,32.881781,105.020801,-91.857052,222.756685,82.384975,168.099536,-28.688806,-595.11203,62.591987,-758.513573,33.181999,42.504811,344.762464,-91.909364,34.270406,-589.270013,-68.834765,35.239249,-329.223408,-2.525614,24.693416,253.118054,89.09641,8.865686,71.696306,-24.360276,111.627151,55.771495,-219.345553,5.799373,54.860973,-128.421912,-240.547268,-57.918293,58.347724,489.116345,99.773048,-228.153302,-21.52158,0.948517,-64.779174,29.018027,281.955122,13.914464,-370.763054,-168.887328,-106.002702,215.728163,-104.877456,3.628416,-56.943395,-107.005142,-136.964579,109.715123,120.688913,629.547502,-99.451605,22.908098,-201.551837,-31.477274,31.46874,-42.98109,-217.931118,-86.551335,107.20113,-16.922618,-280.422853,-9.259361,91.441141,-150.906511,14.709451,321.367824,-89.182463,34.518541,-41.56904,-83.016464,-15.867836,108.311777,-96.743586,-81.215987,146.555808,123.909853,85.41,-41.011359,126.922832,-607.756296,147.641411,-73.54604,591.807195,69.662095,337.851958,-190.975737,-26.753375,356.178507,-190.126257,-197.350803,55.183333,57.171127,-29.352885,289.800485,-476.340911,124.76447,115.388086,-243.490322,139.205791,-24.695089,15.325798,9.987852,392.224027,190.070262,27.326356,98.679931,-3.886093,165.351226,77.944174,77.385005,16.209972,-414.697801,-38.968406,-43.406109,106.245211,-39.856598,213.216335,2.132656,-290.452155,81.808812,-60.071348,178.341076,166.598202,10.630793,13.021263,-70.012481,145.89952,-106.220216,69.67303,-32.805759,105.621923,3.845394,-20.485176,-294.030287,-252.137525,720.522547,39.474946,51.496579,282.04115,17.728568,-35.81111,-48.376603,-135.135909,-17.77252,67.885162,-30.601371,-788.656891,476.230049,252.285374,-152.540072,-599.703819,20.869692,110.183513,-77.13883,225.627087,-150.713046,-10.053305,51.453664,-195.800048,-15.789909,-159.642418,6.125978,49.788676,-97.675216,194.409888,-86.32203,-165.594672,21.771712,-99.414905,221.77838,128.469404,-55.349834,-391.402325,81.883537,81.757246,-260.802563,-129.563892,61.090387,651.147675,37.060167,149.039225,-11.332246,13.983773,75.757076,309.156864,-263.692853,-250.507195,33.31537,11.505287,-150.62048,-67.352162,84.261362,559.416232,-39.065182,18.518118,-587.611845,-316.22327,153.677525,-72.699897,-206.217705,169.915722,39.415975,-83.518799,50.687766,-21.493294,-2.404388,-28.724558,-72.994168,-132.927276,3.46474,44.848666,-321.208828,-153.521649,-9.089791,12.139013,35.523681,-115.543607,159.37596,-159.3235,-55.704593,43.98358,1.260815,44.656903,11.493894,58.050466,-115.051626,38.532026,127.960544,39.848617,-16.374666,-73.529387,-145.02357,242.679109,125.742439,83.542448,89.741526,-41.728567,147.188123,-63.116532,-472.712822,-91.530613,-2.382042,234.267027,-111.191704,156.812695,-60.314109,-525.437485,68.313071,-66.639445,82.422151,-76.331395,142.811865,-21.590736,-247.364743,-2.91571,-48.107071,-57.890855,134.022128,197.358493,-100.013578,-252.577552,83.82709,53.578207,241.982416,-15.96963,170.161589,75.838879,6.302393,-156.546102,-341.151737,-92.301792,102.047455,-146.03663,-90.39532,185.517641,-347.614078,-38.831544,38.139927,22.613876,64.581571,12.438234,36.566277,-42.138524,-33.417497,-23.404792,-532.265174,-437.718737,-58.037811,-171.47254,54.63621,264.506457,13.62459,-22.25947,-49.938453,74.890474,-54.758619,95.814803,56.014347,409.237492,-224.68037,-186.832906,-254.176878,-18.383302,161.518024,1.993478,-15.219358,-111.354807,-20.694429,161.633474,114.645884,-175.042934,-164.701142,-220.761947,-75.449377,-36.057378,-216.479208,155.286225,173.31705,111.225629,183.676199,-125.989641,-58.397109,-170.310222,-11.271892,-204.205878,252.967605,-134.599046,-272.686585,115.561633,18.475266,-202.976419,-107.04207,20.944471,215.603105,6.886404,30.74135,381.086505,274.364511,81.416003,92.828154,66.031683,438.506512,-8.362081,105.033035,29.929858,-172.905493,-223.00998,5.898384,-156.559759,-2.478178,-93.100069,78.313203,-141.124466,158.956669,-21.93877,151.546002,130.264404,505.757491,39.653349,-109.892949,179.263939,-94.099398,91.907169,-46.524854,270.335514,34.038786,-23.013213,-92.867698,31.912531,34.582761,71.767395,-243.84069,1.428748,19.930414,-148.431054,-91.441307,159.785329,169.545141,128.782574,-78.069606,-72.058491,262.364494,-4.813494,-410.092775,-40.840653,233.252872,-299.684658,184.949123,418.021597,59.949761,-211.331996,-48.948282,-110.371376,147.590384,-121.761719,185.01775,69.535644,-452.049724,-158.748411,34.064835,40.54118,-16.08472,166.410949,-173.044601,12.225273,165.582915,2.847194,24.085659,-32.789385,-41.926126,-127.288575,-83.873199,-33.474162,-53.698416,-469.934939,28.475369,-129.282733,-23.89801,91.034066,-149.194954,-46.965904,-167.506821,147.753628,-89.754011,41.240251,57.201138,-73.024636,-101.024927,-286.831382,9.262086,-393.675373,84.982545,133.929407,74.35732,-73.57686,202.782753,38.41414,334.642415,187.034705,-110.428228,288.734163,6.643928,-15.963922,-6.281011,-54.592237,-59.658404,-73.557033,-107.492218,52.686589,55.317253,285.900254,318.254241,-96.971703,-69.216127,212.277852,-9.046865,16.210361,105.209976,-40.637656,82.638135,-112.021808,14.810827,-19.820491,-136.009617,39.90453,-5.099315,-55.647017,-40.619996,-137.755991,2.84302,646.558031,58.311902,-28.231282,21.597997,-189.298396,125.625265,-892.76315,-30.64399,88.284648,-345.306066,-3.023459,-215.062496,-71.625266,5.172501,164.784318,295.953509,-209.700811,-93.094153,-91.313685,272.373772,-31.098102,-105.78533,-110.909247,52.986104,76.727482,56.539819,-70.381838,72.26691,-121.030917,5.497996,11.705178,107.338632,38.032315,-537.586483,105.525433,-131.472935,2.887402,-41.733563,-296.03904,-191.833796,-33.992074,-244.479149,230.652028,215.643355,-172.556928,56.727473,-251.975744,43.476282,-337.858498,-159.750364,-73.247074,21.315526,-83.660108,27.819738,-85.552085,124.215412,52.659008,-184.366602,112.197732,-589.771387,101.017101,1.448966,65.635995,18.522577,-112.333861,-112.790865,-475.602075,-18.304857,-94.518922,352.993459,-264.116365,-97.838215,-39.41103,-143.506807,56.955051,1.076522,15.170758,65.786603,-111.749641,-295.376305,81.302047,-1.269926,33.004578,144.459263,75.098949,2.923643,74.207723,-1.389764,-473.024101,-174.903258,8.252884,-16.964523,-158.150013,-367.272073,162.425597,-74.85477,-15.686345,309.924482,-387.910933,-370.580647,-66.185992,259.216648,-21.35341,72.656718,-51.90371,-316.424348,97.008527,-111.325136,-19.742368,-90.117093,-30.105442,-75.333713,9.375079,-40.071297,57.907706,176.483418,-331.333487,477.289724,20.385579,511.759403,135.25699,-5.898217,-27.62233,-19.431284,122.067116,-9.640367,-30.747073,51.092967,-77.240455,-418.154844,-471.049716,-61.094073,1.803191,-19.78651,-317.212631,119.447695,-418.135031,-312.579038,-8.628862,-100.910572,177.258971,324.700902,20.804236,115.94118,-62.517972,243.229216,-228.206554,-79.161502,394.181101,-111.979606,107.799799,-103.179486,-71.010831,-27.438417,214.591745,-58.208094,-38.894921,87.952423,-264.137751,415.937668,1.950162,-64.543451,277.560575,-134.291178,38.906844,-93.185191,180.849791,57.677948,427.894404,-37.797433,261.782531,9.063101,-49.644748,234.269955,-82.692721,246.355872,64.191225,28.152668,-463.707202,-317.02801,-840.795656,125.358304,137.865163,95.722711,71.704747,191.670533,278.33823,-56.691554,296.953889,323.077827,150.460822,146.612744,-12.150557,51.76575,-186.516675,63.938789,207.741806,59.343734,379.435538,276.815061,-103.103917,-48.50276,10.233188,-74.277643,138.752792,64.958983,-149.647176,-389.02858,-41.561487,-90.666043,-192.884529,-12.769777,-89.228264,42.420409,28.099051,2.415146,-151.137991,-69.007197,44.1237,-88.686404,-18.799389,19.168511,-12.87739,170.421939,19.572923,-93.662045,-159.073997,-184.505946,-1.085871,120.406559,57.477908,110.808827,-46.783949,-90.841213,-66.326819,78.954798,223.188499,642.544153,286.872191,120.872846,6.732578,179.489615,-433.460198,-459.660281,-15.189501,-140.739136,-270.557543,33.287496,-49.362486,-50.502046,-412.418947,86.881,-241.179526,-127.313242,-422.280697,-51.27398,178.837141,113.318787,-20.038399,9.818874,240.333239,-390.119079,-402.576131,29.313492,-2.001539,122.334294,-111.897455,152.613078,37.895657,33.054186,128.313729,121.932643,-75.184853,32.951957,145.579145,259.597912,2.329762,-290.322685,26.004318,-57.845984,114.509607,-281.487212,226.340874,221.742348,99.941041,-23.290722,81.25467,-20.334493,-117.810613,-40.99616,-109.652616,99.577074,-89.585329,36.081403,36.512072,-38.817003,60.405876,181.321856,-27.198995,-163.14189,-479.158741,293.006324,24.759732,-88.588543,-233.258615,-66.056684,125.666838,-16.402801,56.445793,-243.392841,486.333636,-237.318712,-203.04494,-39.368176,-572.762615,-19.070117,-27.043845,2.471844,-121.433547,60.897504,-101.223441,174.765719,36.874211,-143.12057,-7.76892],\"type\":\"scatter3d\"}],                        {\"autosize\":false,\"height\":1000,\"margin\":{\"b\":100,\"l\":50,\"pad\":4,\"r\":50,\"t\":100},\"width\":1000,\"xaxis\":{\"linecolor\":\"black\",\"linewidth\":1,\"mirror\":true},\"yaxis\":{\"linecolor\":\"black\",\"linewidth\":1,\"mirror\":true},\"template\":{\"data\":{\"candlestick\":[{\"decreasing\":{\"line\":{\"color\":\"#000033\"}},\"increasing\":{\"line\":{\"color\":\"#000032\"}},\"type\":\"candlestick\"}],\"contourcarpet\":[{\"colorscale\":[[0.0,\"#000011\"],[0.1111111111111111,\"#000012\"],[0.2222222222222222,\"#000013\"],[0.3333333333333333,\"#000014\"],[0.4444444444444444,\"#000015\"],[0.5555555555555556,\"#000016\"],[0.6666666666666666,\"#000017\"],[0.7777777777777778,\"#000018\"],[0.8888888888888888,\"#000019\"],[1.0,\"#000020\"]],\"type\":\"contourcarpet\"}],\"contour\":[{\"colorscale\":[[0.0,\"#000011\"],[0.1111111111111111,\"#000012\"],[0.2222222222222222,\"#000013\"],[0.3333333333333333,\"#000014\"],[0.4444444444444444,\"#000015\"],[0.5555555555555556,\"#000016\"],[0.6666666666666666,\"#000017\"],[0.7777777777777778,\"#000018\"],[0.8888888888888888,\"#000019\"],[1.0,\"#000020\"]],\"type\":\"contour\"}],\"heatmap\":[{\"colorscale\":[[0.0,\"#000011\"],[0.1111111111111111,\"#000012\"],[0.2222222222222222,\"#000013\"],[0.3333333333333333,\"#000014\"],[0.4444444444444444,\"#000015\"],[0.5555555555555556,\"#000016\"],[0.6666666666666666,\"#000017\"],[0.7777777777777778,\"#000018\"],[0.8888888888888888,\"#000019\"],[1.0,\"#000020\"]],\"type\":\"heatmap\"}],\"histogram2d\":[{\"colorscale\":[[0.0,\"#000011\"],[0.1111111111111111,\"#000012\"],[0.2222222222222222,\"#000013\"],[0.3333333333333333,\"#000014\"],[0.4444444444444444,\"#000015\"],[0.5555555555555556,\"#000016\"],[0.6666666666666666,\"#000017\"],[0.7777777777777778,\"#000018\"],[0.8888888888888888,\"#000019\"],[1.0,\"#000020\"]],\"type\":\"histogram2d\"}],\"icicle\":[{\"textfont\":{\"color\":\"white\"},\"type\":\"icicle\"}],\"sankey\":[{\"textfont\":{\"color\":\"#000036\"},\"type\":\"sankey\"}],\"scatter\":[{\"marker\":{\"line\":{\"width\":0}},\"type\":\"scatter\"}],\"table\":[{\"cells\":{\"fill\":{\"color\":\"#000038\"},\"font\":{\"color\":\"#000037\"},\"line\":{\"color\":\"#000039\"}},\"header\":{\"fill\":{\"color\":\"#000040\"},\"font\":{\"color\":\"#000036\"},\"line\":{\"color\":\"#000039\"}},\"type\":\"table\"}],\"waterfall\":[{\"connector\":{\"line\":{\"color\":\"#000036\",\"width\":2}},\"decreasing\":{\"marker\":{\"color\":\"#000033\"}},\"increasing\":{\"marker\":{\"color\":\"#000032\"}},\"totals\":{\"marker\":{\"color\":\"#000034\"}},\"type\":\"waterfall\"}]},\"layout\":{\"coloraxis\":{\"colorscale\":[[0.0,\"#000011\"],[0.1111111111111111,\"#000012\"],[0.2222222222222222,\"#000013\"],[0.3333333333333333,\"#000014\"],[0.4444444444444444,\"#000015\"],[0.5555555555555556,\"#000016\"],[0.6666666666666666,\"#000017\"],[0.7777777777777778,\"#000018\"],[0.8888888888888888,\"#000019\"],[1.0,\"#000020\"]]},\"colorscale\":{\"diverging\":[[0.0,\"#000021\"],[0.1,\"#000022\"],[0.2,\"#000023\"],[0.3,\"#000024\"],[0.4,\"#000025\"],[0.5,\"#000026\"],[0.6,\"#000027\"],[0.7,\"#000028\"],[0.8,\"#000029\"],[0.9,\"#000030\"],[1.0,\"#000031\"]],\"sequential\":[[0.0,\"#000011\"],[0.1111111111111111,\"#000012\"],[0.2222222222222222,\"#000013\"],[0.3333333333333333,\"#000014\"],[0.4444444444444444,\"#000015\"],[0.5555555555555556,\"#000016\"],[0.6666666666666666,\"#000017\"],[0.7777777777777778,\"#000018\"],[0.8888888888888888,\"#000019\"],[1.0,\"#000020\"]],\"sequentialminus\":[[0.0,\"#000011\"],[0.1111111111111111,\"#000012\"],[0.2222222222222222,\"#000013\"],[0.3333333333333333,\"#000014\"],[0.4444444444444444,\"#000015\"],[0.5555555555555556,\"#000016\"],[0.6666666666666666,\"#000017\"],[0.7777777777777778,\"#000018\"],[0.8888888888888888,\"#000019\"],[1.0,\"#000020\"]]},\"colorway\":[\"#000001\",\"#000002\",\"#000003\",\"#000004\",\"#000005\",\"#000006\",\"#000007\",\"#000008\",\"#000009\",\"#000010\"]}}},                        {\"responsive\": true}                    ).then(function(){\n",
              "                            \n",
              "var gd = document.getElementById('335d7067-c4e9-40cb-8e29-675cc2ca97ab');\n",
              "var x = new MutationObserver(function (mutations, observer) {{\n",
              "        var display = window.getComputedStyle(gd).display;\n",
              "        if (!display || display === 'none') {{\n",
              "            console.log([gd, 'removed!']);\n",
              "            Plotly.purge(gd);\n",
              "            observer.disconnect();\n",
              "        }}\n",
              "}});\n",
              "\n",
              "// Listen for the removal of the full notebook cells\n",
              "var notebookContainer = gd.closest('#notebook-container');\n",
              "if (notebookContainer) {{\n",
              "    x.observe(notebookContainer, {childList: true});\n",
              "}}\n",
              "\n",
              "// Listen for the clearing of the current output cell\n",
              "var outputEl = gd.closest('.output');\n",
              "if (outputEl) {{\n",
              "    x.observe(outputEl, {childList: true});\n",
              "}}\n",
              "\n",
              "                        })                };                            </script>        </div>\n",
              "</body>\n",
              "</html>"
            ]
          },
          "metadata": {}
        }
      ]
    },
    {
      "cell_type": "code",
      "source": [
        "%%capture\n",
        "# Create table of stars\n",
        "stars_table = pd.DataFrame(stars)\n",
        "stars_table[\"type\"] = \"train\"\n",
        "stars_table[\"cluster\"] = kmeans.labels_\n",
        "idx = pd.DataFrame(stars_val).index\n",
        "stars_table.loc[idx, \"type\"] = \"val\"\n",
        "\n",
        "# Assign subtype depending on most frequent in the cluster\n",
        "frequency = dict()\n",
        "for j in range(n_c):\n",
        "  cluster_stars = stars_table[stars_table[\"cluster\"] == j][\"subtype\"]\n",
        "  subtype = cluster_stars.value_counts().index[0]\n",
        "  frequency[f\"{j}\"] = subtype\n",
        "\n",
        "def pred_subtype(row):\n",
        "  s = frequency[str(row.iloc[-1])]\n",
        "  return s\n",
        "val_set = stars_table[stars_table[\"type\"]==\"val\"]\n",
        "val_set[\"pred_subtype\"] = val_set.apply(pred_subtype, axis = 1)"
      ],
      "metadata": {
        "id": "MyA6hLJNZA76"
      },
      "execution_count": 24,
      "outputs": []
    },
    {
      "cell_type": "code",
      "source": [
        "val_set.head()"
      ],
      "metadata": {
        "colab": {
          "base_uri": "https://localhost:8080/",
          "height": 206
        },
        "id": "ID9JTcA5ot6T",
        "outputId": "7ab5be51-ea32-43ab-ef56-c15704e45b17"
      },
      "execution_count": 25,
      "outputs": [
        {
          "output_type": "execute_result",
          "data": {
            "text/plain": [
              "    index     id proper      dist  absmag     spect     ci           x  \\\n",
              "10  36907  36907    NaN  209.2050   0.217       A0V  0.043  -50.002486   \n",
              "23   8818   8818    NaN  104.8218  -0.712  M4III SB  1.597   63.693781   \n",
              "30  89145  89146    NaN  119.6172   4.401        G0  0.617    5.191169   \n",
              "39  62115  62116    NaN  217.3913  -0.036  K0II/III  1.140 -123.355594   \n",
              "54  44363  44363    NaN  117.0960   3.387        G0  0.470   -4.586622   \n",
              "\n",
              "             y           z subtype type  cluster pred_subtype  \n",
              "10  111.735921 -169.651311       0  val        5            0  \n",
              "23   34.455513  -75.786103       4  val        1            0  \n",
              "30  -79.036589  -89.635618       0  val        7            5  \n",
              "39  -25.148122 -177.228516       0  val        1            0  \n",
              "54    4.433852  116.922098       0  val        7            5  "
            ],
            "text/html": [
              "\n",
              "  <div id=\"df-170a62e0-6eed-4173-bdc8-73b4edda31c5\" class=\"colab-df-container\">\n",
              "    <div>\n",
              "<style scoped>\n",
              "    .dataframe tbody tr th:only-of-type {\n",
              "        vertical-align: middle;\n",
              "    }\n",
              "\n",
              "    .dataframe tbody tr th {\n",
              "        vertical-align: top;\n",
              "    }\n",
              "\n",
              "    .dataframe thead th {\n",
              "        text-align: right;\n",
              "    }\n",
              "</style>\n",
              "<table border=\"1\" class=\"dataframe\">\n",
              "  <thead>\n",
              "    <tr style=\"text-align: right;\">\n",
              "      <th></th>\n",
              "      <th>index</th>\n",
              "      <th>id</th>\n",
              "      <th>proper</th>\n",
              "      <th>dist</th>\n",
              "      <th>absmag</th>\n",
              "      <th>spect</th>\n",
              "      <th>ci</th>\n",
              "      <th>x</th>\n",
              "      <th>y</th>\n",
              "      <th>z</th>\n",
              "      <th>subtype</th>\n",
              "      <th>type</th>\n",
              "      <th>cluster</th>\n",
              "      <th>pred_subtype</th>\n",
              "    </tr>\n",
              "  </thead>\n",
              "  <tbody>\n",
              "    <tr>\n",
              "      <th>10</th>\n",
              "      <td>36907</td>\n",
              "      <td>36907</td>\n",
              "      <td>NaN</td>\n",
              "      <td>209.2050</td>\n",
              "      <td>0.217</td>\n",
              "      <td>A0V</td>\n",
              "      <td>0.043</td>\n",
              "      <td>-50.002486</td>\n",
              "      <td>111.735921</td>\n",
              "      <td>-169.651311</td>\n",
              "      <td>0</td>\n",
              "      <td>val</td>\n",
              "      <td>5</td>\n",
              "      <td>0</td>\n",
              "    </tr>\n",
              "    <tr>\n",
              "      <th>23</th>\n",
              "      <td>8818</td>\n",
              "      <td>8818</td>\n",
              "      <td>NaN</td>\n",
              "      <td>104.8218</td>\n",
              "      <td>-0.712</td>\n",
              "      <td>M4III SB</td>\n",
              "      <td>1.597</td>\n",
              "      <td>63.693781</td>\n",
              "      <td>34.455513</td>\n",
              "      <td>-75.786103</td>\n",
              "      <td>4</td>\n",
              "      <td>val</td>\n",
              "      <td>1</td>\n",
              "      <td>0</td>\n",
              "    </tr>\n",
              "    <tr>\n",
              "      <th>30</th>\n",
              "      <td>89145</td>\n",
              "      <td>89146</td>\n",
              "      <td>NaN</td>\n",
              "      <td>119.6172</td>\n",
              "      <td>4.401</td>\n",
              "      <td>G0</td>\n",
              "      <td>0.617</td>\n",
              "      <td>5.191169</td>\n",
              "      <td>-79.036589</td>\n",
              "      <td>-89.635618</td>\n",
              "      <td>0</td>\n",
              "      <td>val</td>\n",
              "      <td>7</td>\n",
              "      <td>5</td>\n",
              "    </tr>\n",
              "    <tr>\n",
              "      <th>39</th>\n",
              "      <td>62115</td>\n",
              "      <td>62116</td>\n",
              "      <td>NaN</td>\n",
              "      <td>217.3913</td>\n",
              "      <td>-0.036</td>\n",
              "      <td>K0II/III</td>\n",
              "      <td>1.140</td>\n",
              "      <td>-123.355594</td>\n",
              "      <td>-25.148122</td>\n",
              "      <td>-177.228516</td>\n",
              "      <td>0</td>\n",
              "      <td>val</td>\n",
              "      <td>1</td>\n",
              "      <td>0</td>\n",
              "    </tr>\n",
              "    <tr>\n",
              "      <th>54</th>\n",
              "      <td>44363</td>\n",
              "      <td>44363</td>\n",
              "      <td>NaN</td>\n",
              "      <td>117.0960</td>\n",
              "      <td>3.387</td>\n",
              "      <td>G0</td>\n",
              "      <td>0.470</td>\n",
              "      <td>-4.586622</td>\n",
              "      <td>4.433852</td>\n",
              "      <td>116.922098</td>\n",
              "      <td>0</td>\n",
              "      <td>val</td>\n",
              "      <td>7</td>\n",
              "      <td>5</td>\n",
              "    </tr>\n",
              "  </tbody>\n",
              "</table>\n",
              "</div>\n",
              "    <div class=\"colab-df-buttons\">\n",
              "\n",
              "  <div class=\"colab-df-container\">\n",
              "    <button class=\"colab-df-convert\" onclick=\"convertToInteractive('df-170a62e0-6eed-4173-bdc8-73b4edda31c5')\"\n",
              "            title=\"Convert this dataframe to an interactive table.\"\n",
              "            style=\"display:none;\">\n",
              "\n",
              "  <svg xmlns=\"http://www.w3.org/2000/svg\" height=\"24px\" viewBox=\"0 -960 960 960\">\n",
              "    <path d=\"M120-120v-720h720v720H120Zm60-500h600v-160H180v160Zm220 220h160v-160H400v160Zm0 220h160v-160H400v160ZM180-400h160v-160H180v160Zm440 0h160v-160H620v160ZM180-180h160v-160H180v160Zm440 0h160v-160H620v160Z\"/>\n",
              "  </svg>\n",
              "    </button>\n",
              "\n",
              "  <style>\n",
              "    .colab-df-container {\n",
              "      display:flex;\n",
              "      gap: 12px;\n",
              "    }\n",
              "\n",
              "    .colab-df-convert {\n",
              "      background-color: #E8F0FE;\n",
              "      border: none;\n",
              "      border-radius: 50%;\n",
              "      cursor: pointer;\n",
              "      display: none;\n",
              "      fill: #1967D2;\n",
              "      height: 32px;\n",
              "      padding: 0 0 0 0;\n",
              "      width: 32px;\n",
              "    }\n",
              "\n",
              "    .colab-df-convert:hover {\n",
              "      background-color: #E2EBFA;\n",
              "      box-shadow: 0px 1px 2px rgba(60, 64, 67, 0.3), 0px 1px 3px 1px rgba(60, 64, 67, 0.15);\n",
              "      fill: #174EA6;\n",
              "    }\n",
              "\n",
              "    .colab-df-buttons div {\n",
              "      margin-bottom: 4px;\n",
              "    }\n",
              "\n",
              "    [theme=dark] .colab-df-convert {\n",
              "      background-color: #3B4455;\n",
              "      fill: #D2E3FC;\n",
              "    }\n",
              "\n",
              "    [theme=dark] .colab-df-convert:hover {\n",
              "      background-color: #434B5C;\n",
              "      box-shadow: 0px 1px 3px 1px rgba(0, 0, 0, 0.15);\n",
              "      filter: drop-shadow(0px 1px 2px rgba(0, 0, 0, 0.3));\n",
              "      fill: #FFFFFF;\n",
              "    }\n",
              "  </style>\n",
              "\n",
              "    <script>\n",
              "      const buttonEl =\n",
              "        document.querySelector('#df-170a62e0-6eed-4173-bdc8-73b4edda31c5 button.colab-df-convert');\n",
              "      buttonEl.style.display =\n",
              "        google.colab.kernel.accessAllowed ? 'block' : 'none';\n",
              "\n",
              "      async function convertToInteractive(key) {\n",
              "        const element = document.querySelector('#df-170a62e0-6eed-4173-bdc8-73b4edda31c5');\n",
              "        const dataTable =\n",
              "          await google.colab.kernel.invokeFunction('convertToInteractive',\n",
              "                                                    [key], {});\n",
              "        if (!dataTable) return;\n",
              "\n",
              "        const docLinkHtml = 'Like what you see? Visit the ' +\n",
              "          '<a target=\"_blank\" href=https://colab.research.google.com/notebooks/data_table.ipynb>data table notebook</a>'\n",
              "          + ' to learn more about interactive tables.';\n",
              "        element.innerHTML = '';\n",
              "        dataTable['output_type'] = 'display_data';\n",
              "        await google.colab.output.renderOutput(dataTable, element);\n",
              "        const docLink = document.createElement('div');\n",
              "        docLink.innerHTML = docLinkHtml;\n",
              "        element.appendChild(docLink);\n",
              "      }\n",
              "    </script>\n",
              "  </div>\n",
              "\n",
              "\n",
              "<div id=\"df-38e52e93-d199-4d3c-b189-96f5ed1626db\">\n",
              "  <button class=\"colab-df-quickchart\" onclick=\"quickchart('df-38e52e93-d199-4d3c-b189-96f5ed1626db')\"\n",
              "            title=\"Suggest charts\"\n",
              "            style=\"display:none;\">\n",
              "\n",
              "<svg xmlns=\"http://www.w3.org/2000/svg\" height=\"24px\"viewBox=\"0 0 24 24\"\n",
              "     width=\"24px\">\n",
              "    <g>\n",
              "        <path d=\"M19 3H5c-1.1 0-2 .9-2 2v14c0 1.1.9 2 2 2h14c1.1 0 2-.9 2-2V5c0-1.1-.9-2-2-2zM9 17H7v-7h2v7zm4 0h-2V7h2v10zm4 0h-2v-4h2v4z\"/>\n",
              "    </g>\n",
              "</svg>\n",
              "  </button>\n",
              "\n",
              "<style>\n",
              "  .colab-df-quickchart {\n",
              "      --bg-color: #E8F0FE;\n",
              "      --fill-color: #1967D2;\n",
              "      --hover-bg-color: #E2EBFA;\n",
              "      --hover-fill-color: #174EA6;\n",
              "      --disabled-fill-color: #AAA;\n",
              "      --disabled-bg-color: #DDD;\n",
              "  }\n",
              "\n",
              "  [theme=dark] .colab-df-quickchart {\n",
              "      --bg-color: #3B4455;\n",
              "      --fill-color: #D2E3FC;\n",
              "      --hover-bg-color: #434B5C;\n",
              "      --hover-fill-color: #FFFFFF;\n",
              "      --disabled-bg-color: #3B4455;\n",
              "      --disabled-fill-color: #666;\n",
              "  }\n",
              "\n",
              "  .colab-df-quickchart {\n",
              "    background-color: var(--bg-color);\n",
              "    border: none;\n",
              "    border-radius: 50%;\n",
              "    cursor: pointer;\n",
              "    display: none;\n",
              "    fill: var(--fill-color);\n",
              "    height: 32px;\n",
              "    padding: 0;\n",
              "    width: 32px;\n",
              "  }\n",
              "\n",
              "  .colab-df-quickchart:hover {\n",
              "    background-color: var(--hover-bg-color);\n",
              "    box-shadow: 0 1px 2px rgba(60, 64, 67, 0.3), 0 1px 3px 1px rgba(60, 64, 67, 0.15);\n",
              "    fill: var(--button-hover-fill-color);\n",
              "  }\n",
              "\n",
              "  .colab-df-quickchart-complete:disabled,\n",
              "  .colab-df-quickchart-complete:disabled:hover {\n",
              "    background-color: var(--disabled-bg-color);\n",
              "    fill: var(--disabled-fill-color);\n",
              "    box-shadow: none;\n",
              "  }\n",
              "\n",
              "  .colab-df-spinner {\n",
              "    border: 2px solid var(--fill-color);\n",
              "    border-color: transparent;\n",
              "    border-bottom-color: var(--fill-color);\n",
              "    animation:\n",
              "      spin 1s steps(1) infinite;\n",
              "  }\n",
              "\n",
              "  @keyframes spin {\n",
              "    0% {\n",
              "      border-color: transparent;\n",
              "      border-bottom-color: var(--fill-color);\n",
              "      border-left-color: var(--fill-color);\n",
              "    }\n",
              "    20% {\n",
              "      border-color: transparent;\n",
              "      border-left-color: var(--fill-color);\n",
              "      border-top-color: var(--fill-color);\n",
              "    }\n",
              "    30% {\n",
              "      border-color: transparent;\n",
              "      border-left-color: var(--fill-color);\n",
              "      border-top-color: var(--fill-color);\n",
              "      border-right-color: var(--fill-color);\n",
              "    }\n",
              "    40% {\n",
              "      border-color: transparent;\n",
              "      border-right-color: var(--fill-color);\n",
              "      border-top-color: var(--fill-color);\n",
              "    }\n",
              "    60% {\n",
              "      border-color: transparent;\n",
              "      border-right-color: var(--fill-color);\n",
              "    }\n",
              "    80% {\n",
              "      border-color: transparent;\n",
              "      border-right-color: var(--fill-color);\n",
              "      border-bottom-color: var(--fill-color);\n",
              "    }\n",
              "    90% {\n",
              "      border-color: transparent;\n",
              "      border-bottom-color: var(--fill-color);\n",
              "    }\n",
              "  }\n",
              "</style>\n",
              "\n",
              "  <script>\n",
              "    async function quickchart(key) {\n",
              "      const quickchartButtonEl =\n",
              "        document.querySelector('#' + key + ' button');\n",
              "      quickchartButtonEl.disabled = true;  // To prevent multiple clicks.\n",
              "      quickchartButtonEl.classList.add('colab-df-spinner');\n",
              "      try {\n",
              "        const charts = await google.colab.kernel.invokeFunction(\n",
              "            'suggestCharts', [key], {});\n",
              "      } catch (error) {\n",
              "        console.error('Error during call to suggestCharts:', error);\n",
              "      }\n",
              "      quickchartButtonEl.classList.remove('colab-df-spinner');\n",
              "      quickchartButtonEl.classList.add('colab-df-quickchart-complete');\n",
              "    }\n",
              "    (() => {\n",
              "      let quickchartButtonEl =\n",
              "        document.querySelector('#df-38e52e93-d199-4d3c-b189-96f5ed1626db button');\n",
              "      quickchartButtonEl.style.display =\n",
              "        google.colab.kernel.accessAllowed ? 'block' : 'none';\n",
              "    })();\n",
              "  </script>\n",
              "</div>\n",
              "    </div>\n",
              "  </div>\n"
            ]
          },
          "metadata": {},
          "execution_count": 25
        }
      ]
    },
    {
      "cell_type": "code",
      "source": [
        "# Compute accuracy\n",
        "true = val_set[\"subtype\"].astype(float)\n",
        "pred = val_set[\"pred_subtype\"].astype(float)\n",
        "print(\"Accuracy:\", sum(true == pred)/val_set.shape[0]*100, \"%\")\n",
        "print(\"Accuracy (at most 1):\", sum(abs(true - pred)<2)/val_set.shape[0]*100, \"%\")\n",
        "print(\"Accuracy (at most 2):\", sum(abs(true - pred)<3)/val_set.shape[0]*100, \"%\")\n",
        "print(\"Accuracy (at most 3):\", sum(abs(true - pred)<4)/val_set.shape[0]*100, \"%\")\n",
        "print(\"Accuracy (at most 4):\", sum(abs(true - pred)<5)/val_set.shape[0]*100, \"%\")"
      ],
      "metadata": {
        "colab": {
          "base_uri": "https://localhost:8080/"
        },
        "id": "OV5Aw4ILdU9f",
        "outputId": "a914804c-5463-4073-d9fa-f16097091155"
      },
      "execution_count": 26,
      "outputs": [
        {
          "output_type": "stream",
          "name": "stdout",
          "text": [
            "Accuracy: 32.0 %\n",
            "Accuracy (at most 1): 39.0 %\n",
            "Accuracy (at most 2): 57.99999999999999 %\n",
            "Accuracy (at most 3): 68.0 %\n",
            "Accuracy (at most 4): 72.0 %\n"
          ]
        }
      ]
    },
    {
      "cell_type": "code",
      "source": [
        "# Assign subtype depending on cluster membership\n"
      ],
      "metadata": {
        "id": "a-nmD2jVP3Nb"
      },
      "execution_count": 27,
      "outputs": []
    },
    {
      "cell_type": "markdown",
      "source": [
        "## Graph Neural Network (GNN)"
      ],
      "metadata": {
        "id": "59WLZ0G-qeag"
      }
    },
    {
      "cell_type": "code",
      "source": [],
      "metadata": {
        "id": "-uGz5ioTqsh4"
      },
      "execution_count": 27,
      "outputs": []
    },
    {
      "cell_type": "markdown",
      "source": [
        "## Evaluation"
      ],
      "metadata": {
        "id": "ND6izx7MqtAZ"
      }
    },
    {
      "cell_type": "code",
      "source": [],
      "metadata": {
        "id": "H-9dMKsvquLw"
      },
      "execution_count": 27,
      "outputs": []
    },
    {
      "cell_type": "markdown",
      "source": [
        "## Conclusion"
      ],
      "metadata": {
        "id": "9EOzgA3UqvEE"
      }
    },
    {
      "cell_type": "code",
      "source": [],
      "metadata": {
        "id": "1_Fudjv5qv_D"
      },
      "execution_count": 27,
      "outputs": []
    }
  ]
}